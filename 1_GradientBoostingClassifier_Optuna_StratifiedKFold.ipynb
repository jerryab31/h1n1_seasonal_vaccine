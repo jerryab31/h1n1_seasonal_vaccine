{
 "cells": [
  {
   "cell_type": "code",
   "execution_count": 1,
   "id": "2c7a9f0c",
   "metadata": {},
   "outputs": [],
   "source": [
    "import pandas as pd \n",
    "import numpy as np\n",
    "from matplotlib import pyplot as plt \n",
    "%matplotlib inline\n",
    "\n",
    "import optuna\n",
    "from sklearn.ensemble import GradientBoostingClassifier\n",
    "from xgboost import XGBClassifier\n",
    "\n",
    "from sklearn.metrics import roc_auc_score\n",
    "from sklearn.model_selection import train_test_split, StratifiedKFold\n",
    "from sklearn.model_selection import cross_val_score, cross_val_predict\n",
    "\n",
    "from sklearn.impute import SimpleImputer\n",
    "from sklearn.compose import ColumnTransformer\n",
    "from sklearn.pipeline import Pipeline\n",
    "from sklearn.multioutput import MultiOutputClassifier\n",
    "from sklearn.preprocessing import MinMaxScaler,OneHotEncoder,OrdinalEncoder"
   ]
  },
  {
   "cell_type": "code",
   "execution_count": 2,
   "id": "fba85383",
   "metadata": {},
   "outputs": [
    {
     "name": "stdout",
     "output_type": "stream",
     "text": [
      "               h1n1_concern  h1n1_knowledge  behavioral_antiviral_meds  \\\n",
      "respondent_id                                                            \n",
      "0                       1.0             0.0                        0.0   \n",
      "1                       3.0             2.0                        0.0   \n",
      "\n",
      "               behavioral_avoidance  behavioral_face_mask  \\\n",
      "respondent_id                                               \n",
      "0                               0.0                   0.0   \n",
      "1                               1.0                   0.0   \n",
      "\n",
      "               behavioral_wash_hands  behavioral_large_gatherings  \\\n",
      "respondent_id                                                       \n",
      "0                                0.0                          0.0   \n",
      "1                                1.0                          0.0   \n",
      "\n",
      "               behavioral_outside_home  behavioral_touch_face  \\\n",
      "respondent_id                                                   \n",
      "0                                  1.0                    1.0   \n",
      "1                                  1.0                    1.0   \n",
      "\n",
      "               doctor_recc_h1n1  ...  income_poverty  marital_status  \\\n",
      "respondent_id                    ...                                   \n",
      "0                           0.0  ...   Below Poverty     Not Married   \n",
      "1                           0.0  ...   Below Poverty     Not Married   \n",
      "\n",
      "               rent_or_own   employment_status  hhs_geo_region  \\\n",
      "respondent_id                                                    \n",
      "0                      Own  Not in Labor Force        oxchjgsf   \n",
      "1                     Rent            Employed        bhuqouqj   \n",
      "\n",
      "                             census_msa  household_adults  household_children  \\\n",
      "respondent_id                                                                   \n",
      "0                               Non-MSA               0.0                 0.0   \n",
      "1              MSA, Not Principle  City               0.0                 0.0   \n",
      "\n",
      "               employment_industry  employment_occupation  \n",
      "respondent_id                                              \n",
      "0                              NaN                    NaN  \n",
      "1                         pxcmvdjn               xgwztkwe  \n",
      "\n",
      "[2 rows x 35 columns]\n",
      "               h1n1_vaccine  seasonal_vaccine\n",
      "respondent_id                                \n",
      "0                         0                 0\n",
      "1                         0                 1\n"
     ]
    }
   ],
   "source": [
    "X = pd.read_csv('training_set_features.csv',index_col='respondent_id') \n",
    "y = pd.read_csv('training_set_labels.csv',index_col='respondent_id')\n",
    "print(X.head(2))\n",
    "print(y.head(2))"
   ]
  },
  {
   "cell_type": "code",
   "execution_count": 3,
   "id": "5ce2d16b",
   "metadata": {},
   "outputs": [],
   "source": [
    "#indices are matching\n",
    "np.testing.assert_array_equal(X.index.values,y.index.values)"
   ]
  },
  {
   "cell_type": "code",
   "execution_count": 4,
   "id": "b37f8d7d",
   "metadata": {},
   "outputs": [
    {
     "name": "stdout",
     "output_type": "stream",
     "text": [
      "(26707, 35)\n",
      "(26707, 2)\n"
     ]
    }
   ],
   "source": [
    "print(X.shape)\n",
    "print(y.shape)"
   ]
  },
  {
   "cell_type": "code",
   "execution_count": 5,
   "id": "ce5516f4",
   "metadata": {},
   "outputs": [
    {
     "name": "stdout",
     "output_type": "stream",
     "text": [
      "age_group ['55 - 64 Years' '35 - 44 Years' '18 - 34 Years' '65+ Years'\n",
      " '45 - 54 Years']\n",
      "education ['< 12 Years' '12 Years' 'College Graduate' 'Some College' nan]\n",
      "race ['White' 'Black' 'Other or Multiple' 'Hispanic']\n",
      "sex ['Female' 'Male']\n",
      "income_poverty ['Below Poverty' '<= $75,000, Above Poverty' '> $75,000' nan]\n",
      "marital_status ['Not Married' 'Married' nan]\n",
      "rent_or_own ['Own' 'Rent' nan]\n",
      "employment_status ['Not in Labor Force' 'Employed' 'Unemployed' nan]\n",
      "hhs_geo_region ['oxchjgsf' 'bhuqouqj' 'qufhixun' 'lrircsnp' 'atmpeygn' 'lzgpxyit'\n",
      " 'fpwskwrf' 'mlyzmhmf' 'dqpwygqj' 'kbazzjca']\n",
      "census_msa ['Non-MSA' 'MSA, Not Principle  City' 'MSA, Principle City']\n",
      "employment_industry [nan 'pxcmvdjn' 'rucpziij' 'wxleyezf' 'saaquncn' 'xicduogh' 'ldnlellj'\n",
      " 'wlfvacwt' 'nduyfdeo' 'fcxhlnwr' 'vjjrobsf' 'arjwrbjb' 'atmlpfrs'\n",
      " 'msuufmds' 'xqicxuve' 'phxvnwax' 'dotnnunm' 'mfikgejo' 'cfqqtusy'\n",
      " 'mcubkhph' 'haxffmxo' 'qnlwzans']\n",
      "employment_occupation [nan 'xgwztkwe' 'xtkaffoo' 'emcorrxb' 'vlluhbov' 'xqwwgdyp' 'ccgxvspp'\n",
      " 'qxajmpny' 'kldqjyjy' 'mxkfnird' 'hfxkjkmi' 'bxpfxfdn' 'ukymxvdu'\n",
      " 'cmhcxjea' 'haliazsg' 'dlvbwzss' 'xzmlyyjv' 'oijqvulv' 'rcertsgn'\n",
      " 'tfqavkke' 'hodpvpew' 'uqqtjvyb' 'pvmttkik' 'dcjcmpih']\n"
     ]
    }
   ],
   "source": [
    "for col in X.select_dtypes(include='object').columns.to_list():    \n",
    "        print(col, X[col].unique())"
   ]
  },
  {
   "cell_type": "code",
   "execution_count": 6,
   "id": "550ad918",
   "metadata": {},
   "outputs": [
    {
     "data": {
      "text/plain": [
       "h1n1_concern                   float64\n",
       "h1n1_knowledge                 float64\n",
       "behavioral_antiviral_meds      float64\n",
       "behavioral_avoidance           float64\n",
       "behavioral_face_mask           float64\n",
       "behavioral_wash_hands          float64\n",
       "behavioral_large_gatherings    float64\n",
       "behavioral_outside_home        float64\n",
       "behavioral_touch_face          float64\n",
       "doctor_recc_h1n1               float64\n",
       "doctor_recc_seasonal           float64\n",
       "chronic_med_condition          float64\n",
       "child_under_6_months           float64\n",
       "health_worker                  float64\n",
       "health_insurance               float64\n",
       "opinion_h1n1_vacc_effective    float64\n",
       "opinion_h1n1_risk              float64\n",
       "opinion_h1n1_sick_from_vacc    float64\n",
       "opinion_seas_vacc_effective    float64\n",
       "opinion_seas_risk              float64\n",
       "opinion_seas_sick_from_vacc    float64\n",
       "age_group                       object\n",
       "education                       object\n",
       "race                            object\n",
       "sex                             object\n",
       "income_poverty                  object\n",
       "marital_status                  object\n",
       "rent_or_own                     object\n",
       "employment_status               object\n",
       "hhs_geo_region                  object\n",
       "census_msa                      object\n",
       "household_adults               float64\n",
       "household_children             float64\n",
       "employment_industry             object\n",
       "employment_occupation           object\n",
       "dtype: object"
      ]
     },
     "execution_count": 6,
     "metadata": {},
     "output_type": "execute_result"
    }
   ],
   "source": [
    "X.dtypes"
   ]
  },
  {
   "cell_type": "code",
   "execution_count": 7,
   "id": "91afd489",
   "metadata": {},
   "outputs": [
    {
     "data": {
      "text/plain": [
       "['h1n1_concern',\n",
       " 'h1n1_knowledge',\n",
       " 'behavioral_antiviral_meds',\n",
       " 'behavioral_avoidance',\n",
       " 'behavioral_face_mask',\n",
       " 'behavioral_wash_hands',\n",
       " 'behavioral_large_gatherings',\n",
       " 'behavioral_outside_home',\n",
       " 'behavioral_touch_face',\n",
       " 'doctor_recc_h1n1',\n",
       " 'doctor_recc_seasonal',\n",
       " 'chronic_med_condition',\n",
       " 'child_under_6_months',\n",
       " 'health_worker',\n",
       " 'health_insurance',\n",
       " 'opinion_h1n1_vacc_effective',\n",
       " 'opinion_h1n1_risk',\n",
       " 'opinion_h1n1_sick_from_vacc',\n",
       " 'opinion_seas_vacc_effective',\n",
       " 'opinion_seas_risk',\n",
       " 'opinion_seas_sick_from_vacc',\n",
       " 'household_adults',\n",
       " 'household_children']"
      ]
     },
     "execution_count": 7,
     "metadata": {},
     "output_type": "execute_result"
    }
   ],
   "source": [
    "numeric_features= X.select_dtypes(include='float64').columns.to_list()\n",
    "numeric_features"
   ]
  },
  {
   "cell_type": "code",
   "execution_count": 8,
   "id": "31ba4419",
   "metadata": {},
   "outputs": [],
   "source": [
    "ordinal_features=['education','income_poverty']\n",
    "categorical_features = [['< 12 Years','12 Years','Some College',\n",
    "                         'College Graduate'],\n",
    "                       ['Below Poverty','<= $75,000, Above Poverty',\n",
    "                       '> $75,000']]"
   ]
  },
  {
   "cell_type": "code",
   "execution_count": 9,
   "id": "75d21923",
   "metadata": {},
   "outputs": [
    {
     "data": {
      "text/plain": [
       "['age_group',\n",
       " 'race',\n",
       " 'sex',\n",
       " 'marital_status',\n",
       " 'rent_or_own',\n",
       " 'employment_status',\n",
       " 'hhs_geo_region',\n",
       " 'census_msa',\n",
       " 'employment_industry',\n",
       " 'employment_occupation']"
      ]
     },
     "execution_count": 9,
     "metadata": {},
     "output_type": "execute_result"
    }
   ],
   "source": [
    "items = X.select_dtypes(include='object').columns.to_list()\n",
    "nominal_features=[item for item in items if item not in ordinal_features]\n",
    "nominal_features"
   ]
  },
  {
   "cell_type": "code",
   "execution_count": 10,
   "id": "7857f9f2",
   "metadata": {},
   "outputs": [],
   "source": [
    "#Preprocessing\n",
    "numeric_pipeline = Pipeline([\n",
    "    ('imputer',SimpleImputer(strategy='mean')),\n",
    "    ('scaler',MinMaxScaler())\n",
    "])\n",
    "\n",
    "oridnal_pipeline = Pipeline([\n",
    "    ('imputer',SimpleImputer(strategy='most_frequent')),\n",
    "    ('ordinal',OrdinalEncoder(categories=categorical_features))\n",
    "    \n",
    "])\n",
    "\n",
    "nominal_pipeline = Pipeline([\n",
    "    ('imputer',SimpleImputer(strategy='most_frequent')),\n",
    "    ('onehot',OneHotEncoder(handle_unknown='ignore'))\n",
    "])\n",
    "\n",
    "preprocessor = ColumnTransformer([\n",
    "    ('num',numeric_pipeline,numeric_features),\n",
    "    ('ord',oridnal_pipeline,ordinal_features),\n",
    "    ('nom',nominal_pipeline,nominal_features)\n",
    "])"
   ]
  },
  {
   "cell_type": "code",
   "execution_count": 11,
   "id": "bce7b1cd",
   "metadata": {},
   "outputs": [
    {
     "data": {
      "text/plain": [
       "Index(['h1n1_concern', 'h1n1_knowledge', 'behavioral_antiviral_meds',\n",
       "       'behavioral_avoidance', 'behavioral_face_mask', 'behavioral_wash_hands',\n",
       "       'behavioral_large_gatherings', 'behavioral_outside_home',\n",
       "       'behavioral_touch_face', 'doctor_recc_h1n1', 'doctor_recc_seasonal',\n",
       "       'chronic_med_condition', 'child_under_6_months', 'health_worker',\n",
       "       'health_insurance', 'opinion_h1n1_vacc_effective', 'opinion_h1n1_risk',\n",
       "       'opinion_h1n1_sick_from_vacc', 'opinion_seas_vacc_effective',\n",
       "       'opinion_seas_risk', 'opinion_seas_sick_from_vacc', 'household_adults',\n",
       "       'household_children', 'education', 'income_poverty', 'age_group',\n",
       "       'race', 'sex', 'marital_status', 'rent_or_own', 'employment_status',\n",
       "       'hhs_geo_region', 'census_msa', 'employment_industry',\n",
       "       'employment_occupation'],\n",
       "      dtype='object')"
      ]
     },
     "execution_count": 11,
     "metadata": {},
     "output_type": "execute_result"
    }
   ],
   "source": [
    "X = X[numeric_features+ordinal_features+nominal_features]\n",
    "X.columns "
   ]
  },
  {
   "cell_type": "code",
   "execution_count": 12,
   "id": "a324658f",
   "metadata": {},
   "outputs": [
    {
     "name": "stdout",
     "output_type": "stream",
     "text": [
      "respondent_id\n"
     ]
    }
   ],
   "source": [
    "print(X.index.name)"
   ]
  },
  {
   "cell_type": "code",
   "execution_count": 13,
   "id": "591940cf",
   "metadata": {},
   "outputs": [
    {
     "data": {
      "text/plain": [
       "(26707, 100)"
      ]
     },
     "execution_count": 13,
     "metadata": {},
     "output_type": "execute_result"
    }
   ],
   "source": [
    "X_transformed = preprocessor.fit_transform(X)\n",
    "X_transformed.shape"
   ]
  },
  {
   "cell_type": "code",
   "execution_count": 14,
   "id": "6097bce0",
   "metadata": {},
   "outputs": [
    {
     "data": {
      "text/plain": [
       "respondent_id\n",
       "0    0_0\n",
       "1    0_1\n",
       "2    0_0\n",
       "3    0_1\n",
       "4    0_0\n",
       "dtype: object"
      ]
     },
     "execution_count": 14,
     "metadata": {},
     "output_type": "execute_result"
    }
   ],
   "source": [
    "#train_test_split\n",
    "y_combined = y['h1n1_vaccine'].astype(str)+'_'+y['seasonal_vaccine'].astype(str)\n",
    "y_combined[:5]\n",
    "# not using this"
   ]
  },
  {
   "cell_type": "code",
   "execution_count": 15,
   "id": "1c7501a5",
   "metadata": {},
   "outputs": [],
   "source": [
    "X_train,X_test,y_train,y_test = train_test_split(X,y,test_size=0.2,                                                 \n",
    "                                                 stratify=y,\n",
    "                                                random_state=42)"
   ]
  },
  {
   "cell_type": "code",
   "execution_count": 16,
   "id": "db6ff211",
   "metadata": {},
   "outputs": [],
   "source": [
    "#Optuna\n",
    "def objective(trial):\n",
    "    params = {\n",
    "        'learning_rate':trial.suggest_float('learning_rate',0.05,0.2),\n",
    "        'n_estimators':trial.suggest_int('n_estimators',80,250),\n",
    "        'subsample':trial.suggest_float('subsample',0.6,0.85),\n",
    "        'min_samples_split':trial.suggest_int('min_samples_split',2,10),\n",
    "        'max_depth':trial.suggest_int('max_depth',2,6),\n",
    "        'max_features':trial.suggest_categorical('max_features',['sqrt','log2']),\n",
    "        'random_state':42        \n",
    "    }\n",
    "    \n",
    "    model_h1n1= Pipeline([\n",
    "        ('preprocessing',preprocessor),\n",
    "        ('classifier',GradientBoostingClassifier(**params,\n",
    "        validation_fraction=0.1,\n",
    "        n_iter_no_change=20))\n",
    "    ])\n",
    "    \n",
    "    model_seasonal= Pipeline([\n",
    "        ('preprocessing',preprocessor),\n",
    "        ('classifier',GradientBoostingClassifier(**params,\n",
    "        validation_fraction=0.1,\n",
    "        n_iter_no_change=20))\n",
    "    ])\n",
    "    \n",
    "    skf=StratifiedKFold(n_splits=5,shuffle=True,random_state=42)\n",
    "    \n",
    "    y_pred_h1n1 = cross_val_predict(model_h1n1, X_train,y_train['h1n1_vaccine'],\n",
    "                                    cv=skf,method='predict_proba')\n",
    "    y_pred_seasonal = cross_val_predict(model_seasonal, X_train,y_train['seasonal_vaccine'],\n",
    "                                    cv=skf,method='predict_proba')\n",
    "    \n",
    "    roc_auc_h1n1 = roc_auc_score(y_train['h1n1_vaccine'],y_pred_h1n1[:,1])\n",
    "    roc_auc_seasonal = roc_auc_score(y_train['seasonal_vaccine'],y_pred_seasonal[:,1])\n",
    "    \n",
    "    return (roc_auc_h1n1+roc_auc_seasonal)/2   "
   ]
  },
  {
   "cell_type": "code",
   "execution_count": 17,
   "id": "0c121570",
   "metadata": {},
   "outputs": [
    {
     "name": "stderr",
     "output_type": "stream",
     "text": [
      "[I 2025-06-24 19:27:25,673] A new study created in memory with name: no-name-20cdcdd8-6e98-4d1c-90ac-8478513023de\n",
      "[I 2025-06-24 19:27:52,286] Trial 0 finished with value: 0.8557881185313685 and parameters: {'learning_rate': 0.07086263610246094, 'n_estimators': 95, 'subsample': 0.7469864454148583, 'min_samples_split': 2, 'max_depth': 3, 'max_features': 'sqrt'}. Best is trial 0 with value: 0.8557881185313685.\n",
      "[I 2025-06-24 19:28:18,766] Trial 1 finished with value: 0.8556159407560417 and parameters: {'learning_rate': 0.07950363614381538, 'n_estimators': 127, 'subsample': 0.8148443308690925, 'min_samples_split': 5, 'max_depth': 3, 'max_features': 'log2'}. Best is trial 0 with value: 0.8557881185313685.\n",
      "[I 2025-06-24 19:28:49,293] Trial 2 finished with value: 0.8606646740562915 and parameters: {'learning_rate': 0.16525251632168797, 'n_estimators': 231, 'subsample': 0.8006059167179689, 'min_samples_split': 2, 'max_depth': 4, 'max_features': 'log2'}. Best is trial 2 with value: 0.8606646740562915.\n",
      "[I 2025-06-24 19:29:29,555] Trial 3 finished with value: 0.8632763171444778 and parameters: {'learning_rate': 0.12139384589930119, 'n_estimators': 238, 'subsample': 0.8215574199327977, 'min_samples_split': 3, 'max_depth': 4, 'max_features': 'sqrt'}. Best is trial 3 with value: 0.8632763171444778.\n",
      "[I 2025-06-24 19:29:52,416] Trial 4 finished with value: 0.8587302979244149 and parameters: {'learning_rate': 0.17796751498734048, 'n_estimators': 99, 'subsample': 0.6260516855088465, 'min_samples_split': 9, 'max_depth': 3, 'max_features': 'log2'}. Best is trial 3 with value: 0.8632763171444778.\n",
      "[I 2025-06-24 19:30:20,821] Trial 5 finished with value: 0.861456806111996 and parameters: {'learning_rate': 0.19120657255953832, 'n_estimators': 113, 'subsample': 0.8344571738123263, 'min_samples_split': 4, 'max_depth': 4, 'max_features': 'sqrt'}. Best is trial 3 with value: 0.8632763171444778.\n",
      "[I 2025-06-24 19:30:52,786] Trial 6 finished with value: 0.8615333462720645 and parameters: {'learning_rate': 0.16965695522843072, 'n_estimators': 200, 'subsample': 0.7174238089306555, 'min_samples_split': 8, 'max_depth': 3, 'max_features': 'sqrt'}. Best is trial 3 with value: 0.8632763171444778.\n",
      "[I 2025-06-24 19:31:19,896] Trial 7 finished with value: 0.8582005508616533 and parameters: {'learning_rate': 0.19219786335711098, 'n_estimators': 201, 'subsample': 0.7296890748924335, 'min_samples_split': 10, 'max_depth': 5, 'max_features': 'log2'}. Best is trial 3 with value: 0.8632763171444778.\n",
      "[I 2025-06-24 19:31:52,258] Trial 8 finished with value: 0.8623385870564029 and parameters: {'learning_rate': 0.1951892044295636, 'n_estimators': 168, 'subsample': 0.8384250510867621, 'min_samples_split': 6, 'max_depth': 3, 'max_features': 'sqrt'}. Best is trial 3 with value: 0.8632763171444778.\n",
      "[I 2025-06-24 19:32:25,683] Trial 9 finished with value: 0.8577649684153485 and parameters: {'learning_rate': 0.14768844834119596, 'n_estimators': 247, 'subsample': 0.6710285276737618, 'min_samples_split': 7, 'max_depth': 6, 'max_features': 'log2'}. Best is trial 3 with value: 0.8632763171444778.\n",
      "[I 2025-06-24 19:32:59,640] Trial 10 finished with value: 0.8587978586421469 and parameters: {'learning_rate': 0.10733077521006507, 'n_estimators': 156, 'subsample': 0.7750609754213995, 'min_samples_split': 4, 'max_depth': 2, 'max_features': 'sqrt'}. Best is trial 3 with value: 0.8632763171444778.\n",
      "[I 2025-06-24 19:33:41,659] Trial 11 finished with value: 0.862578207081466 and parameters: {'learning_rate': 0.12298876281180193, 'n_estimators': 170, 'subsample': 0.8442888552055825, 'min_samples_split': 6, 'max_depth': 5, 'max_features': 'sqrt'}. Best is trial 3 with value: 0.8632763171444778.\n",
      "[I 2025-06-24 19:34:19,631] Trial 12 finished with value: 0.8622506002470356 and parameters: {'learning_rate': 0.12109509919445863, 'n_estimators': 210, 'subsample': 0.8492928980671306, 'min_samples_split': 4, 'max_depth': 5, 'max_features': 'sqrt'}. Best is trial 3 with value: 0.8632763171444778.\n",
      "[I 2025-06-24 19:34:55,027] Trial 13 finished with value: 0.8627328335723815 and parameters: {'learning_rate': 0.10578207270616287, 'n_estimators': 158, 'subsample': 0.7748117097920217, 'min_samples_split': 6, 'max_depth': 5, 'max_features': 'sqrt'}. Best is trial 3 with value: 0.8632763171444778.\n",
      "[I 2025-06-24 19:35:35,631] Trial 14 finished with value: 0.8624665704385024 and parameters: {'learning_rate': 0.09456782878865362, 'n_estimators': 143, 'subsample': 0.7769770107435588, 'min_samples_split': 3, 'max_depth': 6, 'max_features': 'sqrt'}. Best is trial 3 with value: 0.8632763171444778.\n",
      "[I 2025-06-24 19:36:24,211] Trial 15 finished with value: 0.8642073630963096 and parameters: {'learning_rate': 0.052520078326990724, 'n_estimators': 184, 'subsample': 0.7753576806476586, 'min_samples_split': 7, 'max_depth': 5, 'max_features': 'sqrt'}. Best is trial 15 with value: 0.8642073630963096.\n",
      "[I 2025-06-24 19:37:12,064] Trial 16 finished with value: 0.8635325106776578 and parameters: {'learning_rate': 0.06281179814010797, 'n_estimators': 229, 'subsample': 0.7083358204145013, 'min_samples_split': 8, 'max_depth': 4, 'max_features': 'sqrt'}. Best is trial 15 with value: 0.8642073630963096.\n",
      "[I 2025-06-24 19:38:03,263] Trial 17 finished with value: 0.8640306092257519 and parameters: {'learning_rate': 0.05690278959212757, 'n_estimators': 188, 'subsample': 0.6873136383648617, 'min_samples_split': 9, 'max_depth': 6, 'max_features': 'sqrt'}. Best is trial 15 with value: 0.8642073630963096.\n",
      "[I 2025-06-24 19:38:53,334] Trial 18 finished with value: 0.8640460998338635 and parameters: {'learning_rate': 0.0502868164292354, 'n_estimators': 188, 'subsample': 0.6762692639264212, 'min_samples_split': 9, 'max_depth': 6, 'max_features': 'sqrt'}. Best is trial 15 with value: 0.8642073630963096.\n",
      "[I 2025-06-24 19:39:41,682] Trial 19 finished with value: 0.8640186224488047 and parameters: {'learning_rate': 0.05214317978144034, 'n_estimators': 181, 'subsample': 0.6274487387776744, 'min_samples_split': 10, 'max_depth': 6, 'max_features': 'sqrt'}. Best is trial 15 with value: 0.8642073630963096.\n",
      "[I 2025-06-24 19:40:16,954] Trial 20 finished with value: 0.8632688585599324 and parameters: {'learning_rate': 0.08924786484745859, 'n_estimators': 215, 'subsample': 0.656349775121833, 'min_samples_split': 8, 'max_depth': 5, 'max_features': 'sqrt'}. Best is trial 15 with value: 0.8642073630963096.\n",
      "[I 2025-06-24 19:41:06,367] Trial 21 finished with value: 0.8640114178122484 and parameters: {'learning_rate': 0.0531171011580014, 'n_estimators': 184, 'subsample': 0.6853184990393965, 'min_samples_split': 9, 'max_depth': 6, 'max_features': 'sqrt'}. Best is trial 15 with value: 0.8642073630963096.\n",
      "[I 2025-06-24 19:41:50,430] Trial 22 finished with value: 0.8628854012520143 and parameters: {'learning_rate': 0.07285944476716413, 'n_estimators': 189, 'subsample': 0.6934144106514868, 'min_samples_split': 9, 'max_depth': 6, 'max_features': 'sqrt'}. Best is trial 15 with value: 0.8642073630963096.\n",
      "[I 2025-06-24 19:42:32,269] Trial 23 finished with value: 0.8628421794421364 and parameters: {'learning_rate': 0.058473463124965534, 'n_estimators': 146, 'subsample': 0.6511996869749219, 'min_samples_split': 7, 'max_depth': 6, 'max_features': 'sqrt'}. Best is trial 15 with value: 0.8642073630963096.\n",
      "[I 2025-06-24 19:43:13,339] Trial 24 finished with value: 0.8635846351469434 and parameters: {'learning_rate': 0.07978389924853083, 'n_estimators': 192, 'subsample': 0.7500057900114216, 'min_samples_split': 7, 'max_depth': 5, 'max_features': 'sqrt'}. Best is trial 15 with value: 0.8642073630963096.\n",
      "[I 2025-06-24 19:43:57,367] Trial 25 finished with value: 0.8638502504000471 and parameters: {'learning_rate': 0.061677166529517116, 'n_estimators': 214, 'subsample': 0.6105918086915739, 'min_samples_split': 10, 'max_depth': 6, 'max_features': 'sqrt'}. Best is trial 15 with value: 0.8642073630963096.\n",
      "[I 2025-06-24 19:44:28,328] Trial 26 finished with value: 0.8594506183485195 and parameters: {'learning_rate': 0.14705944284105182, 'n_estimators': 175, 'subsample': 0.7377372776840657, 'min_samples_split': 9, 'max_depth': 5, 'max_features': 'log2'}. Best is trial 15 with value: 0.8642073630963096.\n",
      "[I 2025-06-24 19:45:11,342] Trial 27 finished with value: 0.863515295360663 and parameters: {'learning_rate': 0.06776932965546326, 'n_estimators': 140, 'subsample': 0.6973522357725951, 'min_samples_split': 8, 'max_depth': 6, 'max_features': 'sqrt'}. Best is trial 15 with value: 0.8642073630963096.\n"
     ]
    },
    {
     "name": "stderr",
     "output_type": "stream",
     "text": [
      "[I 2025-06-24 19:46:11,914] Trial 28 finished with value: 0.8643328148410816 and parameters: {'learning_rate': 0.05086599703791199, 'n_estimators': 204, 'subsample': 0.666483379217978, 'min_samples_split': 7, 'max_depth': 5, 'max_features': 'sqrt'}. Best is trial 28 with value: 0.8643328148410816.\n",
      "[I 2025-06-24 19:47:00,316] Trial 29 finished with value: 0.8632876101949547 and parameters: {'learning_rate': 0.07625603953597554, 'n_estimators': 220, 'subsample': 0.6589363690368172, 'min_samples_split': 7, 'max_depth': 4, 'max_features': 'sqrt'}. Best is trial 28 with value: 0.8643328148410816.\n"
     ]
    },
    {
     "name": "stdout",
     "output_type": "stream",
     "text": [
      "Best trial\n",
      "number:  28\n",
      "ROC_AUC:  0.8643328148410816\n",
      "Best hyperparameters\n",
      "learning_rate 0.05086599703791199\n",
      "n_estimators 204\n",
      "subsample 0.666483379217978\n",
      "min_samples_split 7\n",
      "max_depth 5\n",
      "max_features sqrt\n"
     ]
    }
   ],
   "source": [
    "study = optuna.create_study(direction='maximize')\n",
    "study.optimize(objective, n_trials=30)\n",
    "\n",
    "print('Best trial')\n",
    "print('number: ',study.best_trial.number)\n",
    "print('ROC_AUC: ',study.best_trial.value)\n",
    "print('Best hyperparameters')\n",
    "for key,value in study.best_params.items():\n",
    "    print(key,value)    "
   ]
  },
  {
   "cell_type": "code",
   "execution_count": 18,
   "id": "164931fd",
   "metadata": {},
   "outputs": [
    {
     "name": "stdout",
     "output_type": "stream",
     "text": [
      "{'learning_rate': 0.05086599703791199, 'n_estimators': 204, 'subsample': 0.666483379217978, 'min_samples_split': 7, 'max_depth': 5, 'max_features': 'sqrt'}\n"
     ]
    }
   ],
   "source": [
    "best_params = study.best_params\n",
    "print(study.best_params)"
   ]
  },
  {
   "cell_type": "code",
   "execution_count": 19,
   "id": "87f3977d",
   "metadata": {},
   "outputs": [],
   "source": [
    "# final model\n",
    "\n",
    "final_model = Pipeline([\n",
    "    ('preprocessing',preprocessor),\n",
    "    ('classifier',MultiOutputClassifier(GradientBoostingClassifier(\n",
    "    **best_params,\n",
    "        validation_fraction=0.1,\n",
    "        n_iter_no_change=20,\n",
    "    random_state=42)))\n",
    "])"
   ]
  },
  {
   "cell_type": "code",
   "execution_count": 20,
   "id": "224fb710",
   "metadata": {},
   "outputs": [
    {
     "data": {
      "text/plain": [
       "Pipeline(steps=[('preprocessing',\n",
       "                 ColumnTransformer(transformers=[('num',\n",
       "                                                  Pipeline(steps=[('imputer',\n",
       "                                                                   SimpleImputer()),\n",
       "                                                                  ('scaler',\n",
       "                                                                   MinMaxScaler())]),\n",
       "                                                  ['h1n1_concern',\n",
       "                                                   'h1n1_knowledge',\n",
       "                                                   'behavioral_antiviral_meds',\n",
       "                                                   'behavioral_avoidance',\n",
       "                                                   'behavioral_face_mask',\n",
       "                                                   'behavioral_wash_hands',\n",
       "                                                   'behavioral_large_gatherings',\n",
       "                                                   'behavioral_outside_home',\n",
       "                                                   'behavioral_touch_f...\n",
       "                                                   'rent_or_own',\n",
       "                                                   'employment_status',\n",
       "                                                   'hhs_geo_region',\n",
       "                                                   'census_msa',\n",
       "                                                   'employment_industry',\n",
       "                                                   'employment_occupation'])])),\n",
       "                ('classifier',\n",
       "                 MultiOutputClassifier(estimator=GradientBoostingClassifier(learning_rate=0.05086599703791199,\n",
       "                                                                            max_depth=5,\n",
       "                                                                            max_features='sqrt',\n",
       "                                                                            min_samples_split=7,\n",
       "                                                                            n_estimators=204,\n",
       "                                                                            n_iter_no_change=20,\n",
       "                                                                            random_state=42,\n",
       "                                                                            subsample=0.666483379217978)))])"
      ]
     },
     "execution_count": 20,
     "metadata": {},
     "output_type": "execute_result"
    }
   ],
   "source": [
    "final_model.fit(X_train,y_train)"
   ]
  },
  {
   "cell_type": "code",
   "execution_count": 21,
   "id": "f46450d2",
   "metadata": {},
   "outputs": [
    {
     "name": "stdout",
     "output_type": "stream",
     "text": [
      "h1n1_train_roc_auc: 0.8959\n",
      "seasonal_train_roc_auc: 0.8845\n"
     ]
    }
   ],
   "source": [
    "test_proba = final_model.predict_proba(X_train)\n",
    "h1n1_proba = test_proba[0][:,1]\n",
    "seasonal_proba = test_proba[1][:,1]\n",
    "\n",
    "h1n1_train_roc_auc = roc_auc_score(y_train['h1n1_vaccine'],h1n1_proba)\n",
    "seasonal_train_roc_auc = roc_auc_score(y_train['seasonal_vaccine'],seasonal_proba)\n",
    "\n",
    "print(f\"h1n1_train_roc_auc: {h1n1_train_roc_auc:.4f}\")\n",
    "print(f\"seasonal_train_roc_auc: {seasonal_train_roc_auc:.4f}\")"
   ]
  },
  {
   "cell_type": "code",
   "execution_count": 22,
   "id": "fe97de7f",
   "metadata": {},
   "outputs": [
    {
     "name": "stdout",
     "output_type": "stream",
     "text": [
      "h1n1_test_roc_auc: 0.8724\n",
      "seasonal_test_roc_auc: 0.8625\n"
     ]
    }
   ],
   "source": [
    "test_proba = final_model.predict_proba(X_test)\n",
    "h1n1_proba = test_proba[0][:,1]\n",
    "seasonal_proba = test_proba[1][:,1]\n",
    "\n",
    "h1n1_test_roc_auc = roc_auc_score(y_test['h1n1_vaccine'],h1n1_proba)\n",
    "seasonal_test_roc_auc = roc_auc_score(y_test['seasonal_vaccine'],seasonal_proba)\n",
    "\n",
    "print(f\"h1n1_test_roc_auc: {h1n1_test_roc_auc:.4f}\")\n",
    "print(f\"seasonal_test_roc_auc: {seasonal_test_roc_auc:.4f}\")"
   ]
  },
  {
   "cell_type": "code",
   "execution_count": null,
   "id": "551b2184",
   "metadata": {},
   "outputs": [],
   "source": [
    "#Fit model with full\n",
    "final_model.fit(X,y)"
   ]
  },
  {
   "cell_type": "code",
   "execution_count": null,
   "id": "3534b8ae",
   "metadata": {},
   "outputs": [],
   "source": [
    "test_proba = final_model.predict_proba(X)\n",
    "h1n1_proba = test_proba[0][:,1]\n",
    "seasonal_proba = test_proba[1][:,1]\n",
    "\n",
    "h1n1_roc_auc = roc_auc_score(y['h1n1_vaccine'],h1n1_proba)\n",
    "seasonal_roc_auc = roc_auc_score(y['seasonal_vaccine'],seasonal_proba)\n",
    "\n",
    "print(f\"h1n1_roc_auc: {h1n1_roc_auc:.4f}\")\n",
    "print(f\"seasonal_roc_auc: {seasonal_roc_auc:.4f}\")"
   ]
  },
  {
   "cell_type": "code",
   "execution_count": null,
   "id": "54c1ca65",
   "metadata": {},
   "outputs": [],
   "source": [
    "#Get test data from file\n",
    "test_X = pd.read_csv('test_set_features.csv',index_col='respondent_id')\n",
    "test_X = test_X[X.columns]"
   ]
  },
  {
   "cell_type": "code",
   "execution_count": null,
   "id": "59534e22",
   "metadata": {},
   "outputs": [],
   "source": [
    "#Predict for test data\n",
    "test_preds = final_model.predict_proba(test_X)\n",
    "\n",
    "h1n1_preds = test_preds[0][:,1]\n",
    "seasonal_preds = test_preds[1][:,1]"
   ]
  },
  {
   "cell_type": "code",
   "execution_count": null,
   "id": "da618578",
   "metadata": {},
   "outputs": [],
   "source": [
    "submission_df = pd.read_csv(\"./submission_format_gradientboost _240625.csv\", \n",
    "                            index_col=\"respondent_id\")"
   ]
  },
  {
   "cell_type": "code",
   "execution_count": null,
   "id": "53975d48",
   "metadata": {},
   "outputs": [],
   "source": [
    "# Make sure we have the rows in the same order\n",
    "np.testing.assert_array_equal(test_X.index.values, \n",
    "                              submission_df.index.values)"
   ]
  },
  {
   "cell_type": "code",
   "execution_count": null,
   "id": "d604bf29",
   "metadata": {},
   "outputs": [],
   "source": [
    "# Save predictions to submission data frame\n",
    "submission_df[\"h1n1_vaccine\"] = h1n1_preds\n",
    "submission_df[\"seasonal_vaccine\"] = seasonal_preds\n",
    "\n",
    "submission_df.head()"
   ]
  },
  {
   "cell_type": "code",
   "execution_count": null,
   "id": "beccb3fa",
   "metadata": {},
   "outputs": [],
   "source": [
    "submission_df.to_csv('submission_format_gradientboost _240625.csv', index=True)"
   ]
  },
  {
   "cell_type": "code",
   "execution_count": null,
   "id": "924d788a",
   "metadata": {},
   "outputs": [],
   "source": [
    "df = pd.read_csv('submission_format_gradientboost _240625.csv')\n",
    "print(df.head(5))\n",
    "print(df.tail(5))"
   ]
  },
  {
   "cell_type": "code",
   "execution_count": null,
   "id": "40074f8a",
   "metadata": {},
   "outputs": [],
   "source": []
  }
 ],
 "metadata": {
  "kernelspec": {
   "display_name": "Python 3 (ipykernel)",
   "language": "python",
   "name": "python3"
  },
  "language_info": {
   "codemirror_mode": {
    "name": "ipython",
    "version": 3
   },
   "file_extension": ".py",
   "mimetype": "text/x-python",
   "name": "python",
   "nbconvert_exporter": "python",
   "pygments_lexer": "ipython3",
   "version": "3.8.6"
  },
  "toc": {
   "base_numbering": 1,
   "nav_menu": {},
   "number_sections": true,
   "sideBar": true,
   "skip_h1_title": false,
   "title_cell": "Table of Contents",
   "title_sidebar": "Contents",
   "toc_cell": false,
   "toc_position": {},
   "toc_section_display": true,
   "toc_window_display": false
  }
 },
 "nbformat": 4,
 "nbformat_minor": 5
}
