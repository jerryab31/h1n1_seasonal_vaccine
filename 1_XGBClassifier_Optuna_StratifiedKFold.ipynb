{
 "cells": [
  {
   "cell_type": "code",
   "execution_count": 1,
   "id": "2c7a9f0c",
   "metadata": {},
   "outputs": [],
   "source": [
    "import pandas as pd \n",
    "import numpy as np\n",
    "from matplotlib import pyplot as plt \n",
    "%matplotlib inline\n",
    "\n",
    "import optuna\n",
    "from sklearn.ensemble import GradientBoostingClassifier\n",
    "from xgboost import XGBClassifier\n",
    "\n",
    "from sklearn.metrics import roc_auc_score\n",
    "from sklearn.model_selection import train_test_split, StratifiedKFold\n",
    "from sklearn.model_selection import cross_val_score, cross_val_predict\n",
    "\n",
    "from sklearn.impute import SimpleImputer\n",
    "from sklearn.compose import ColumnTransformer\n",
    "from sklearn.pipeline import Pipeline\n",
    "from sklearn.multioutput import MultiOutputClassifier\n",
    "from sklearn.preprocessing import MinMaxScaler,OneHotEncoder,OrdinalEncoder"
   ]
  },
  {
   "cell_type": "code",
   "execution_count": 2,
   "id": "fba85383",
   "metadata": {},
   "outputs": [
    {
     "name": "stdout",
     "output_type": "stream",
     "text": [
      "               h1n1_concern  h1n1_knowledge  behavioral_antiviral_meds  \\\n",
      "respondent_id                                                            \n",
      "0                       1.0             0.0                        0.0   \n",
      "1                       3.0             2.0                        0.0   \n",
      "\n",
      "               behavioral_avoidance  behavioral_face_mask  \\\n",
      "respondent_id                                               \n",
      "0                               0.0                   0.0   \n",
      "1                               1.0                   0.0   \n",
      "\n",
      "               behavioral_wash_hands  behavioral_large_gatherings  \\\n",
      "respondent_id                                                       \n",
      "0                                0.0                          0.0   \n",
      "1                                1.0                          0.0   \n",
      "\n",
      "               behavioral_outside_home  behavioral_touch_face  \\\n",
      "respondent_id                                                   \n",
      "0                                  1.0                    1.0   \n",
      "1                                  1.0                    1.0   \n",
      "\n",
      "               doctor_recc_h1n1  ...  income_poverty  marital_status  \\\n",
      "respondent_id                    ...                                   \n",
      "0                           0.0  ...   Below Poverty     Not Married   \n",
      "1                           0.0  ...   Below Poverty     Not Married   \n",
      "\n",
      "               rent_or_own   employment_status  hhs_geo_region  \\\n",
      "respondent_id                                                    \n",
      "0                      Own  Not in Labor Force        oxchjgsf   \n",
      "1                     Rent            Employed        bhuqouqj   \n",
      "\n",
      "                             census_msa  household_adults  household_children  \\\n",
      "respondent_id                                                                   \n",
      "0                               Non-MSA               0.0                 0.0   \n",
      "1              MSA, Not Principle  City               0.0                 0.0   \n",
      "\n",
      "               employment_industry  employment_occupation  \n",
      "respondent_id                                              \n",
      "0                              NaN                    NaN  \n",
      "1                         pxcmvdjn               xgwztkwe  \n",
      "\n",
      "[2 rows x 35 columns]\n",
      "               h1n1_vaccine  seasonal_vaccine\n",
      "respondent_id                                \n",
      "0                         0                 0\n",
      "1                         0                 1\n"
     ]
    }
   ],
   "source": [
    "X = pd.read_csv('training_set_features.csv',index_col='respondent_id') \n",
    "y = pd.read_csv('training_set_labels.csv',index_col='respondent_id')\n",
    "print(X.head(2))\n",
    "print(y.head(2))"
   ]
  },
  {
   "cell_type": "code",
   "execution_count": 3,
   "id": "5ce2d16b",
   "metadata": {},
   "outputs": [],
   "source": [
    "#indices are matching\n",
    "np.testing.assert_array_equal(X.index.values,y.index.values)"
   ]
  },
  {
   "cell_type": "code",
   "execution_count": 4,
   "id": "b37f8d7d",
   "metadata": {},
   "outputs": [
    {
     "name": "stdout",
     "output_type": "stream",
     "text": [
      "(26707, 35)\n",
      "(26707, 2)\n"
     ]
    }
   ],
   "source": [
    "print(X.shape)\n",
    "print(y.shape)"
   ]
  },
  {
   "cell_type": "code",
   "execution_count": 5,
   "id": "ce5516f4",
   "metadata": {},
   "outputs": [
    {
     "name": "stdout",
     "output_type": "stream",
     "text": [
      "age_group ['55 - 64 Years' '35 - 44 Years' '18 - 34 Years' '65+ Years'\n",
      " '45 - 54 Years']\n",
      "education ['< 12 Years' '12 Years' 'College Graduate' 'Some College' nan]\n",
      "race ['White' 'Black' 'Other or Multiple' 'Hispanic']\n",
      "sex ['Female' 'Male']\n",
      "income_poverty ['Below Poverty' '<= $75,000, Above Poverty' '> $75,000' nan]\n",
      "marital_status ['Not Married' 'Married' nan]\n",
      "rent_or_own ['Own' 'Rent' nan]\n",
      "employment_status ['Not in Labor Force' 'Employed' 'Unemployed' nan]\n",
      "hhs_geo_region ['oxchjgsf' 'bhuqouqj' 'qufhixun' 'lrircsnp' 'atmpeygn' 'lzgpxyit'\n",
      " 'fpwskwrf' 'mlyzmhmf' 'dqpwygqj' 'kbazzjca']\n",
      "census_msa ['Non-MSA' 'MSA, Not Principle  City' 'MSA, Principle City']\n",
      "employment_industry [nan 'pxcmvdjn' 'rucpziij' 'wxleyezf' 'saaquncn' 'xicduogh' 'ldnlellj'\n",
      " 'wlfvacwt' 'nduyfdeo' 'fcxhlnwr' 'vjjrobsf' 'arjwrbjb' 'atmlpfrs'\n",
      " 'msuufmds' 'xqicxuve' 'phxvnwax' 'dotnnunm' 'mfikgejo' 'cfqqtusy'\n",
      " 'mcubkhph' 'haxffmxo' 'qnlwzans']\n",
      "employment_occupation [nan 'xgwztkwe' 'xtkaffoo' 'emcorrxb' 'vlluhbov' 'xqwwgdyp' 'ccgxvspp'\n",
      " 'qxajmpny' 'kldqjyjy' 'mxkfnird' 'hfxkjkmi' 'bxpfxfdn' 'ukymxvdu'\n",
      " 'cmhcxjea' 'haliazsg' 'dlvbwzss' 'xzmlyyjv' 'oijqvulv' 'rcertsgn'\n",
      " 'tfqavkke' 'hodpvpew' 'uqqtjvyb' 'pvmttkik' 'dcjcmpih']\n"
     ]
    }
   ],
   "source": [
    "for col in X.select_dtypes(include='object').columns.to_list():    \n",
    "        print(col, X[col].unique())"
   ]
  },
  {
   "cell_type": "code",
   "execution_count": 6,
   "id": "550ad918",
   "metadata": {},
   "outputs": [
    {
     "data": {
      "text/plain": [
       "h1n1_concern                   float64\n",
       "h1n1_knowledge                 float64\n",
       "behavioral_antiviral_meds      float64\n",
       "behavioral_avoidance           float64\n",
       "behavioral_face_mask           float64\n",
       "behavioral_wash_hands          float64\n",
       "behavioral_large_gatherings    float64\n",
       "behavioral_outside_home        float64\n",
       "behavioral_touch_face          float64\n",
       "doctor_recc_h1n1               float64\n",
       "doctor_recc_seasonal           float64\n",
       "chronic_med_condition          float64\n",
       "child_under_6_months           float64\n",
       "health_worker                  float64\n",
       "health_insurance               float64\n",
       "opinion_h1n1_vacc_effective    float64\n",
       "opinion_h1n1_risk              float64\n",
       "opinion_h1n1_sick_from_vacc    float64\n",
       "opinion_seas_vacc_effective    float64\n",
       "opinion_seas_risk              float64\n",
       "opinion_seas_sick_from_vacc    float64\n",
       "age_group                       object\n",
       "education                       object\n",
       "race                            object\n",
       "sex                             object\n",
       "income_poverty                  object\n",
       "marital_status                  object\n",
       "rent_or_own                     object\n",
       "employment_status               object\n",
       "hhs_geo_region                  object\n",
       "census_msa                      object\n",
       "household_adults               float64\n",
       "household_children             float64\n",
       "employment_industry             object\n",
       "employment_occupation           object\n",
       "dtype: object"
      ]
     },
     "execution_count": 6,
     "metadata": {},
     "output_type": "execute_result"
    }
   ],
   "source": [
    "X.dtypes"
   ]
  },
  {
   "cell_type": "code",
   "execution_count": 7,
   "id": "91afd489",
   "metadata": {},
   "outputs": [
    {
     "data": {
      "text/plain": [
       "['h1n1_concern',\n",
       " 'h1n1_knowledge',\n",
       " 'behavioral_antiviral_meds',\n",
       " 'behavioral_avoidance',\n",
       " 'behavioral_face_mask',\n",
       " 'behavioral_wash_hands',\n",
       " 'behavioral_large_gatherings',\n",
       " 'behavioral_outside_home',\n",
       " 'behavioral_touch_face',\n",
       " 'doctor_recc_h1n1',\n",
       " 'doctor_recc_seasonal',\n",
       " 'chronic_med_condition',\n",
       " 'child_under_6_months',\n",
       " 'health_worker',\n",
       " 'health_insurance',\n",
       " 'opinion_h1n1_vacc_effective',\n",
       " 'opinion_h1n1_risk',\n",
       " 'opinion_h1n1_sick_from_vacc',\n",
       " 'opinion_seas_vacc_effective',\n",
       " 'opinion_seas_risk',\n",
       " 'opinion_seas_sick_from_vacc',\n",
       " 'household_adults',\n",
       " 'household_children']"
      ]
     },
     "execution_count": 7,
     "metadata": {},
     "output_type": "execute_result"
    }
   ],
   "source": [
    "numeric_features= X.select_dtypes(include='float64').columns.to_list()\n",
    "numeric_features"
   ]
  },
  {
   "cell_type": "code",
   "execution_count": 8,
   "id": "31ba4419",
   "metadata": {},
   "outputs": [],
   "source": [
    "ordinal_features=['education','income_poverty']\n",
    "categorical_features = [['< 12 Years','12 Years','Some College',\n",
    "                         'College Graduate'],\n",
    "                       ['Below Poverty','<= $75,000, Above Poverty',\n",
    "                       '> $75,000']]"
   ]
  },
  {
   "cell_type": "code",
   "execution_count": 9,
   "id": "75d21923",
   "metadata": {},
   "outputs": [
    {
     "data": {
      "text/plain": [
       "['age_group',\n",
       " 'race',\n",
       " 'sex',\n",
       " 'marital_status',\n",
       " 'rent_or_own',\n",
       " 'employment_status',\n",
       " 'hhs_geo_region',\n",
       " 'census_msa',\n",
       " 'employment_industry',\n",
       " 'employment_occupation']"
      ]
     },
     "execution_count": 9,
     "metadata": {},
     "output_type": "execute_result"
    }
   ],
   "source": [
    "items = X.select_dtypes(include='object').columns.to_list()\n",
    "nominal_features=[item for item in items if item not in ordinal_features]\n",
    "nominal_features"
   ]
  },
  {
   "cell_type": "code",
   "execution_count": 10,
   "id": "7857f9f2",
   "metadata": {},
   "outputs": [],
   "source": [
    "#Preprocessing\n",
    "numeric_pipeline = Pipeline([\n",
    "    ('imputer',SimpleImputer(strategy='mean')),\n",
    "    ('scaler',MinMaxScaler())\n",
    "])\n",
    "\n",
    "oridnal_pipeline = Pipeline([\n",
    "    ('imputer',SimpleImputer(strategy='most_frequent')),\n",
    "    ('ordinal',OrdinalEncoder(categories=categorical_features))\n",
    "    \n",
    "])\n",
    "\n",
    "nominal_pipeline = Pipeline([\n",
    "    ('imputer',SimpleImputer(strategy='most_frequent')),\n",
    "    ('onehot',OneHotEncoder(handle_unknown='ignore'))\n",
    "])\n",
    "\n",
    "preprocessor = ColumnTransformer([\n",
    "    ('num',numeric_pipeline,numeric_features),\n",
    "    ('ord',oridnal_pipeline,ordinal_features),\n",
    "    ('nom',nominal_pipeline,nominal_features)\n",
    "])"
   ]
  },
  {
   "cell_type": "code",
   "execution_count": 11,
   "id": "bce7b1cd",
   "metadata": {},
   "outputs": [
    {
     "data": {
      "text/plain": [
       "Index(['h1n1_concern', 'h1n1_knowledge', 'behavioral_antiviral_meds',\n",
       "       'behavioral_avoidance', 'behavioral_face_mask', 'behavioral_wash_hands',\n",
       "       'behavioral_large_gatherings', 'behavioral_outside_home',\n",
       "       'behavioral_touch_face', 'doctor_recc_h1n1', 'doctor_recc_seasonal',\n",
       "       'chronic_med_condition', 'child_under_6_months', 'health_worker',\n",
       "       'health_insurance', 'opinion_h1n1_vacc_effective', 'opinion_h1n1_risk',\n",
       "       'opinion_h1n1_sick_from_vacc', 'opinion_seas_vacc_effective',\n",
       "       'opinion_seas_risk', 'opinion_seas_sick_from_vacc', 'household_adults',\n",
       "       'household_children', 'education', 'income_poverty', 'age_group',\n",
       "       'race', 'sex', 'marital_status', 'rent_or_own', 'employment_status',\n",
       "       'hhs_geo_region', 'census_msa', 'employment_industry',\n",
       "       'employment_occupation'],\n",
       "      dtype='object')"
      ]
     },
     "execution_count": 11,
     "metadata": {},
     "output_type": "execute_result"
    }
   ],
   "source": [
    "X = X[numeric_features+ordinal_features+nominal_features]\n",
    "X.columns "
   ]
  },
  {
   "cell_type": "code",
   "execution_count": 12,
   "id": "af4a086e",
   "metadata": {},
   "outputs": [
    {
     "name": "stdout",
     "output_type": "stream",
     "text": [
      "respondent_id\n"
     ]
    }
   ],
   "source": [
    "print(X.index.name)"
   ]
  },
  {
   "cell_type": "code",
   "execution_count": 13,
   "id": "591940cf",
   "metadata": {},
   "outputs": [
    {
     "data": {
      "text/plain": [
       "(26707, 100)"
      ]
     },
     "execution_count": 13,
     "metadata": {},
     "output_type": "execute_result"
    }
   ],
   "source": [
    "X_transformed = preprocessor.fit_transform(X)\n",
    "X_transformed.shape"
   ]
  },
  {
   "cell_type": "code",
   "execution_count": 14,
   "id": "6097bce0",
   "metadata": {},
   "outputs": [
    {
     "data": {
      "text/plain": [
       "respondent_id\n",
       "0    0_0\n",
       "1    0_1\n",
       "2    0_0\n",
       "3    0_1\n",
       "4    0_0\n",
       "dtype: object"
      ]
     },
     "execution_count": 14,
     "metadata": {},
     "output_type": "execute_result"
    }
   ],
   "source": [
    "#train_test_split\n",
    "y_combined = y['h1n1_vaccine'].astype(str)+'_'+y['seasonal_vaccine'].astype(str)\n",
    "y_combined[:5]\n",
    "# not using this"
   ]
  },
  {
   "cell_type": "code",
   "execution_count": 15,
   "id": "1c7501a5",
   "metadata": {},
   "outputs": [],
   "source": [
    "X_train,X_test,y_train,y_test = train_test_split(X,y,test_size=0.2,                                                 \n",
    "                                                 stratify=y,\n",
    "                                                random_state=42)"
   ]
  },
  {
   "cell_type": "code",
   "execution_count": 16,
   "id": "db6ff211",
   "metadata": {},
   "outputs": [],
   "source": [
    "#Optuna\n",
    "def objective(trial):\n",
    "    params = {\n",
    "        'n_estimators':trial.suggest_int('n_estimators',100,300),\n",
    "        'max_depth':trial.suggest_int('max_depth',3,10),\n",
    "        'learning_rate':trial.suggest_float('learning_rate',0.01,0.5),        \n",
    "        'subsample':trial.suggest_float('subsample',0.6,1.0),\n",
    "        'colsample_bytree':trial.suggest_float('colsample_bytree',0.6,1.0),\n",
    "        'gamma':trial.suggest_float('gamma',0,5),       \n",
    "        'reg_alpha':trial.suggest_float('reg_alpha',0,5),\n",
    "        'reg_lambda':trial.suggest_float('reg_lambda',0,5),        \n",
    "        'use_label_encoder':False,\n",
    "        'eval_metric':'logloss',\n",
    "        'random_state':42        \n",
    "    }\n",
    "    \n",
    "    model_h1n1= Pipeline([\n",
    "        ('preprocessing',preprocessor),\n",
    "        ('classifier',XGBClassifier(**params))\n",
    "    ])\n",
    "    \n",
    "    model_seasonal= Pipeline([\n",
    "        ('preprocessing',preprocessor),\n",
    "        ('classifier',XGBClassifier(**params))\n",
    "    ])\n",
    "    \n",
    "    skf=StratifiedKFold(n_splits=5,shuffle=True,random_state=42)\n",
    "    \n",
    "    y_pred_h1n1 = cross_val_predict(model_h1n1, X_train,y_train['h1n1_vaccine'],\n",
    "                                    cv=skf,method='predict_proba')\n",
    "    y_pred_seasonal = cross_val_predict(model_seasonal, X_train,y_train['seasonal_vaccine'],\n",
    "                                    cv=skf,method='predict_proba')\n",
    "    \n",
    "    roc_auc_h1n1 = roc_auc_score(y_train['h1n1_vaccine'],y_pred_h1n1[:,1])\n",
    "    roc_auc_seasonal = roc_auc_score(y_train['seasonal_vaccine'],y_pred_seasonal[:,1])\n",
    "    \n",
    "    return (roc_auc_h1n1+roc_auc_seasonal)/2   "
   ]
  },
  {
   "cell_type": "code",
   "execution_count": 17,
   "id": "0c121570",
   "metadata": {},
   "outputs": [
    {
     "name": "stderr",
     "output_type": "stream",
     "text": [
      "[I 2025-06-24 17:45:54,347] A new study created in memory with name: no-name-14bb3c67-22ba-4413-9f2f-f161ebaeb0ee\n",
      "[I 2025-06-24 17:46:55,328] Trial 0 finished with value: 0.8651530358448729 and parameters: {'n_estimators': 119, 'max_depth': 5, 'learning_rate': 0.06325631125661571, 'subsample': 0.6768317843561499, 'colsample_bytree': 0.7825586384684341, 'gamma': 1.4040475867178026, 'reg_alpha': 2.009378037156285, 'reg_lambda': 1.518036744936967}. Best is trial 0 with value: 0.8651530358448729.\n",
      "[I 2025-06-24 17:49:45,669] Trial 1 finished with value: 0.8420470362937986 and parameters: {'n_estimators': 181, 'max_depth': 10, 'learning_rate': 0.3098203562166921, 'subsample': 0.8655205442212967, 'colsample_bytree': 0.978318589315156, 'gamma': 0.005354162922005523, 'reg_alpha': 0.7072363631834877, 'reg_lambda': 3.3490582965858247}. Best is trial 0 with value: 0.8651530358448729.\n",
      "[I 2025-06-24 17:52:13,864] Trial 2 finished with value: 0.8452205973733476 and parameters: {'n_estimators': 291, 'max_depth': 5, 'learning_rate': 0.4624110948062717, 'subsample': 0.6644514662265629, 'colsample_bytree': 0.9718370196555608, 'gamma': 1.9260497066455047, 'reg_alpha': 3.821487688892998, 'reg_lambda': 4.832394784563877}. Best is trial 0 with value: 0.8651530358448729.\n",
      "[I 2025-06-24 17:55:24,355] Trial 3 finished with value: 0.8295171859047137 and parameters: {'n_estimators': 206, 'max_depth': 9, 'learning_rate': 0.3749355670038551, 'subsample': 0.6056515381708756, 'colsample_bytree': 0.9969136108043589, 'gamma': 1.2397908689521238, 'reg_alpha': 0.06799286703244478, 'reg_lambda': 4.608794858280655}. Best is trial 0 with value: 0.8651530358448729.\n",
      "[I 2025-06-24 17:56:34,715] Trial 4 finished with value: 0.8645268671204955 and parameters: {'n_estimators': 181, 'max_depth': 4, 'learning_rate': 0.2455423433268045, 'subsample': 0.8520924393632634, 'colsample_bytree': 0.8863160683582643, 'gamma': 4.772986116281053, 'reg_alpha': 1.3200175367497007, 'reg_lambda': 3.3150913582155828}. Best is trial 0 with value: 0.8651530358448729.\n",
      "[I 2025-06-24 17:59:30,527] Trial 5 finished with value: 0.8555341772167933 and parameters: {'n_estimators': 261, 'max_depth': 7, 'learning_rate': 0.11437005011997976, 'subsample': 0.6627424657163623, 'colsample_bytree': 0.9356507324005903, 'gamma': 0.004124343684966392, 'reg_alpha': 3.2781279764748024, 'reg_lambda': 2.0855337872816864}. Best is trial 0 with value: 0.8651530358448729.\n",
      "[I 2025-06-24 18:01:41,920] Trial 6 finished with value: 0.840232105836497 and parameters: {'n_estimators': 237, 'max_depth': 6, 'learning_rate': 0.29933063036153545, 'subsample': 0.6882442109438969, 'colsample_bytree': 0.8622450611459584, 'gamma': 0.8127030288756332, 'reg_alpha': 0.5765577066177069, 'reg_lambda': 3.891839627308088}. Best is trial 0 with value: 0.8651530358448729.\n",
      "[I 2025-06-24 18:02:48,341] Trial 7 finished with value: 0.8613189986794767 and parameters: {'n_estimators': 107, 'max_depth': 6, 'learning_rate': 0.3719195588755755, 'subsample': 0.6852383211619179, 'colsample_bytree': 0.8711318472100101, 'gamma': 3.746810260208343, 'reg_alpha': 4.903863760364208, 'reg_lambda': 4.664793278600445}. Best is trial 0 with value: 0.8651530358448729.\n",
      "[I 2025-06-24 18:04:19,328] Trial 8 finished with value: 0.860017740848365 and parameters: {'n_estimators': 185, 'max_depth': 5, 'learning_rate': 0.21187497536431502, 'subsample': 0.6877356503435557, 'colsample_bytree': 0.8882771710001336, 'gamma': 1.9212894112131618, 'reg_alpha': 4.78756432622317, 'reg_lambda': 0.004946388465431051}. Best is trial 0 with value: 0.8651530358448729.\n",
      "[I 2025-06-24 18:08:49,392] Trial 9 finished with value: 0.8242607784680612 and parameters: {'n_estimators': 295, 'max_depth': 10, 'learning_rate': 0.49052940253467603, 'subsample': 0.6183669896611794, 'colsample_bytree': 0.9039269855687526, 'gamma': 0.23735415724592424, 'reg_alpha': 0.7997219625591945, 'reg_lambda': 2.4389197259339426}. Best is trial 0 with value: 0.8651530358448729.\n",
      "[I 2025-06-24 18:09:30,058] Trial 10 finished with value: 0.84284817167251 and parameters: {'n_estimators': 115, 'max_depth': 3, 'learning_rate': 0.012325875968803968, 'subsample': 0.9542460467305999, 'colsample_bytree': 0.694001776559866, 'gamma': 3.151627414339316, 'reg_alpha': 2.044102462447027, 'reg_lambda': 1.3461972075854296}. Best is trial 0 with value: 0.8651530358448729.\n",
      "[I 2025-06-24 18:10:19,514] Trial 11 finished with value: 0.8640150320945854 and parameters: {'n_estimators': 140, 'max_depth': 3, 'learning_rate': 0.1615864853395427, 'subsample': 0.796458731984103, 'colsample_bytree': 0.7552919665207023, 'gamma': 4.737130843460712, 'reg_alpha': 2.02920458815955, 'reg_lambda': 1.2850851287141873}. Best is trial 0 with value: 0.8651530358448729.\n",
      "[I 2025-06-24 18:11:19,880] Trial 12 finished with value: 0.8627904397938206 and parameters: {'n_estimators': 155, 'max_depth': 4, 'learning_rate': 0.040775661080154124, 'subsample': 0.8299590567774284, 'colsample_bytree': 0.7559053125112322, 'gamma': 4.939517083458178, 'reg_alpha': 1.6985483655447844, 'reg_lambda': 3.2729204843920376}. Best is trial 0 with value: 0.8651530358448729.\n",
      "[I 2025-06-24 18:13:05,197] Trial 13 finished with value: 0.8646177578448784 and parameters: {'n_estimators': 145, 'max_depth': 8, 'learning_rate': 0.08216061164252403, 'subsample': 0.7666335915732195, 'colsample_bytree': 0.8129461766049977, 'gamma': 2.632077482999018, 'reg_alpha': 2.7118080192408915, 'reg_lambda': 1.180829636376389}. Best is trial 0 with value: 0.8651530358448729.\n",
      "[I 2025-06-24 18:14:40,706] Trial 14 finished with value: 0.8646177774478501 and parameters: {'n_estimators': 134, 'max_depth': 8, 'learning_rate': 0.09216277755470753, 'subsample': 0.7554174382229327, 'colsample_bytree': 0.8062333814564483, 'gamma': 2.6985767107254572, 'reg_alpha': 3.005631355257257, 'reg_lambda': 0.4946807913321758}. Best is trial 0 with value: 0.8651530358448729.\n",
      "[I 2025-06-24 18:16:01,041] Trial 15 finished with value: 0.8625876936585632 and parameters: {'n_estimators': 126, 'max_depth': 8, 'learning_rate': 0.1379488256230719, 'subsample': 0.7441933856231482, 'colsample_bytree': 0.6044968488836638, 'gamma': 1.8183748625709824, 'reg_alpha': 2.9703312001329887, 'reg_lambda': 0.28486097337187677}. Best is trial 0 with value: 0.8651530358448729.\n",
      "[I 2025-06-24 18:17:10,560] Trial 16 finished with value: 0.8637890658004791 and parameters: {'n_estimators': 102, 'max_depth': 7, 'learning_rate': 0.18481956023960394, 'subsample': 0.74452815292432, 'colsample_bytree': 0.8155356588551979, 'gamma': 3.4963658175544774, 'reg_alpha': 3.851486424193621, 'reg_lambda': 0.9287215207892068}. Best is trial 0 with value: 0.8651530358448729.\n",
      "[I 2025-06-24 18:19:07,210] Trial 17 finished with value: 0.8652088230804538 and parameters: {'n_estimators': 161, 'max_depth': 8, 'learning_rate': 0.07125777146371312, 'subsample': 0.9592897823957067, 'colsample_bytree': 0.695467048202477, 'gamma': 2.5946445610188036, 'reg_alpha': 3.6878077640229883, 'reg_lambda': 1.8894415837492966}. Best is trial 17 with value: 0.8652088230804538.\n",
      "[I 2025-06-24 18:20:30,620] Trial 18 finished with value: 0.8651511953889275 and parameters: {'n_estimators': 165, 'max_depth': 5, 'learning_rate': 0.0541625123948857, 'subsample': 0.920547639779146, 'colsample_bytree': 0.659660656476272, 'gamma': 1.186880131116319, 'reg_alpha': 4.294534638449437, 'reg_lambda': 1.8755629145632318}. Best is trial 17 with value: 0.8652088230804538.\n",
      "[I 2025-06-24 18:23:01,648] Trial 19 finished with value: 0.8651994742623743 and parameters: {'n_estimators': 219, 'max_depth': 9, 'learning_rate': 0.02848632156461977, 'subsample': 0.9131890374610677, 'colsample_bytree': 0.7190257599469333, 'gamma': 2.2298064173133225, 'reg_alpha': 3.5672525376690203, 'reg_lambda': 1.809790499041635}. Best is trial 17 with value: 0.8652088230804538.\n",
      "[I 2025-06-24 18:26:04,017] Trial 20 finished with value: 0.8629423610376461 and parameters: {'n_estimators': 211, 'max_depth': 9, 'learning_rate': 0.02102935889750383, 'subsample': 0.9855272233865661, 'colsample_bytree': 0.7037832219624142, 'gamma': 4.09979184242504, 'reg_alpha': 3.450285975491881, 'reg_lambda': 2.6628074634890724}. Best is trial 17 with value: 0.8652088230804538.\n"
     ]
    },
    {
     "name": "stderr",
     "output_type": "stream",
     "text": [
      "[I 2025-06-24 18:29:03,918] Trial 21 finished with value: 0.863175758193811 and parameters: {'n_estimators': 237, 'max_depth': 9, 'learning_rate': 0.07170231463202748, 'subsample': 0.9079514902420642, 'colsample_bytree': 0.758771752223498, 'gamma': 2.260223194007022, 'reg_alpha': 2.5124136595702504, 'reg_lambda': 1.814028943317383}. Best is trial 17 with value: 0.8652088230804538.\n",
      "[I 2025-06-24 18:31:20,659] Trial 22 finished with value: 0.864737337127727 and parameters: {'n_estimators': 226, 'max_depth': 7, 'learning_rate': 0.12405759331091853, 'subsample': 0.9888224207380765, 'colsample_bytree': 0.7077669809184215, 'gamma': 3.0288441346869623, 'reg_alpha': 4.200137786650428, 'reg_lambda': 2.5665075744771073}. Best is trial 17 with value: 0.8652088230804538.\n",
      "[I 2025-06-24 18:33:32,314] Trial 23 finished with value: 0.8596739864087051 and parameters: {'n_estimators': 164, 'max_depth': 8, 'learning_rate': 0.012027766684708209, 'subsample': 0.900473545641673, 'colsample_bytree': 0.6491802578029927, 'gamma': 1.514368599283901, 'reg_alpha': 3.578442515023123, 'reg_lambda': 1.7871670785575406}. Best is trial 17 with value: 0.8652088230804538.\n",
      "[I 2025-06-24 18:36:22,991] Trial 24 finished with value: 0.8626172259885618 and parameters: {'n_estimators': 259, 'max_depth': 9, 'learning_rate': 0.0674073911495226, 'subsample': 0.9453228085235709, 'colsample_bytree': 0.7245877918002641, 'gamma': 2.3448427100775553, 'reg_alpha': 2.057851369147682, 'reg_lambda': 0.7427376976156159}. Best is trial 17 with value: 0.8652088230804538.\n",
      "[I 2025-06-24 18:37:54,611] Trial 25 finished with value: 0.8596335842926852 and parameters: {'n_estimators': 196, 'max_depth': 6, 'learning_rate': 0.17435475636939063, 'subsample': 0.876224609714869, 'colsample_bytree': 0.6608689352297725, 'gamma': 0.7076197702138316, 'reg_alpha': 4.0990112101834955, 'reg_lambda': 2.233632803593243}. Best is trial 17 with value: 0.8652088230804538.\n",
      "[I 2025-06-24 18:39:53,159] Trial 26 finished with value: 0.8648564783039827 and parameters: {'n_estimators': 122, 'max_depth': 10, 'learning_rate': 0.0985149431018866, 'subsample': 0.9561068208377673, 'colsample_bytree': 0.7783765884422582, 'gamma': 2.979947171154592, 'reg_alpha': 4.521553908498877, 'reg_lambda': 1.5033976088952445}. Best is trial 17 with value: 0.8652088230804538.\n",
      "[I 2025-06-24 18:40:58,794] Trial 27 finished with value: 0.8650243864995429 and parameters: {'n_estimators': 153, 'max_depth': 4, 'learning_rate': 0.14446895171322194, 'subsample': 0.8177026323646047, 'colsample_bytree': 0.836820179967733, 'gamma': 2.1860824954843165, 'reg_alpha': 3.075475979513383, 'reg_lambda': 2.7345265014922933}. Best is trial 17 with value: 0.8652088230804538.\n",
      "[I 2025-06-24 18:42:40,172] Trial 28 finished with value: 0.8564296053382995 and parameters: {'n_estimators': 218, 'max_depth': 7, 'learning_rate': 0.22196750965857726, 'subsample': 0.9966890252013673, 'colsample_bytree': 0.606399543188888, 'gamma': 1.4644314884626841, 'reg_alpha': 2.388810677350227, 'reg_lambda': 2.958137402000379}. Best is trial 17 with value: 0.8652088230804538.\n",
      "[I 2025-06-24 18:45:21,211] Trial 29 finished with value: 0.8633346043140933 and parameters: {'n_estimators': 178, 'max_depth': 10, 'learning_rate': 0.04678615000001074, 'subsample': 0.8793792257899047, 'colsample_bytree': 0.7312410685869646, 'gamma': 0.5590357290306724, 'reg_alpha': 1.497251559965261, 'reg_lambda': 1.6394613616585063}. Best is trial 17 with value: 0.8652088230804538.\n"
     ]
    },
    {
     "name": "stdout",
     "output_type": "stream",
     "text": [
      "Best trial\n",
      "number:  17\n",
      "ROC_AUC:  0.8652088230804538\n",
      "Best hyperparameters\n",
      "n_estimators 161\n",
      "max_depth 8\n",
      "learning_rate 0.07125777146371312\n",
      "subsample 0.9592897823957067\n",
      "colsample_bytree 0.695467048202477\n",
      "gamma 2.5946445610188036\n",
      "reg_alpha 3.6878077640229883\n",
      "reg_lambda 1.8894415837492966\n"
     ]
    }
   ],
   "source": [
    "study = optuna.create_study(direction='maximize')\n",
    "study.optimize(objective, n_trials=30)\n",
    "\n",
    "print('Best trial')\n",
    "print('number: ',study.best_trial.number)\n",
    "print('ROC_AUC: ',study.best_trial.value)\n",
    "print('Best hyperparameters')\n",
    "for key,value in study.best_params.items():\n",
    "    print(key,value)    "
   ]
  },
  {
   "cell_type": "code",
   "execution_count": 18,
   "id": "164931fd",
   "metadata": {},
   "outputs": [
    {
     "name": "stdout",
     "output_type": "stream",
     "text": [
      "{'n_estimators': 161, 'max_depth': 8, 'learning_rate': 0.07125777146371312, 'subsample': 0.9592897823957067, 'colsample_bytree': 0.695467048202477, 'gamma': 2.5946445610188036, 'reg_alpha': 3.6878077640229883, 'reg_lambda': 1.8894415837492966}\n"
     ]
    }
   ],
   "source": [
    "best_params = study.best_params\n",
    "print(study.best_params)"
   ]
  },
  {
   "cell_type": "code",
   "execution_count": 20,
   "id": "87f3977d",
   "metadata": {},
   "outputs": [],
   "source": [
    "# final model\n",
    "\n",
    "final_model = Pipeline([\n",
    "    ('preprocessing',preprocessor),\n",
    "    ('classifier',MultiOutputClassifier(XGBClassifier(\n",
    "    **best_params,\n",
    "        use_label_encoder=False,\n",
    "        eval_metric='logloss',\n",
    "        random_state=42)))\n",
    "])"
   ]
  },
  {
   "cell_type": "code",
   "execution_count": 21,
   "id": "224fb710",
   "metadata": {},
   "outputs": [
    {
     "data": {
      "text/plain": [
       "Pipeline(steps=[('preprocessing',\n",
       "                 ColumnTransformer(transformers=[('num',\n",
       "                                                  Pipeline(steps=[('imputer',\n",
       "                                                                   SimpleImputer()),\n",
       "                                                                  ('scaler',\n",
       "                                                                   MinMaxScaler())]),\n",
       "                                                  ['h1n1_concern',\n",
       "                                                   'h1n1_knowledge',\n",
       "                                                   'behavioral_antiviral_meds',\n",
       "                                                   'behavioral_avoidance',\n",
       "                                                   'behavioral_face_mask',\n",
       "                                                   'behavioral_wash_hands',\n",
       "                                                   'behavioral_large_gatherings',\n",
       "                                                   'behavioral_outside_home',\n",
       "                                                   'behavioral_touch_f...\n",
       "                                                               interaction_constraints=None,\n",
       "                                                               learning_rate=0.07125777146371312,\n",
       "                                                               max_bin=None,\n",
       "                                                               max_cat_to_onehot=None,\n",
       "                                                               max_delta_step=None,\n",
       "                                                               max_depth=8,\n",
       "                                                               max_leaves=None,\n",
       "                                                               min_child_weight=None,\n",
       "                                                               missing=nan,\n",
       "                                                               monotone_constraints=None,\n",
       "                                                               n_estimators=161,\n",
       "                                                               n_jobs=None,\n",
       "                                                               num_parallel_tree=None,\n",
       "                                                               predictor=None,\n",
       "                                                               random_state=42,\n",
       "                                                               reg_alpha=3.6878077640229883,\n",
       "                                                               reg_lambda=1.8894415837492966, ...)))])"
      ]
     },
     "execution_count": 21,
     "metadata": {},
     "output_type": "execute_result"
    }
   ],
   "source": [
    "final_model.fit(X_train,y_train)"
   ]
  },
  {
   "cell_type": "code",
   "execution_count": 22,
   "id": "f8169ffc",
   "metadata": {},
   "outputs": [
    {
     "name": "stdout",
     "output_type": "stream",
     "text": [
      "h1n1_train_roc_auc: 0.9070\n",
      "seasonal_train_roc_auc: 0.8990\n"
     ]
    }
   ],
   "source": [
    "test_proba = final_model.predict_proba(X_train)\n",
    "h1n1_proba = test_proba[0][:,1]\n",
    "seasonal_proba = test_proba[1][:,1]\n",
    "\n",
    "h1n1_train_roc_auc = roc_auc_score(y_train['h1n1_vaccine'],h1n1_proba)\n",
    "seasonal_train_roc_auc = roc_auc_score(y_train['seasonal_vaccine'],seasonal_proba)\n",
    "\n",
    "print(f\"h1n1_train_roc_auc: {h1n1_train_roc_auc:.4f}\")\n",
    "print(f\"seasonal_train_roc_auc: {seasonal_train_roc_auc:.4f}\")"
   ]
  },
  {
   "cell_type": "code",
   "execution_count": 23,
   "id": "38c52f65",
   "metadata": {},
   "outputs": [
    {
     "name": "stdout",
     "output_type": "stream",
     "text": [
      "h1n1_test_roc_auc: 0.8758\n",
      "seasonal_test_roc_auc: 0.8643\n"
     ]
    }
   ],
   "source": [
    "test_proba = final_model.predict_proba(X_test)\n",
    "h1n1_proba = test_proba[0][:,1]\n",
    "seasonal_proba = test_proba[1][:,1]\n",
    "\n",
    "h1n1_test_roc_auc = roc_auc_score(y_test['h1n1_vaccine'],h1n1_proba)\n",
    "seasonal_test_roc_auc = roc_auc_score(y_test['seasonal_vaccine'],seasonal_proba)\n",
    "\n",
    "print(f\"h1n1_test_roc_auc: {h1n1_test_roc_auc:.4f}\")\n",
    "print(f\"seasonal_test_roc_auc: {seasonal_test_roc_auc:.4f}\")"
   ]
  },
  {
   "cell_type": "code",
   "execution_count": 24,
   "id": "da256dec",
   "metadata": {},
   "outputs": [
    {
     "data": {
      "text/plain": [
       "Pipeline(steps=[('preprocessing',\n",
       "                 ColumnTransformer(transformers=[('num',\n",
       "                                                  Pipeline(steps=[('imputer',\n",
       "                                                                   SimpleImputer()),\n",
       "                                                                  ('scaler',\n",
       "                                                                   MinMaxScaler())]),\n",
       "                                                  ['h1n1_concern',\n",
       "                                                   'h1n1_knowledge',\n",
       "                                                   'behavioral_antiviral_meds',\n",
       "                                                   'behavioral_avoidance',\n",
       "                                                   'behavioral_face_mask',\n",
       "                                                   'behavioral_wash_hands',\n",
       "                                                   'behavioral_large_gatherings',\n",
       "                                                   'behavioral_outside_home',\n",
       "                                                   'behavioral_touch_f...\n",
       "                                                               interaction_constraints=None,\n",
       "                                                               learning_rate=0.07125777146371312,\n",
       "                                                               max_bin=None,\n",
       "                                                               max_cat_to_onehot=None,\n",
       "                                                               max_delta_step=None,\n",
       "                                                               max_depth=8,\n",
       "                                                               max_leaves=None,\n",
       "                                                               min_child_weight=None,\n",
       "                                                               missing=nan,\n",
       "                                                               monotone_constraints=None,\n",
       "                                                               n_estimators=161,\n",
       "                                                               n_jobs=None,\n",
       "                                                               num_parallel_tree=None,\n",
       "                                                               predictor=None,\n",
       "                                                               random_state=42,\n",
       "                                                               reg_alpha=3.6878077640229883,\n",
       "                                                               reg_lambda=1.8894415837492966, ...)))])"
      ]
     },
     "execution_count": 24,
     "metadata": {},
     "output_type": "execute_result"
    }
   ],
   "source": [
    "#Fit model with full\n",
    "final_model.fit(X,y)"
   ]
  },
  {
   "cell_type": "code",
   "execution_count": 25,
   "id": "b16f3342",
   "metadata": {},
   "outputs": [
    {
     "name": "stdout",
     "output_type": "stream",
     "text": [
      "h1n1_roc_auc: 0.9061\n",
      "seasonal_roc_auc: 0.8975\n"
     ]
    }
   ],
   "source": [
    "test_proba = final_model.predict_proba(X)\n",
    "h1n1_proba = test_proba[0][:,1]\n",
    "seasonal_proba = test_proba[1][:,1]\n",
    "\n",
    "h1n1_roc_auc = roc_auc_score(y['h1n1_vaccine'],h1n1_proba)\n",
    "seasonal_roc_auc = roc_auc_score(y['seasonal_vaccine'],seasonal_proba)\n",
    "\n",
    "print(f\"h1n1_roc_auc: {h1n1_roc_auc:.4f}\")\n",
    "print(f\"seasonal_roc_auc: {seasonal_roc_auc:.4f}\")"
   ]
  },
  {
   "cell_type": "code",
   "execution_count": 26,
   "id": "a77f9982",
   "metadata": {},
   "outputs": [],
   "source": [
    "#Get test data from file\n",
    "test_X = pd.read_csv('test_set_features.csv',index_col='respondent_id')\n",
    "test_X = test_X[X.columns]"
   ]
  },
  {
   "cell_type": "code",
   "execution_count": 27,
   "id": "e15bc6a6",
   "metadata": {},
   "outputs": [],
   "source": [
    "#Predict for test data\n",
    "test_preds = final_model.predict_proba(test_X)\n",
    "\n",
    "h1n1_preds = test_preds[0][:,1]\n",
    "seasonal_preds = test_preds[1][:,1]"
   ]
  },
  {
   "cell_type": "code",
   "execution_count": 28,
   "id": "59f6f102",
   "metadata": {},
   "outputs": [],
   "source": [
    "submission_df = pd.read_csv(\"./submission_format_xgboost _240625.csv\", \n",
    "                            index_col=\"respondent_id\")"
   ]
  },
  {
   "cell_type": "code",
   "execution_count": 29,
   "id": "9aede09a",
   "metadata": {},
   "outputs": [],
   "source": [
    "# Make sure we have the rows in the same order\n",
    "np.testing.assert_array_equal(test_X.index.values, \n",
    "                              submission_df.index.values)"
   ]
  },
  {
   "cell_type": "code",
   "execution_count": 30,
   "id": "59a7f947",
   "metadata": {},
   "outputs": [
    {
     "data": {
      "text/html": [
       "<div>\n",
       "<style scoped>\n",
       "    .dataframe tbody tr th:only-of-type {\n",
       "        vertical-align: middle;\n",
       "    }\n",
       "\n",
       "    .dataframe tbody tr th {\n",
       "        vertical-align: top;\n",
       "    }\n",
       "\n",
       "    .dataframe thead th {\n",
       "        text-align: right;\n",
       "    }\n",
       "</style>\n",
       "<table border=\"1\" class=\"dataframe\">\n",
       "  <thead>\n",
       "    <tr style=\"text-align: right;\">\n",
       "      <th></th>\n",
       "      <th>h1n1_vaccine</th>\n",
       "      <th>seasonal_vaccine</th>\n",
       "    </tr>\n",
       "    <tr>\n",
       "      <th>respondent_id</th>\n",
       "      <th></th>\n",
       "      <th></th>\n",
       "    </tr>\n",
       "  </thead>\n",
       "  <tbody>\n",
       "    <tr>\n",
       "      <th>26707</th>\n",
       "      <td>0.110073</td>\n",
       "      <td>0.243758</td>\n",
       "    </tr>\n",
       "    <tr>\n",
       "      <th>26708</th>\n",
       "      <td>0.030760</td>\n",
       "      <td>0.033835</td>\n",
       "    </tr>\n",
       "    <tr>\n",
       "      <th>26709</th>\n",
       "      <td>0.183382</td>\n",
       "      <td>0.740788</td>\n",
       "    </tr>\n",
       "    <tr>\n",
       "      <th>26710</th>\n",
       "      <td>0.709495</td>\n",
       "      <td>0.899843</td>\n",
       "    </tr>\n",
       "    <tr>\n",
       "      <th>26711</th>\n",
       "      <td>0.305735</td>\n",
       "      <td>0.566868</td>\n",
       "    </tr>\n",
       "  </tbody>\n",
       "</table>\n",
       "</div>"
      ],
      "text/plain": [
       "               h1n1_vaccine  seasonal_vaccine\n",
       "respondent_id                                \n",
       "26707              0.110073          0.243758\n",
       "26708              0.030760          0.033835\n",
       "26709              0.183382          0.740788\n",
       "26710              0.709495          0.899843\n",
       "26711              0.305735          0.566868"
      ]
     },
     "execution_count": 30,
     "metadata": {},
     "output_type": "execute_result"
    }
   ],
   "source": [
    "# Save predictions to submission data frame\n",
    "submission_df[\"h1n1_vaccine\"] = h1n1_preds\n",
    "submission_df[\"seasonal_vaccine\"] = seasonal_preds\n",
    "\n",
    "submission_df.head()"
   ]
  },
  {
   "cell_type": "code",
   "execution_count": 31,
   "id": "a0c59889",
   "metadata": {},
   "outputs": [],
   "source": [
    "submission_df.to_csv('submission_format_xgboost _240625.csv', index=True)"
   ]
  },
  {
   "cell_type": "code",
   "execution_count": 32,
   "id": "8e1e24b6",
   "metadata": {},
   "outputs": [
    {
     "name": "stdout",
     "output_type": "stream",
     "text": [
      "   respondent_id  h1n1_vaccine  seasonal_vaccine\n",
      "0          26707      0.110073          0.243758\n",
      "1          26708      0.030760          0.033835\n",
      "2          26709      0.183382          0.740788\n",
      "3          26710      0.709495          0.899843\n",
      "4          26711      0.305735          0.566868\n",
      "       respondent_id  h1n1_vaccine  seasonal_vaccine\n",
      "26703          53410      0.232049          0.481953\n",
      "26704          53411      0.143092          0.215620\n",
      "26705          53412      0.176717          0.163087\n",
      "26706          53413      0.031284          0.297533\n",
      "26707          53414      0.629725          0.644044\n"
     ]
    }
   ],
   "source": [
    "df = pd.read_csv('submission_format_xgboost _240625.csv')\n",
    "print(df.head(5))\n",
    "print(df.tail(5))"
   ]
  },
  {
   "cell_type": "code",
   "execution_count": null,
   "id": "3978e0fa",
   "metadata": {},
   "outputs": [],
   "source": []
  }
 ],
 "metadata": {
  "kernelspec": {
   "display_name": "Python 3 (ipykernel)",
   "language": "python",
   "name": "python3"
  },
  "language_info": {
   "codemirror_mode": {
    "name": "ipython",
    "version": 3
   },
   "file_extension": ".py",
   "mimetype": "text/x-python",
   "name": "python",
   "nbconvert_exporter": "python",
   "pygments_lexer": "ipython3",
   "version": "3.8.6"
  },
  "toc": {
   "base_numbering": 1,
   "nav_menu": {},
   "number_sections": true,
   "sideBar": true,
   "skip_h1_title": false,
   "title_cell": "Table of Contents",
   "title_sidebar": "Contents",
   "toc_cell": false,
   "toc_position": {},
   "toc_section_display": true,
   "toc_window_display": false
  }
 },
 "nbformat": 4,
 "nbformat_minor": 5
}
