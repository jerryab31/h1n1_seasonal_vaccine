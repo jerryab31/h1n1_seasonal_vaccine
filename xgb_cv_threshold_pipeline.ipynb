{
 "cells": [
  {
   "cell_type": "code",
   "execution_count": 1,
   "id": "0bf6c8d7",
   "metadata": {},
   "outputs": [],
   "source": [
    "import pandas as pd\n",
    "import numpy as np\n",
    "import optuna\n",
    "from sklearn.model_selection import StratifiedKFold, train_test_split, cross_val_score, cross_val_predict\n",
    "from sklearn.pipeline import Pipeline\n",
    "from sklearn.compose import ColumnTransformer\n",
    "from sklearn.impute import SimpleImputer\n",
    "from sklearn.preprocessing import MinMaxScaler, OrdinalEncoder, OneHotEncoder\n",
    "from sklearn.multioutput import MultiOutputClassifier\n",
    "from sklearn.metrics import precision_recall_curve, roc_auc_score\n",
    "from xgboost import XGBClassifier"
   ]
  },
  {
   "cell_type": "code",
   "execution_count": 2,
   "id": "4fca3f4e",
   "metadata": {},
   "outputs": [],
   "source": [
    "# -----------------------------------\n",
    "# Data Extraction\n",
    "# -----------------------------------\n",
    "X = pd.read_csv('training_set_features.csv',index_col='respondent_id') \n",
    "y = pd.read_csv('training_set_labels.csv',index_col='respondent_id')\n",
    "pd.set_option(\"display.max_columns\", 100)"
   ]
  },
  {
   "cell_type": "code",
   "execution_count": 3,
   "id": "4a9a26ac",
   "metadata": {},
   "outputs": [],
   "source": [
    "# -----------------------------------\n",
    "# Define feature types\n",
    "# -----------------------------------\n",
    "numeric_features = [\n",
    "    'h1n1_concern', 'h1n1_knowledge', 'behavioral_antiviral_meds',\n",
    "    'behavioral_avoidance', 'behavioral_face_mask', 'behavioral_wash_hands',\n",
    "    'behavioral_large_gatherings', 'behavioral_outside_home', 'behavioral_touch_face',\n",
    "    'doctor_recc_h1n1', 'doctor_recc_seasonal', 'chronic_med_condition',\n",
    "    'child_under_6_months', 'health_worker', 'health_insurance',\n",
    "    'opinion_h1n1_vacc_effective', 'opinion_h1n1_risk', 'opinion_h1n1_sick_from_vacc',\n",
    "    'opinion_seas_vacc_effective', 'opinion_seas_risk', 'opinion_seas_sick_from_vacc',\n",
    "    'household_adults', 'household_children'\n",
    "]\n",
    "\n",
    "ordinal_features = ['education', 'income_poverty']\n",
    "ordinal_categories = [['< 12 Years', '12 Years', 'Some College', 'College Graduate'],\n",
    "                      ['Below Poverty', '<= $75,000, Above Poverty' ,'> $75,000']]\n",
    "\n",
    "nominal_features = [\n",
    "    'age_group', 'race', 'sex', 'marital_status',\n",
    "    'rent_or_own', 'employment_status', 'hhs_geo_region', 'census_msa',\n",
    "    'employment_industry', 'employment_occupation'\n",
    "]"
   ]
  },
  {
   "cell_type": "code",
   "execution_count": 4,
   "id": "2e0950b5",
   "metadata": {},
   "outputs": [],
   "source": [
    "# -----------------------------------\n",
    "# Preprocessing pipeline\n",
    "# -----------------------------------\n",
    "numeric_pipeline = Pipeline([\n",
    "    ('imputer', SimpleImputer(strategy='mean')),\n",
    "    ('scaler', MinMaxScaler())\n",
    "])\n",
    "\n",
    "ordinal_pipeline = Pipeline([\n",
    "    ('imputer', SimpleImputer(strategy='most_frequent')),\n",
    "    ('ordinal', OrdinalEncoder(categories=ordinal_categories))\n",
    "])\n",
    "\n",
    "nominal_pipeline = Pipeline([\n",
    "    ('imputer', SimpleImputer(strategy='most_frequent')),\n",
    "    ('onehot', OneHotEncoder(handle_unknown='ignore'))\n",
    "])\n",
    "\n",
    "preprocessor = ColumnTransformer([\n",
    "    ('num', numeric_pipeline, numeric_features),\n",
    "    ('ord', ordinal_pipeline, ordinal_features),\n",
    "    ('nom', nominal_pipeline, nominal_features)\n",
    "])"
   ]
  },
  {
   "cell_type": "code",
   "execution_count": 5,
   "id": "e999f0a6",
   "metadata": {},
   "outputs": [],
   "source": [
    "# -----------------------------------\n",
    "# Train/Test split\n",
    "# -----------------------------------\n",
    "X_train, X_val, y_train, y_val = train_test_split(\n",
    "    X, y, test_size=0.2, stratify=y['h1n1_vaccine'], random_state=42\n",
    ")"
   ]
  },
  {
   "cell_type": "code",
   "execution_count": 6,
   "id": "f0ceb0d4",
   "metadata": {},
   "outputs": [],
   "source": [
    "# -----------------------------------\n",
    "# Optuna tuning with cross_val_score\n",
    "# -----------------------------------\n",
    "def objective(trial):\n",
    "    params = {\n",
    "        'n_estimators': trial.suggest_int('n_estimators', 100, 300),\n",
    "        'max_depth': trial.suggest_int('max_depth', 3, 10),\n",
    "        'learning_rate': trial.suggest_float('learning_rate', 0.01, 0.3),\n",
    "        'subsample': trial.suggest_float('subsample', 0.6, 1.0),\n",
    "        'colsample_bytree': trial.suggest_float('colsample_bytree', 0.6, 1.0),\n",
    "        'gamma': trial.suggest_float('gamma', 0, 5),\n",
    "        'reg_lambda': trial.suggest_float('reg_lambda', 0, 5),\n",
    "        'reg_alpha': trial.suggest_float('reg_alpha', 0, 5),\n",
    "        'use_label_encoder': False,\n",
    "        'eval_metric': 'logloss',\n",
    "        'random_state': 42\n",
    "    }\n",
    "\n",
    "    skf = StratifiedKFold(n_splits=5, shuffle=True, random_state=42)\n",
    "\n",
    "    model_h1n1 = Pipeline([\n",
    "        ('preprocessing', preprocessor),\n",
    "        ('clf', XGBClassifier(**params))\n",
    "    ])\n",
    "    model_seasonal = Pipeline([\n",
    "        ('preprocessing', preprocessor),\n",
    "        ('clf', XGBClassifier(**params))\n",
    "    ])\n",
    "\n",
    "    auc_h1 = cross_val_score(model_h1n1, X_train, y_train['h1n1_vaccine'], cv=skf, scoring='roc_auc').mean()\n",
    "    auc_se = cross_val_score(model_seasonal, X_train, y_train['seasonal_vaccine'], cv=skf, scoring='roc_auc').mean()\n",
    "\n",
    "    return (auc_h1 + auc_se) / 2"
   ]
  },
  {
   "cell_type": "code",
   "execution_count": 7,
   "id": "0cf9a5e9",
   "metadata": {},
   "outputs": [
    {
     "name": "stderr",
     "output_type": "stream",
     "text": [
      "[I 2025-06-21 19:33:56,236] A new study created in memory with name: no-name-9e9d1720-e215-42ed-81aa-7adb113140e1\n",
      "[I 2025-06-21 19:35:20,810] Trial 0 finished with value: 0.86111583260454 and parameters: {'n_estimators': 263, 'max_depth': 4, 'learning_rate': 0.014612828424548438, 'subsample': 0.9312047917128816, 'colsample_bytree': 0.6237667885557325, 'gamma': 3.525928073436158, 'reg_lambda': 0.31683478882008786, 'reg_alpha': 0.37477836011063026}. Best is trial 0 with value: 0.86111583260454.\n",
      "[I 2025-06-21 19:38:53,605] Trial 1 finished with value: 0.8550177961029899 and parameters: {'n_estimators': 225, 'max_depth': 10, 'learning_rate': 0.28915014401018646, 'subsample': 0.6282126455892263, 'colsample_bytree': 0.8174092773188386, 'gamma': 3.704070061648582, 'reg_lambda': 4.814561918972462, 'reg_alpha': 1.8257859780974517}. Best is trial 0 with value: 0.86111583260454.\n",
      "[I 2025-06-21 19:40:07,812] Trial 2 finished with value: 0.8659815669100088 and parameters: {'n_estimators': 104, 'max_depth': 8, 'learning_rate': 0.06379214443196968, 'subsample': 0.7161589979547878, 'colsample_bytree': 0.6534372840090988, 'gamma': 1.0111599440177677, 'reg_lambda': 4.25075703777777, 'reg_alpha': 0.5881714853571368}. Best is trial 2 with value: 0.8659815669100088.\n",
      "[I 2025-06-21 19:41:23,127] Trial 3 finished with value: 0.8646240600802886 and parameters: {'n_estimators': 154, 'max_depth': 4, 'learning_rate': 0.2770791952374702, 'subsample': 0.6162515090025467, 'colsample_bytree': 0.9874422452883287, 'gamma': 3.967000743526827, 'reg_lambda': 3.5711073377291376, 'reg_alpha': 3.8383931156634468}. Best is trial 2 with value: 0.8659815669100088.\n",
      "[I 2025-06-21 19:43:48,997] Trial 4 finished with value: 0.8615828690828433 and parameters: {'n_estimators': 280, 'max_depth': 8, 'learning_rate': 0.13229974599302172, 'subsample': 0.997107729302261, 'colsample_bytree': 0.6532786663563385, 'gamma': 1.4149517445805597, 'reg_lambda': 3.495000635803687, 'reg_alpha': 4.475674192115489}. Best is trial 2 with value: 0.8659815669100088.\n",
      "[I 2025-06-21 19:45:36,354] Trial 5 finished with value: 0.8623543526319597 and parameters: {'n_estimators': 183, 'max_depth': 6, 'learning_rate': 0.13785144373974656, 'subsample': 0.6926080236131438, 'colsample_bytree': 0.902836506170552, 'gamma': 0.4516709938328395, 'reg_lambda': 3.3038396820216893, 'reg_alpha': 4.63873952642329}. Best is trial 2 with value: 0.8659815669100088.\n",
      "[I 2025-06-21 19:48:18,445] Trial 6 finished with value: 0.8627459220807554 and parameters: {'n_estimators': 196, 'max_depth': 10, 'learning_rate': 0.012221074340268197, 'subsample': 0.8137263960239624, 'colsample_bytree': 0.7174718961077674, 'gamma': 4.633328574270141, 'reg_lambda': 2.5133129645536267, 'reg_alpha': 0.4657343930796215}. Best is trial 2 with value: 0.8659815669100088.\n",
      "[I 2025-06-21 19:49:19,428] Trial 7 finished with value: 0.8642220966178273 and parameters: {'n_estimators': 104, 'max_depth': 7, 'learning_rate': 0.15141655843130253, 'subsample': 0.9729086605510382, 'colsample_bytree': 0.7051651092277531, 'gamma': 1.6895232543109078, 'reg_lambda': 2.6786054034142284, 'reg_alpha': 2.0652236038127496}. Best is trial 2 with value: 0.8659815669100088.\n",
      "[I 2025-06-21 19:51:37,413] Trial 8 finished with value: 0.8590695581943557 and parameters: {'n_estimators': 133, 'max_depth': 10, 'learning_rate': 0.011067676776647646, 'subsample': 0.7869127596590826, 'colsample_bytree': 0.9248036543322424, 'gamma': 1.8989177944822533, 'reg_lambda': 0.131940383230566, 'reg_alpha': 0.05386960139614538}. Best is trial 2 with value: 0.8659815669100088.\n",
      "[I 2025-06-21 19:53:25,794] Trial 9 finished with value: 0.866912785674139 and parameters: {'n_estimators': 142, 'max_depth': 8, 'learning_rate': 0.14557286865459382, 'subsample': 0.6337641090892789, 'colsample_bytree': 0.837094614643737, 'gamma': 4.965078503578845, 'reg_lambda': 3.004357450577034, 'reg_alpha': 4.300379542501544}. Best is trial 9 with value: 0.866912785674139.\n",
      "[I 2025-06-21 19:55:18,800] Trial 10 finished with value: 0.8657518227117318 and parameters: {'n_estimators': 232, 'max_depth': 6, 'learning_rate': 0.218184515358254, 'subsample': 0.8519733013661343, 'colsample_bytree': 0.8091649996959664, 'gamma': 4.988248627175879, 'reg_lambda': 1.3530500947628388, 'reg_alpha': 3.2735484846730802}. Best is trial 9 with value: 0.866912785674139.\n",
      "[I 2025-06-21 19:56:35,908] Trial 11 finished with value: 0.8652958716622997 and parameters: {'n_estimators': 104, 'max_depth': 8, 'learning_rate': 0.07723764524563344, 'subsample': 0.7139715486429308, 'colsample_bytree': 0.7660475691508886, 'gamma': 0.12203424378791605, 'reg_lambda': 4.866196862095584, 'reg_alpha': 1.3108250250866753}. Best is trial 9 with value: 0.866912785674139.\n",
      "[I 2025-06-21 19:58:31,975] Trial 12 finished with value: 0.866927230492754 and parameters: {'n_estimators': 147, 'max_depth': 8, 'learning_rate': 0.07951654984477956, 'subsample': 0.7089171665291802, 'colsample_bytree': 0.8575052170741511, 'gamma': 2.717372569126357, 'reg_lambda': 4.354361264346143, 'reg_alpha': 3.1318037720056555}. Best is trial 12 with value: 0.866927230492754.\n",
      "[I 2025-06-21 20:00:51,767] Trial 13 finished with value: 0.8591865273996471 and parameters: {'n_estimators': 157, 'max_depth': 9, 'learning_rate': 0.1973595621103863, 'subsample': 0.6678663311590991, 'colsample_bytree': 0.8695364272422501, 'gamma': 2.6122290725883217, 'reg_lambda': 1.5878088718784495, 'reg_alpha': 3.223941451010483}. Best is trial 12 with value: 0.866927230492754.\n",
      "[I 2025-06-21 20:02:35,053] Trial 14 finished with value: 0.8666787066467794 and parameters: {'n_estimators': 155, 'max_depth': 7, 'learning_rate': 0.09396345178608635, 'subsample': 0.7563084155493405, 'colsample_bytree': 0.8568595695856993, 'gamma': 2.940863186247962, 'reg_lambda': 4.134879102141662, 'reg_alpha': 3.065094979865943}. Best is trial 12 with value: 0.866927230492754.\n",
      "[I 2025-06-21 20:03:58,615] Trial 15 finished with value: 0.8661307776665395 and parameters: {'n_estimators': 136, 'max_depth': 5, 'learning_rate': 0.19118438739414073, 'subsample': 0.6530677465353636, 'colsample_bytree': 0.970820156847481, 'gamma': 4.249200649728085, 'reg_lambda': 1.866292976362045, 'reg_alpha': 4.986629961979716}. Best is trial 12 with value: 0.866927230492754.\n",
      "[I 2025-06-21 20:06:16,915] Trial 16 finished with value: 0.8663384959739425 and parameters: {'n_estimators': 179, 'max_depth': 9, 'learning_rate': 0.10677557870544173, 'subsample': 0.600297203890691, 'colsample_bytree': 0.7578189010209586, 'gamma': 3.1240396865647986, 'reg_lambda': 2.8678951862607467, 'reg_alpha': 4.042287484994825}. Best is trial 12 with value: 0.866927230492754.\n",
      "[I 2025-06-21 20:08:07,336] Trial 17 finished with value: 0.8665045172719724 and parameters: {'n_estimators': 134, 'max_depth': 9, 'learning_rate': 0.060412800268788064, 'subsample': 0.7533606256685309, 'colsample_bytree': 0.8495371476217789, 'gamma': 2.4652338171606276, 'reg_lambda': 4.264724371565728, 'reg_alpha': 2.4532335218302865}. Best is trial 12 with value: 0.866927230492754.\n",
      "[I 2025-06-21 20:09:18,952] Trial 18 finished with value: 0.8662162348240243 and parameters: {'n_estimators': 220, 'max_depth': 3, 'learning_rate': 0.18261514790855565, 'subsample': 0.8568679264763448, 'colsample_bytree': 0.9248129021180361, 'gamma': 4.405865099202069, 'reg_lambda': 2.0923769297817754, 'reg_alpha': 3.7428004256181038}. Best is trial 12 with value: 0.866927230492754.\n",
      "[I 2025-06-21 20:11:09,404] Trial 19 finished with value: 0.864363202778293 and parameters: {'n_estimators': 177, 'max_depth': 7, 'learning_rate': 0.11985036225592657, 'subsample': 0.6615062416590418, 'colsample_bytree': 0.7800247460952279, 'gamma': 2.0729241493241313, 'reg_lambda': 3.8383078348148314, 'reg_alpha': 2.8103238766149805}. Best is trial 12 with value: 0.866927230492754.\n",
      "[I 2025-06-21 20:12:50,109] Trial 20 finished with value: 0.8542121780067431 and parameters: {'n_estimators': 134, 'max_depth': 8, 'learning_rate': 0.2281490052246914, 'subsample': 0.7414726963138272, 'colsample_bytree': 0.8897380496235177, 'gamma': 1.0248237602427088, 'reg_lambda': 0.9484822166267399, 'reg_alpha': 4.1797198789322945}. Best is trial 12 with value: 0.866927230492754.\n",
      "[I 2025-06-21 20:14:28,032] Trial 21 finished with value: 0.8664803337818492 and parameters: {'n_estimators': 159, 'max_depth': 7, 'learning_rate': 0.09326003410144292, 'subsample': 0.7787304718786909, 'colsample_bytree': 0.8392482715706332, 'gamma': 3.0722354339716826, 'reg_lambda': 4.241249463058461, 'reg_alpha': 3.2899596677971106}. Best is trial 12 with value: 0.866927230492754.\n"
     ]
    },
    {
     "name": "stderr",
     "output_type": "stream",
     "text": [
      "[I 2025-06-21 20:15:45,017] Trial 22 finished with value: 0.8659847890294456 and parameters: {'n_estimators': 122, 'max_depth': 6, 'learning_rate': 0.04640302378044879, 'subsample': 0.6892493480552125, 'colsample_bytree': 0.8502789368352034, 'gamma': 2.9540019680053864, 'reg_lambda': 3.0941198473884506, 'reg_alpha': 2.6769442200023406}. Best is trial 12 with value: 0.866927230492754.\n",
      "[I 2025-06-21 20:17:24,847] Trial 23 finished with value: 0.8663208444305232 and parameters: {'n_estimators': 162, 'max_depth': 7, 'learning_rate': 0.09474759315705908, 'subsample': 0.7421397173996406, 'colsample_bytree': 0.8013289769934355, 'gamma': 2.28276724351103, 'reg_lambda': 3.9609725522218695, 'reg_alpha': 3.5705129642771984}. Best is trial 12 with value: 0.866927230492754.\n",
      "[I 2025-06-21 20:20:15,552] Trial 24 finished with value: 0.863330450167511 and parameters: {'n_estimators': 207, 'max_depth': 9, 'learning_rate': 0.16268177005790657, 'subsample': 0.8355934565044936, 'colsample_bytree': 0.9443264975268097, 'gamma': 3.5391660079075127, 'reg_lambda': 4.577294319429667, 'reg_alpha': 2.9697898733780184}. Best is trial 12 with value: 0.866927230492754.\n",
      "[I 2025-06-21 20:22:02,224] Trial 25 finished with value: 0.8663767423491091 and parameters: {'n_estimators': 147, 'max_depth': 8, 'learning_rate': 0.04171873178799107, 'subsample': 0.8857504751938867, 'colsample_bytree': 0.8825165368969075, 'gamma': 2.7127717040085777, 'reg_lambda': 3.867442218594438, 'reg_alpha': 2.066149769469588}. Best is trial 12 with value: 0.866927230492754.\n",
      "[I 2025-06-21 20:23:08,070] Trial 26 finished with value: 0.866338759946806 and parameters: {'n_estimators': 123, 'max_depth': 5, 'learning_rate': 0.11304021842708342, 'subsample': 0.6442885712975294, 'colsample_bytree': 0.8395091060777332, 'gamma': 3.244009560470894, 'reg_lambda': 4.553827783240225, 'reg_alpha': 4.398946723378715}. Best is trial 12 with value: 0.866927230492754.\n",
      "[I 2025-06-21 20:24:52,200] Trial 27 finished with value: 0.8650158968245683 and parameters: {'n_estimators': 172, 'max_depth': 7, 'learning_rate': 0.1610208024035013, 'subsample': 0.6987033915260111, 'colsample_bytree': 0.7536153283656288, 'gamma': 4.986303384995109, 'reg_lambda': 2.2120382093653763, 'reg_alpha': 1.4474100461602184}. Best is trial 12 with value: 0.866927230492754.\n",
      "[I 2025-06-21 20:27:19,485] Trial 28 finished with value: 0.8667375112262119 and parameters: {'n_estimators': 191, 'max_depth': 8, 'learning_rate': 0.08384412949693695, 'subsample': 0.7254181490554983, 'colsample_bytree': 0.9133861107415635, 'gamma': 3.8613671367033193, 'reg_lambda': 3.1210365495079233, 'reg_alpha': 4.836917166124483}. Best is trial 12 with value: 0.866927230492754.\n",
      "[I 2025-06-21 20:30:08,752] Trial 29 finished with value: 0.8662158717512528 and parameters: {'n_estimators': 191, 'max_depth': 9, 'learning_rate': 0.0365773461571058, 'subsample': 0.7224734618302775, 'colsample_bytree': 0.9472544898126702, 'gamma': 3.92450056737189, 'reg_lambda': 2.9281710550874855, 'reg_alpha': 4.872998707088044}. Best is trial 12 with value: 0.866927230492754.\n"
     ]
    },
    {
     "name": "stdout",
     "output_type": "stream",
     "text": [
      "Best params: {'n_estimators': 147, 'max_depth': 8, 'learning_rate': 0.07951654984477956, 'subsample': 0.7089171665291802, 'colsample_bytree': 0.8575052170741511, 'gamma': 2.717372569126357, 'reg_lambda': 4.354361264346143, 'reg_alpha': 3.1318037720056555}\n"
     ]
    }
   ],
   "source": [
    "# -----------------------------------\n",
    "# Run Optuna search\n",
    "# -----------------------------------\n",
    "study = optuna.create_study(direction='maximize')\n",
    "study.optimize(objective, n_trials=30)\n",
    "\n",
    "print(\"Best params:\", study.best_params)\n",
    "best_params = study.best_params"
   ]
  },
  {
   "cell_type": "code",
   "execution_count": 8,
   "id": "a9563ca8",
   "metadata": {},
   "outputs": [
    {
     "data": {
      "text/plain": [
       "Pipeline(steps=[('preprocessing',\n",
       "                 ColumnTransformer(transformers=[('num',\n",
       "                                                  Pipeline(steps=[('imputer',\n",
       "                                                                   SimpleImputer()),\n",
       "                                                                  ('scaler',\n",
       "                                                                   MinMaxScaler())]),\n",
       "                                                  ['h1n1_concern',\n",
       "                                                   'h1n1_knowledge',\n",
       "                                                   'behavioral_antiviral_meds',\n",
       "                                                   'behavioral_avoidance',\n",
       "                                                   'behavioral_face_mask',\n",
       "                                                   'behavioral_wash_hands',\n",
       "                                                   'behavioral_large_gatherings',\n",
       "                                                   'behavioral_outside_home',\n",
       "                                                   'behavioral_touch_f...\n",
       "                                                               interaction_constraints=None,\n",
       "                                                               learning_rate=0.07951654984477956,\n",
       "                                                               max_bin=None,\n",
       "                                                               max_cat_to_onehot=None,\n",
       "                                                               max_delta_step=None,\n",
       "                                                               max_depth=8,\n",
       "                                                               max_leaves=None,\n",
       "                                                               min_child_weight=None,\n",
       "                                                               missing=nan,\n",
       "                                                               monotone_constraints=None,\n",
       "                                                               n_estimators=147,\n",
       "                                                               n_jobs=None,\n",
       "                                                               num_parallel_tree=None,\n",
       "                                                               predictor=None,\n",
       "                                                               random_state=42,\n",
       "                                                               reg_alpha=3.1318037720056555,\n",
       "                                                               reg_lambda=4.354361264346143, ...)))])"
      ]
     },
     "execution_count": 8,
     "metadata": {},
     "output_type": "execute_result"
    }
   ],
   "source": [
    "# -----------------------------------\n",
    "# Final model trained on training set\n",
    "# -----------------------------------\n",
    "final_model = Pipeline([\n",
    "    ('preprocessing', preprocessor),\n",
    "    ('classifier', MultiOutputClassifier(XGBClassifier(\n",
    "        **best_params,\n",
    "        use_label_encoder=False,\n",
    "        eval_metric='logloss',\n",
    "        random_state=42\n",
    "    )))\n",
    "])\n",
    "final_model.fit(X_train, y_train)"
   ]
  },
  {
   "cell_type": "code",
   "execution_count": 9,
   "id": "9adc7562",
   "metadata": {},
   "outputs": [
    {
     "name": "stdout",
     "output_type": "stream",
     "text": [
      "Tuned thresholds → h1n1: 0.3237, seasonal: 0.3561\n"
     ]
    }
   ],
   "source": [
    "# -----------------------------------\n",
    "# Threshold tuning using cross_val_predict\n",
    "# -----------------------------------\n",
    "def find_best_threshold(y_true, probs):\n",
    "    precisions, recalls, thresholds = precision_recall_curve(y_true, probs)\n",
    "    f1_scores = 2 * (precisions * recalls) / (precisions + recalls + 1e-8)\n",
    "    best_index = np.argmax(f1_scores)\n",
    "    return thresholds[best_index]\n",
    "\n",
    "skf = StratifiedKFold(n_splits=5, shuffle=True, random_state=42)\n",
    "\n",
    "model_h1n1 = Pipeline([\n",
    "    ('preprocessing', preprocessor),\n",
    "    ('clf', XGBClassifier(**best_params, use_label_encoder=False, eval_metric='logloss', random_state=42))\n",
    "])\n",
    "model_seasonal = Pipeline([\n",
    "    ('preprocessing', preprocessor),\n",
    "    ('clf', XGBClassifier(**best_params, use_label_encoder=False, eval_metric='logloss', random_state=42))\n",
    "])\n",
    "\n",
    "h1n1_probs = cross_val_predict(model_h1n1, X_train, y_train['h1n1_vaccine'], cv=skf, method='predict_proba')[:, 1]\n",
    "seasonal_probs = cross_val_predict(model_seasonal, X_train, y_train['seasonal_vaccine'], cv=skf, method='predict_proba')[:, 1]\n",
    "\n",
    "best_thresh_h1n1 = find_best_threshold(y_train['h1n1_vaccine'], h1n1_probs)\n",
    "best_thresh_seasonal = find_best_threshold(y_train['seasonal_vaccine'], seasonal_probs)\n",
    "\n",
    "print(f\"Tuned thresholds → h1n1: {best_thresh_h1n1:.4f}, seasonal: {best_thresh_seasonal:.4f}\")"
   ]
  },
  {
   "cell_type": "code",
   "execution_count": 10,
   "id": "20c4e23a",
   "metadata": {},
   "outputs": [
    {
     "name": "stdout",
     "output_type": "stream",
     "text": [
      "Validation ROC AUC\n",
      "h1n1: 0.864086392618135\n",
      "seasonal: 0.8645521863363819\n"
     ]
    }
   ],
   "source": [
    "# -----------------------------------\n",
    "# Evaluate on validation set\n",
    "# -----------------------------------\n",
    "val_probs = final_model.predict_proba(X_val)\n",
    "val_h1 = (val_probs[0][:, 1] >= best_thresh_h1n1).astype(int)\n",
    "val_se = (val_probs[1][:, 1] >= best_thresh_seasonal).astype(int)\n",
    "\n",
    "print(\"Validation ROC AUC\")\n",
    "print(\"h1n1:\", roc_auc_score(y_val['h1n1_vaccine'], val_probs[0][:, 1]))\n",
    "print(\"seasonal:\", roc_auc_score(y_val['seasonal_vaccine'], val_probs[1][:, 1]))"
   ]
  },
  {
   "cell_type": "code",
   "execution_count": 12,
   "id": "d02e8239",
   "metadata": {},
   "outputs": [],
   "source": [
    "# Extract TEST Data\n",
    "X_test = pd.read_csv('test_set_features.csv',index_col='respondent_id')"
   ]
  },
  {
   "cell_type": "code",
   "execution_count": 13,
   "id": "a34142cd",
   "metadata": {},
   "outputs": [],
   "source": [
    "# -----------------------------------\n",
    "# Retrain on full data and predict on test\n",
    "# -----------------------------------\n",
    "final_model.fit(X, y)\n",
    "test_probs = final_model.predict_proba(X_test)\n",
    "final_h1 = (test_probs[0][:, 1] >= best_thresh_h1n1).astype(int)\n",
    "final_se = (test_probs[1][:, 1] >= best_thresh_seasonal).astype(int)"
   ]
  },
  {
   "cell_type": "code",
   "execution_count": 14,
   "id": "6703940f",
   "metadata": {},
   "outputs": [],
   "source": [
    "# -----------------------------------\n",
    "# Predict on Test Data for final submission\n",
    "# -----------------------------------\n",
    "\n",
    "# Submission template\n",
    "submission_df = pd.read_csv(\"./submission_format _xgboost.csv\", \n",
    "                            index_col=\"respondent_id\")\n",
    "\n",
    "# Make sure we have the rows in the same order\n",
    "np.testing.assert_array_equal(X_test.index.values, \n",
    "                              submission_df.index.values)"
   ]
  },
  {
   "cell_type": "code",
   "execution_count": 15,
   "id": "d93092da",
   "metadata": {},
   "outputs": [
    {
     "data": {
      "text/html": [
       "<div>\n",
       "<style scoped>\n",
       "    .dataframe tbody tr th:only-of-type {\n",
       "        vertical-align: middle;\n",
       "    }\n",
       "\n",
       "    .dataframe tbody tr th {\n",
       "        vertical-align: top;\n",
       "    }\n",
       "\n",
       "    .dataframe thead th {\n",
       "        text-align: right;\n",
       "    }\n",
       "</style>\n",
       "<table border=\"1\" class=\"dataframe\">\n",
       "  <thead>\n",
       "    <tr style=\"text-align: right;\">\n",
       "      <th></th>\n",
       "      <th>h1n1_vaccine</th>\n",
       "      <th>seasonal_vaccine</th>\n",
       "    </tr>\n",
       "    <tr>\n",
       "      <th>respondent_id</th>\n",
       "      <th></th>\n",
       "      <th></th>\n",
       "    </tr>\n",
       "  </thead>\n",
       "  <tbody>\n",
       "    <tr>\n",
       "      <th>26707</th>\n",
       "      <td>0</td>\n",
       "      <td>0</td>\n",
       "    </tr>\n",
       "    <tr>\n",
       "      <th>26708</th>\n",
       "      <td>0</td>\n",
       "      <td>0</td>\n",
       "    </tr>\n",
       "    <tr>\n",
       "      <th>26709</th>\n",
       "      <td>0</td>\n",
       "      <td>1</td>\n",
       "    </tr>\n",
       "    <tr>\n",
       "      <th>26710</th>\n",
       "      <td>1</td>\n",
       "      <td>1</td>\n",
       "    </tr>\n",
       "    <tr>\n",
       "      <th>26711</th>\n",
       "      <td>1</td>\n",
       "      <td>1</td>\n",
       "    </tr>\n",
       "  </tbody>\n",
       "</table>\n",
       "</div>"
      ],
      "text/plain": [
       "               h1n1_vaccine  seasonal_vaccine\n",
       "respondent_id                                \n",
       "26707                     0                 0\n",
       "26708                     0                 0\n",
       "26709                     0                 1\n",
       "26710                     1                 1\n",
       "26711                     1                 1"
      ]
     },
     "execution_count": 15,
     "metadata": {},
     "output_type": "execute_result"
    }
   ],
   "source": [
    "# Save predictions to submission data frame\n",
    "submission_df[\"h1n1_vaccine\"] = final_h1\n",
    "submission_df[\"seasonal_vaccine\"] = final_se\n",
    "\n",
    "submission_df.head()"
   ]
  },
  {
   "cell_type": "code",
   "execution_count": 16,
   "id": "e3969618",
   "metadata": {},
   "outputs": [],
   "source": [
    "submission_df.to_csv('submission_format _xgboost.csv', index=True)"
   ]
  },
  {
   "cell_type": "code",
   "execution_count": 18,
   "id": "e347b589",
   "metadata": {},
   "outputs": [
    {
     "name": "stdout",
     "output_type": "stream",
     "text": [
      "   respondent_id  h1n1_vaccine  seasonal_vaccine\n",
      "0          26707             0                 0\n",
      "1          26708             0                 0\n",
      "2          26709             0                 1\n",
      "3          26710             1                 1\n",
      "4          26711             1                 1\n",
      "       respondent_id  h1n1_vaccine  seasonal_vaccine\n",
      "26703          53410             0                 1\n",
      "26704          53411             0                 0\n",
      "26705          53412             0                 0\n",
      "26706          53413             0                 0\n",
      "26707          53414             1                 1\n"
     ]
    }
   ],
   "source": [
    "df = pd.read_csv('submission_format _xgboost.csv')\n",
    "print(df.head(5))\n",
    "print(df.tail(5))"
   ]
  },
  {
   "cell_type": "code",
   "execution_count": null,
   "id": "32d705c3",
   "metadata": {},
   "outputs": [],
   "source": []
  }
 ],
 "metadata": {
  "kernelspec": {
   "display_name": "Python 3 (ipykernel)",
   "language": "python",
   "name": "python3"
  },
  "language_info": {
   "codemirror_mode": {
    "name": "ipython",
    "version": 3
   },
   "file_extension": ".py",
   "mimetype": "text/x-python",
   "name": "python",
   "nbconvert_exporter": "python",
   "pygments_lexer": "ipython3",
   "version": "3.8.6"
  },
  "toc": {
   "base_numbering": 1,
   "nav_menu": {},
   "number_sections": true,
   "sideBar": true,
   "skip_h1_title": false,
   "title_cell": "Table of Contents",
   "title_sidebar": "Contents",
   "toc_cell": false,
   "toc_position": {},
   "toc_section_display": true,
   "toc_window_display": false
  }
 },
 "nbformat": 4,
 "nbformat_minor": 5
}
