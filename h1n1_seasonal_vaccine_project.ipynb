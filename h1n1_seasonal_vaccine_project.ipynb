{
 "cells": [
  {
   "cell_type": "code",
   "execution_count": 1,
   "id": "e0862952",
   "metadata": {},
   "outputs": [],
   "source": [
    "import numpy as np\n",
    "import pandas as pd\n",
    "import seaborn as sns\n",
    "import matplotlib.pyplot as plt\n",
    "%matplotlib inline\n",
    "\n",
    "import warnings\n",
    "warnings.filterwarnings('ignore')"
   ]
  },
  {
   "cell_type": "code",
   "execution_count": 2,
   "id": "daf69e9a",
   "metadata": {},
   "outputs": [],
   "source": [
    "features_df = pd.read_csv('training_set_features.csv',index_col='respondent_id') \n",
    "labels_df = pd.read_csv('training_set_labels.csv',index_col='respondent_id')\n",
    "pd.set_option(\"display.max_columns\", 100)"
   ]
  },
  {
   "cell_type": "code",
   "execution_count": 3,
   "id": "5c010ff7",
   "metadata": {},
   "outputs": [
    {
     "name": "stdout",
     "output_type": "stream",
     "text": [
      "features_df.shape (26707, 35)\n"
     ]
    },
    {
     "data": {
      "text/html": [
       "<div>\n",
       "<style scoped>\n",
       "    .dataframe tbody tr th:only-of-type {\n",
       "        vertical-align: middle;\n",
       "    }\n",
       "\n",
       "    .dataframe tbody tr th {\n",
       "        vertical-align: top;\n",
       "    }\n",
       "\n",
       "    .dataframe thead th {\n",
       "        text-align: right;\n",
       "    }\n",
       "</style>\n",
       "<table border=\"1\" class=\"dataframe\">\n",
       "  <thead>\n",
       "    <tr style=\"text-align: right;\">\n",
       "      <th></th>\n",
       "      <th>h1n1_concern</th>\n",
       "      <th>h1n1_knowledge</th>\n",
       "      <th>behavioral_antiviral_meds</th>\n",
       "      <th>behavioral_avoidance</th>\n",
       "      <th>behavioral_face_mask</th>\n",
       "      <th>behavioral_wash_hands</th>\n",
       "      <th>behavioral_large_gatherings</th>\n",
       "      <th>behavioral_outside_home</th>\n",
       "      <th>behavioral_touch_face</th>\n",
       "      <th>doctor_recc_h1n1</th>\n",
       "      <th>doctor_recc_seasonal</th>\n",
       "      <th>chronic_med_condition</th>\n",
       "      <th>child_under_6_months</th>\n",
       "      <th>health_worker</th>\n",
       "      <th>health_insurance</th>\n",
       "      <th>opinion_h1n1_vacc_effective</th>\n",
       "      <th>opinion_h1n1_risk</th>\n",
       "      <th>opinion_h1n1_sick_from_vacc</th>\n",
       "      <th>opinion_seas_vacc_effective</th>\n",
       "      <th>opinion_seas_risk</th>\n",
       "      <th>opinion_seas_sick_from_vacc</th>\n",
       "      <th>age_group</th>\n",
       "      <th>education</th>\n",
       "      <th>race</th>\n",
       "      <th>sex</th>\n",
       "      <th>income_poverty</th>\n",
       "      <th>marital_status</th>\n",
       "      <th>rent_or_own</th>\n",
       "      <th>employment_status</th>\n",
       "      <th>hhs_geo_region</th>\n",
       "      <th>census_msa</th>\n",
       "      <th>household_adults</th>\n",
       "      <th>household_children</th>\n",
       "      <th>employment_industry</th>\n",
       "      <th>employment_occupation</th>\n",
       "    </tr>\n",
       "    <tr>\n",
       "      <th>respondent_id</th>\n",
       "      <th></th>\n",
       "      <th></th>\n",
       "      <th></th>\n",
       "      <th></th>\n",
       "      <th></th>\n",
       "      <th></th>\n",
       "      <th></th>\n",
       "      <th></th>\n",
       "      <th></th>\n",
       "      <th></th>\n",
       "      <th></th>\n",
       "      <th></th>\n",
       "      <th></th>\n",
       "      <th></th>\n",
       "      <th></th>\n",
       "      <th></th>\n",
       "      <th></th>\n",
       "      <th></th>\n",
       "      <th></th>\n",
       "      <th></th>\n",
       "      <th></th>\n",
       "      <th></th>\n",
       "      <th></th>\n",
       "      <th></th>\n",
       "      <th></th>\n",
       "      <th></th>\n",
       "      <th></th>\n",
       "      <th></th>\n",
       "      <th></th>\n",
       "      <th></th>\n",
       "      <th></th>\n",
       "      <th></th>\n",
       "      <th></th>\n",
       "      <th></th>\n",
       "      <th></th>\n",
       "    </tr>\n",
       "  </thead>\n",
       "  <tbody>\n",
       "    <tr>\n",
       "      <th>0</th>\n",
       "      <td>1.0</td>\n",
       "      <td>0.0</td>\n",
       "      <td>0.0</td>\n",
       "      <td>0.0</td>\n",
       "      <td>0.0</td>\n",
       "      <td>0.0</td>\n",
       "      <td>0.0</td>\n",
       "      <td>1.0</td>\n",
       "      <td>1.0</td>\n",
       "      <td>0.0</td>\n",
       "      <td>0.0</td>\n",
       "      <td>0.0</td>\n",
       "      <td>0.0</td>\n",
       "      <td>0.0</td>\n",
       "      <td>1.0</td>\n",
       "      <td>3.0</td>\n",
       "      <td>1.0</td>\n",
       "      <td>2.0</td>\n",
       "      <td>2.0</td>\n",
       "      <td>1.0</td>\n",
       "      <td>2.0</td>\n",
       "      <td>55 - 64 Years</td>\n",
       "      <td>&lt; 12 Years</td>\n",
       "      <td>White</td>\n",
       "      <td>Female</td>\n",
       "      <td>Below Poverty</td>\n",
       "      <td>Not Married</td>\n",
       "      <td>Own</td>\n",
       "      <td>Not in Labor Force</td>\n",
       "      <td>oxchjgsf</td>\n",
       "      <td>Non-MSA</td>\n",
       "      <td>0.0</td>\n",
       "      <td>0.0</td>\n",
       "      <td>NaN</td>\n",
       "      <td>NaN</td>\n",
       "    </tr>\n",
       "    <tr>\n",
       "      <th>1</th>\n",
       "      <td>3.0</td>\n",
       "      <td>2.0</td>\n",
       "      <td>0.0</td>\n",
       "      <td>1.0</td>\n",
       "      <td>0.0</td>\n",
       "      <td>1.0</td>\n",
       "      <td>0.0</td>\n",
       "      <td>1.0</td>\n",
       "      <td>1.0</td>\n",
       "      <td>0.0</td>\n",
       "      <td>0.0</td>\n",
       "      <td>0.0</td>\n",
       "      <td>0.0</td>\n",
       "      <td>0.0</td>\n",
       "      <td>1.0</td>\n",
       "      <td>5.0</td>\n",
       "      <td>4.0</td>\n",
       "      <td>4.0</td>\n",
       "      <td>4.0</td>\n",
       "      <td>2.0</td>\n",
       "      <td>4.0</td>\n",
       "      <td>35 - 44 Years</td>\n",
       "      <td>12 Years</td>\n",
       "      <td>White</td>\n",
       "      <td>Male</td>\n",
       "      <td>Below Poverty</td>\n",
       "      <td>Not Married</td>\n",
       "      <td>Rent</td>\n",
       "      <td>Employed</td>\n",
       "      <td>bhuqouqj</td>\n",
       "      <td>MSA, Not Principle  City</td>\n",
       "      <td>0.0</td>\n",
       "      <td>0.0</td>\n",
       "      <td>pxcmvdjn</td>\n",
       "      <td>xgwztkwe</td>\n",
       "    </tr>\n",
       "  </tbody>\n",
       "</table>\n",
       "</div>"
      ],
      "text/plain": [
       "               h1n1_concern  h1n1_knowledge  behavioral_antiviral_meds  \\\n",
       "respondent_id                                                            \n",
       "0                       1.0             0.0                        0.0   \n",
       "1                       3.0             2.0                        0.0   \n",
       "\n",
       "               behavioral_avoidance  behavioral_face_mask  \\\n",
       "respondent_id                                               \n",
       "0                               0.0                   0.0   \n",
       "1                               1.0                   0.0   \n",
       "\n",
       "               behavioral_wash_hands  behavioral_large_gatherings  \\\n",
       "respondent_id                                                       \n",
       "0                                0.0                          0.0   \n",
       "1                                1.0                          0.0   \n",
       "\n",
       "               behavioral_outside_home  behavioral_touch_face  \\\n",
       "respondent_id                                                   \n",
       "0                                  1.0                    1.0   \n",
       "1                                  1.0                    1.0   \n",
       "\n",
       "               doctor_recc_h1n1  doctor_recc_seasonal  chronic_med_condition  \\\n",
       "respondent_id                                                                  \n",
       "0                           0.0                   0.0                    0.0   \n",
       "1                           0.0                   0.0                    0.0   \n",
       "\n",
       "               child_under_6_months  health_worker  health_insurance  \\\n",
       "respondent_id                                                          \n",
       "0                               0.0            0.0               1.0   \n",
       "1                               0.0            0.0               1.0   \n",
       "\n",
       "               opinion_h1n1_vacc_effective  opinion_h1n1_risk  \\\n",
       "respondent_id                                                   \n",
       "0                                      3.0                1.0   \n",
       "1                                      5.0                4.0   \n",
       "\n",
       "               opinion_h1n1_sick_from_vacc  opinion_seas_vacc_effective  \\\n",
       "respondent_id                                                             \n",
       "0                                      2.0                          2.0   \n",
       "1                                      4.0                          4.0   \n",
       "\n",
       "               opinion_seas_risk  opinion_seas_sick_from_vacc      age_group  \\\n",
       "respondent_id                                                                  \n",
       "0                            1.0                          2.0  55 - 64 Years   \n",
       "1                            2.0                          4.0  35 - 44 Years   \n",
       "\n",
       "                education   race     sex income_poverty marital_status  \\\n",
       "respondent_id                                                            \n",
       "0              < 12 Years  White  Female  Below Poverty    Not Married   \n",
       "1                12 Years  White    Male  Below Poverty    Not Married   \n",
       "\n",
       "              rent_or_own   employment_status hhs_geo_region  \\\n",
       "respondent_id                                                  \n",
       "0                     Own  Not in Labor Force       oxchjgsf   \n",
       "1                    Rent            Employed       bhuqouqj   \n",
       "\n",
       "                             census_msa  household_adults  household_children  \\\n",
       "respondent_id                                                                   \n",
       "0                               Non-MSA               0.0                 0.0   \n",
       "1              MSA, Not Principle  City               0.0                 0.0   \n",
       "\n",
       "              employment_industry employment_occupation  \n",
       "respondent_id                                            \n",
       "0                             NaN                   NaN  \n",
       "1                        pxcmvdjn              xgwztkwe  "
      ]
     },
     "execution_count": 3,
     "metadata": {},
     "output_type": "execute_result"
    }
   ],
   "source": [
    "print(\"features_df.shape\", features_df.shape)\n",
    "features_df.head(2)"
   ]
  },
  {
   "cell_type": "code",
   "execution_count": 4,
   "id": "ba52be8c",
   "metadata": {},
   "outputs": [
    {
     "data": {
      "text/plain": [
       "h1n1_concern                   float64\n",
       "h1n1_knowledge                 float64\n",
       "behavioral_antiviral_meds      float64\n",
       "behavioral_avoidance           float64\n",
       "behavioral_face_mask           float64\n",
       "behavioral_wash_hands          float64\n",
       "behavioral_large_gatherings    float64\n",
       "behavioral_outside_home        float64\n",
       "behavioral_touch_face          float64\n",
       "doctor_recc_h1n1               float64\n",
       "doctor_recc_seasonal           float64\n",
       "chronic_med_condition          float64\n",
       "child_under_6_months           float64\n",
       "health_worker                  float64\n",
       "health_insurance               float64\n",
       "opinion_h1n1_vacc_effective    float64\n",
       "opinion_h1n1_risk              float64\n",
       "opinion_h1n1_sick_from_vacc    float64\n",
       "opinion_seas_vacc_effective    float64\n",
       "opinion_seas_risk              float64\n",
       "opinion_seas_sick_from_vacc    float64\n",
       "age_group                       object\n",
       "education                       object\n",
       "race                            object\n",
       "sex                             object\n",
       "income_poverty                  object\n",
       "marital_status                  object\n",
       "rent_or_own                     object\n",
       "employment_status               object\n",
       "hhs_geo_region                  object\n",
       "census_msa                      object\n",
       "household_adults               float64\n",
       "household_children             float64\n",
       "employment_industry             object\n",
       "employment_occupation           object\n",
       "dtype: object"
      ]
     },
     "execution_count": 4,
     "metadata": {},
     "output_type": "execute_result"
    }
   ],
   "source": [
    "features_df.dtypes"
   ]
  },
  {
   "cell_type": "code",
   "execution_count": 5,
   "id": "6bdf3e96",
   "metadata": {},
   "outputs": [
    {
     "name": "stdout",
     "output_type": "stream",
     "text": [
      "labels_df.shape (26707, 2)\n"
     ]
    },
    {
     "data": {
      "text/html": [
       "<div>\n",
       "<style scoped>\n",
       "    .dataframe tbody tr th:only-of-type {\n",
       "        vertical-align: middle;\n",
       "    }\n",
       "\n",
       "    .dataframe tbody tr th {\n",
       "        vertical-align: top;\n",
       "    }\n",
       "\n",
       "    .dataframe thead th {\n",
       "        text-align: right;\n",
       "    }\n",
       "</style>\n",
       "<table border=\"1\" class=\"dataframe\">\n",
       "  <thead>\n",
       "    <tr style=\"text-align: right;\">\n",
       "      <th></th>\n",
       "      <th>h1n1_vaccine</th>\n",
       "      <th>seasonal_vaccine</th>\n",
       "    </tr>\n",
       "    <tr>\n",
       "      <th>respondent_id</th>\n",
       "      <th></th>\n",
       "      <th></th>\n",
       "    </tr>\n",
       "  </thead>\n",
       "  <tbody>\n",
       "    <tr>\n",
       "      <th>0</th>\n",
       "      <td>0</td>\n",
       "      <td>0</td>\n",
       "    </tr>\n",
       "    <tr>\n",
       "      <th>1</th>\n",
       "      <td>0</td>\n",
       "      <td>1</td>\n",
       "    </tr>\n",
       "    <tr>\n",
       "      <th>2</th>\n",
       "      <td>0</td>\n",
       "      <td>0</td>\n",
       "    </tr>\n",
       "    <tr>\n",
       "      <th>3</th>\n",
       "      <td>0</td>\n",
       "      <td>1</td>\n",
       "    </tr>\n",
       "    <tr>\n",
       "      <th>4</th>\n",
       "      <td>0</td>\n",
       "      <td>0</td>\n",
       "    </tr>\n",
       "  </tbody>\n",
       "</table>\n",
       "</div>"
      ],
      "text/plain": [
       "               h1n1_vaccine  seasonal_vaccine\n",
       "respondent_id                                \n",
       "0                         0                 0\n",
       "1                         0                 1\n",
       "2                         0                 0\n",
       "3                         0                 1\n",
       "4                         0                 0"
      ]
     },
     "execution_count": 5,
     "metadata": {},
     "output_type": "execute_result"
    }
   ],
   "source": [
    "print(\"labels_df.shape\", labels_df.shape)\n",
    "labels_df.head(5)"
   ]
  },
  {
   "cell_type": "code",
   "execution_count": 6,
   "id": "4788235e",
   "metadata": {},
   "outputs": [],
   "source": [
    "#indices are matching\n",
    "np.testing.assert_array_equal(features_df.index.values,labels_df.index.values)"
   ]
  },
  {
   "cell_type": "markdown",
   "id": "f1c4c50f",
   "metadata": {},
   "source": [
    "#### Comparing and analysis the two target variables "
   ]
  },
  {
   "cell_type": "code",
   "execution_count": 7,
   "id": "c8d536fe",
   "metadata": {},
   "outputs": [
    {
     "name": "stdout",
     "output_type": "stream",
     "text": [
      "0    0.787546\n",
      "1    0.212454\n",
      "Name: h1n1_vaccine, dtype: float64\n",
      "0    0.534392\n",
      "1    0.465608\n",
      "Name: seasonal_vaccine, dtype: float64\n"
     ]
    },
    {
     "data": {
      "image/png": "[encoded data removed]",
      "text/plain": [
       "<Figure size 432x288 with 2 Axes>"
      ]
     },
     "metadata": {
      "needs_background": "light"
     },
     "output_type": "display_data"
    }
   ],
   "source": [
    "fig,ax = plt.subplots(2,1,sharex=True)\n",
    "n_obs = labels_df.shape[0] \n",
    "\n",
    "print(labels_df['h1n1_vaccine'].value_counts().div(n_obs))\n",
    "labels_df['h1n1_vaccine'].value_counts().div(n_obs).plot.\\\n",
    "barh(title=\"Proportion of H1N1 Vaccine\",ax=ax[0])\n",
    "ax[0].set_ylabel('h1n1_vaccine')\n",
    "\n",
    "print(labels_df['seasonal_vaccine'].value_counts().div(n_obs))\n",
    "labels_df['seasonal_vaccine'].value_counts().div(n_obs).plot.\\\n",
    "barh(title=\"Proportion of Seasonal Vaccine\",ax=ax[1])\n",
    "ax[1].set_ylabel('seasonal_vaccine')\n",
    "\n",
    "fig.tight_layout()"
   ]
  },
  {
   "cell_type": "code",
   "execution_count": 8,
   "id": "c077aed6",
   "metadata": {},
   "outputs": [
    {
     "data": {
      "text/html": [
       "<div>\n",
       "<style scoped>\n",
       "    .dataframe tbody tr th:only-of-type {\n",
       "        vertical-align: middle;\n",
       "    }\n",
       "\n",
       "    .dataframe tbody tr th {\n",
       "        vertical-align: top;\n",
       "    }\n",
       "\n",
       "    .dataframe thead th {\n",
       "        text-align: right;\n",
       "    }\n",
       "</style>\n",
       "<table border=\"1\" class=\"dataframe\">\n",
       "  <thead>\n",
       "    <tr style=\"text-align: right;\">\n",
       "      <th>seasonal_vaccine</th>\n",
       "      <th>0</th>\n",
       "      <th>1</th>\n",
       "      <th>All</th>\n",
       "    </tr>\n",
       "    <tr>\n",
       "      <th>h1n1_vaccine</th>\n",
       "      <th></th>\n",
       "      <th></th>\n",
       "      <th></th>\n",
       "    </tr>\n",
       "  </thead>\n",
       "  <tbody>\n",
       "    <tr>\n",
       "      <th>0</th>\n",
       "      <td>0.497810</td>\n",
       "      <td>0.289737</td>\n",
       "      <td>0.787546</td>\n",
       "    </tr>\n",
       "    <tr>\n",
       "      <th>1</th>\n",
       "      <td>0.036582</td>\n",
       "      <td>0.175871</td>\n",
       "      <td>0.212454</td>\n",
       "    </tr>\n",
       "    <tr>\n",
       "      <th>All</th>\n",
       "      <td>0.534392</td>\n",
       "      <td>0.465608</td>\n",
       "      <td>1.000000</td>\n",
       "    </tr>\n",
       "  </tbody>\n",
       "</table>\n",
       "</div>"
      ],
      "text/plain": [
       "seasonal_vaccine         0         1       All\n",
       "h1n1_vaccine                                  \n",
       "0                 0.497810  0.289737  0.787546\n",
       "1                 0.036582  0.175871  0.212454\n",
       "All               0.534392  0.465608  1.000000"
      ]
     },
     "execution_count": 8,
     "metadata": {},
     "output_type": "execute_result"
    }
   ],
   "source": [
    "pd.crosstab(labels_df['h1n1_vaccine'],labels_df['seasonal_vaccine'],\n",
    "           margins=True,normalize=True)"
   ]
  },
  {
   "cell_type": "markdown",
   "id": "1997799c",
   "metadata": {},
   "source": [
    "#### Correlation"
   ]
  },
  {
   "cell_type": "code",
   "execution_count": 9,
   "id": "ac151b48",
   "metadata": {},
   "outputs": [
    {
     "data": {
      "text/plain": [
       "0.37714265306144684"
      ]
     },
     "execution_count": 9,
     "metadata": {},
     "output_type": "execute_result"
    }
   ],
   "source": [
    "labels_df['h1n1_vaccine'].corr(labels_df['seasonal_vaccine'],\n",
    "                               method='pearson')"
   ]
  },
  {
   "cell_type": "markdown",
   "id": "0a5fecda",
   "metadata": {},
   "source": [
    "#### Joining Features and Target Variables"
   ]
  },
  {
   "cell_type": "code",
   "execution_count": 10,
   "id": "3f33532c",
   "metadata": {},
   "outputs": [
    {
     "name": "stdout",
     "output_type": "stream",
     "text": [
      "(26707, 37)\n"
     ]
    },
    {
     "data": {
      "text/html": [
       "<div>\n",
       "<style scoped>\n",
       "    .dataframe tbody tr th:only-of-type {\n",
       "        vertical-align: middle;\n",
       "    }\n",
       "\n",
       "    .dataframe tbody tr th {\n",
       "        vertical-align: top;\n",
       "    }\n",
       "\n",
       "    .dataframe thead th {\n",
       "        text-align: right;\n",
       "    }\n",
       "</style>\n",
       "<table border=\"1\" class=\"dataframe\">\n",
       "  <thead>\n",
       "    <tr style=\"text-align: right;\">\n",
       "      <th></th>\n",
       "      <th>h1n1_concern</th>\n",
       "      <th>h1n1_knowledge</th>\n",
       "      <th>behavioral_antiviral_meds</th>\n",
       "      <th>behavioral_avoidance</th>\n",
       "      <th>behavioral_face_mask</th>\n",
       "      <th>behavioral_wash_hands</th>\n",
       "      <th>behavioral_large_gatherings</th>\n",
       "      <th>behavioral_outside_home</th>\n",
       "      <th>behavioral_touch_face</th>\n",
       "      <th>doctor_recc_h1n1</th>\n",
       "      <th>doctor_recc_seasonal</th>\n",
       "      <th>chronic_med_condition</th>\n",
       "      <th>child_under_6_months</th>\n",
       "      <th>health_worker</th>\n",
       "      <th>health_insurance</th>\n",
       "      <th>opinion_h1n1_vacc_effective</th>\n",
       "      <th>opinion_h1n1_risk</th>\n",
       "      <th>opinion_h1n1_sick_from_vacc</th>\n",
       "      <th>opinion_seas_vacc_effective</th>\n",
       "      <th>opinion_seas_risk</th>\n",
       "      <th>opinion_seas_sick_from_vacc</th>\n",
       "      <th>age_group</th>\n",
       "      <th>education</th>\n",
       "      <th>race</th>\n",
       "      <th>sex</th>\n",
       "      <th>income_poverty</th>\n",
       "      <th>marital_status</th>\n",
       "      <th>rent_or_own</th>\n",
       "      <th>employment_status</th>\n",
       "      <th>hhs_geo_region</th>\n",
       "      <th>census_msa</th>\n",
       "      <th>household_adults</th>\n",
       "      <th>household_children</th>\n",
       "      <th>employment_industry</th>\n",
       "      <th>employment_occupation</th>\n",
       "      <th>h1n1_vaccine</th>\n",
       "      <th>seasonal_vaccine</th>\n",
       "    </tr>\n",
       "    <tr>\n",
       "      <th>respondent_id</th>\n",
       "      <th></th>\n",
       "      <th></th>\n",
       "      <th></th>\n",
       "      <th></th>\n",
       "      <th></th>\n",
       "      <th></th>\n",
       "      <th></th>\n",
       "      <th></th>\n",
       "      <th></th>\n",
       "      <th></th>\n",
       "      <th></th>\n",
       "      <th></th>\n",
       "      <th></th>\n",
       "      <th></th>\n",
       "      <th></th>\n",
       "      <th></th>\n",
       "      <th></th>\n",
       "      <th></th>\n",
       "      <th></th>\n",
       "      <th></th>\n",
       "      <th></th>\n",
       "      <th></th>\n",
       "      <th></th>\n",
       "      <th></th>\n",
       "      <th></th>\n",
       "      <th></th>\n",
       "      <th></th>\n",
       "      <th></th>\n",
       "      <th></th>\n",
       "      <th></th>\n",
       "      <th></th>\n",
       "      <th></th>\n",
       "      <th></th>\n",
       "      <th></th>\n",
       "      <th></th>\n",
       "      <th></th>\n",
       "      <th></th>\n",
       "    </tr>\n",
       "  </thead>\n",
       "  <tbody>\n",
       "    <tr>\n",
       "      <th>0</th>\n",
       "      <td>1.0</td>\n",
       "      <td>0.0</td>\n",
       "      <td>0.0</td>\n",
       "      <td>0.0</td>\n",
       "      <td>0.0</td>\n",
       "      <td>0.0</td>\n",
       "      <td>0.0</td>\n",
       "      <td>1.0</td>\n",
       "      <td>1.0</td>\n",
       "      <td>0.0</td>\n",
       "      <td>0.0</td>\n",
       "      <td>0.0</td>\n",
       "      <td>0.0</td>\n",
       "      <td>0.0</td>\n",
       "      <td>1.0</td>\n",
       "      <td>3.0</td>\n",
       "      <td>1.0</td>\n",
       "      <td>2.0</td>\n",
       "      <td>2.0</td>\n",
       "      <td>1.0</td>\n",
       "      <td>2.0</td>\n",
       "      <td>55 - 64 Years</td>\n",
       "      <td>&lt; 12 Years</td>\n",
       "      <td>White</td>\n",
       "      <td>Female</td>\n",
       "      <td>Below Poverty</td>\n",
       "      <td>Not Married</td>\n",
       "      <td>Own</td>\n",
       "      <td>Not in Labor Force</td>\n",
       "      <td>oxchjgsf</td>\n",
       "      <td>Non-MSA</td>\n",
       "      <td>0.0</td>\n",
       "      <td>0.0</td>\n",
       "      <td>NaN</td>\n",
       "      <td>NaN</td>\n",
       "      <td>0</td>\n",
       "      <td>0</td>\n",
       "    </tr>\n",
       "    <tr>\n",
       "      <th>1</th>\n",
       "      <td>3.0</td>\n",
       "      <td>2.0</td>\n",
       "      <td>0.0</td>\n",
       "      <td>1.0</td>\n",
       "      <td>0.0</td>\n",
       "      <td>1.0</td>\n",
       "      <td>0.0</td>\n",
       "      <td>1.0</td>\n",
       "      <td>1.0</td>\n",
       "      <td>0.0</td>\n",
       "      <td>0.0</td>\n",
       "      <td>0.0</td>\n",
       "      <td>0.0</td>\n",
       "      <td>0.0</td>\n",
       "      <td>1.0</td>\n",
       "      <td>5.0</td>\n",
       "      <td>4.0</td>\n",
       "      <td>4.0</td>\n",
       "      <td>4.0</td>\n",
       "      <td>2.0</td>\n",
       "      <td>4.0</td>\n",
       "      <td>35 - 44 Years</td>\n",
       "      <td>12 Years</td>\n",
       "      <td>White</td>\n",
       "      <td>Male</td>\n",
       "      <td>Below Poverty</td>\n",
       "      <td>Not Married</td>\n",
       "      <td>Rent</td>\n",
       "      <td>Employed</td>\n",
       "      <td>bhuqouqj</td>\n",
       "      <td>MSA, Not Principle  City</td>\n",
       "      <td>0.0</td>\n",
       "      <td>0.0</td>\n",
       "      <td>pxcmvdjn</td>\n",
       "      <td>xgwztkwe</td>\n",
       "      <td>0</td>\n",
       "      <td>1</td>\n",
       "    </tr>\n",
       "    <tr>\n",
       "      <th>2</th>\n",
       "      <td>1.0</td>\n",
       "      <td>1.0</td>\n",
       "      <td>0.0</td>\n",
       "      <td>1.0</td>\n",
       "      <td>0.0</td>\n",
       "      <td>0.0</td>\n",
       "      <td>0.0</td>\n",
       "      <td>0.0</td>\n",
       "      <td>0.0</td>\n",
       "      <td>NaN</td>\n",
       "      <td>NaN</td>\n",
       "      <td>1.0</td>\n",
       "      <td>0.0</td>\n",
       "      <td>0.0</td>\n",
       "      <td>NaN</td>\n",
       "      <td>3.0</td>\n",
       "      <td>1.0</td>\n",
       "      <td>1.0</td>\n",
       "      <td>4.0</td>\n",
       "      <td>1.0</td>\n",
       "      <td>2.0</td>\n",
       "      <td>18 - 34 Years</td>\n",
       "      <td>College Graduate</td>\n",
       "      <td>White</td>\n",
       "      <td>Male</td>\n",
       "      <td>&lt;= $75,000, Above Poverty</td>\n",
       "      <td>Not Married</td>\n",
       "      <td>Own</td>\n",
       "      <td>Employed</td>\n",
       "      <td>qufhixun</td>\n",
       "      <td>MSA, Not Principle  City</td>\n",
       "      <td>2.0</td>\n",
       "      <td>0.0</td>\n",
       "      <td>rucpziij</td>\n",
       "      <td>xtkaffoo</td>\n",
       "      <td>0</td>\n",
       "      <td>0</td>\n",
       "    </tr>\n",
       "  </tbody>\n",
       "</table>\n",
       "</div>"
      ],
      "text/plain": [
       "               h1n1_concern  h1n1_knowledge  behavioral_antiviral_meds  \\\n",
       "respondent_id                                                            \n",
       "0                       1.0             0.0                        0.0   \n",
       "1                       3.0             2.0                        0.0   \n",
       "2                       1.0             1.0                        0.0   \n",
       "\n",
       "               behavioral_avoidance  behavioral_face_mask  \\\n",
       "respondent_id                                               \n",
       "0                               0.0                   0.0   \n",
       "1                               1.0                   0.0   \n",
       "2                               1.0                   0.0   \n",
       "\n",
       "               behavioral_wash_hands  behavioral_large_gatherings  \\\n",
       "respondent_id                                                       \n",
       "0                                0.0                          0.0   \n",
       "1                                1.0                          0.0   \n",
       "2                                0.0                          0.0   \n",
       "\n",
       "               behavioral_outside_home  behavioral_touch_face  \\\n",
       "respondent_id                                                   \n",
       "0                                  1.0                    1.0   \n",
       "1                                  1.0                    1.0   \n",
       "2                                  0.0                    0.0   \n",
       "\n",
       "               doctor_recc_h1n1  doctor_recc_seasonal  chronic_med_condition  \\\n",
       "respondent_id                                                                  \n",
       "0                           0.0                   0.0                    0.0   \n",
       "1                           0.0                   0.0                    0.0   \n",
       "2                           NaN                   NaN                    1.0   \n",
       "\n",
       "               child_under_6_months  health_worker  health_insurance  \\\n",
       "respondent_id                                                          \n",
       "0                               0.0            0.0               1.0   \n",
       "1                               0.0            0.0               1.0   \n",
       "2                               0.0            0.0               NaN   \n",
       "\n",
       "               opinion_h1n1_vacc_effective  opinion_h1n1_risk  \\\n",
       "respondent_id                                                   \n",
       "0                                      3.0                1.0   \n",
       "1                                      5.0                4.0   \n",
       "2                                      3.0                1.0   \n",
       "\n",
       "               opinion_h1n1_sick_from_vacc  opinion_seas_vacc_effective  \\\n",
       "respondent_id                                                             \n",
       "0                                      2.0                          2.0   \n",
       "1                                      4.0                          4.0   \n",
       "2                                      1.0                          4.0   \n",
       "\n",
       "               opinion_seas_risk  opinion_seas_sick_from_vacc      age_group  \\\n",
       "respondent_id                                                                  \n",
       "0                            1.0                          2.0  55 - 64 Years   \n",
       "1                            2.0                          4.0  35 - 44 Years   \n",
       "2                            1.0                          2.0  18 - 34 Years   \n",
       "\n",
       "                      education   race     sex             income_poverty  \\\n",
       "respondent_id                                                               \n",
       "0                    < 12 Years  White  Female              Below Poverty   \n",
       "1                      12 Years  White    Male              Below Poverty   \n",
       "2              College Graduate  White    Male  <= $75,000, Above Poverty   \n",
       "\n",
       "              marital_status rent_or_own   employment_status hhs_geo_region  \\\n",
       "respondent_id                                                                 \n",
       "0                Not Married         Own  Not in Labor Force       oxchjgsf   \n",
       "1                Not Married        Rent            Employed       bhuqouqj   \n",
       "2                Not Married         Own            Employed       qufhixun   \n",
       "\n",
       "                             census_msa  household_adults  household_children  \\\n",
       "respondent_id                                                                   \n",
       "0                               Non-MSA               0.0                 0.0   \n",
       "1              MSA, Not Principle  City               0.0                 0.0   \n",
       "2              MSA, Not Principle  City               2.0                 0.0   \n",
       "\n",
       "              employment_industry employment_occupation  h1n1_vaccine  \\\n",
       "respondent_id                                                           \n",
       "0                             NaN                   NaN             0   \n",
       "1                        pxcmvdjn              xgwztkwe             0   \n",
       "2                        rucpziij              xtkaffoo             0   \n",
       "\n",
       "               seasonal_vaccine  \n",
       "respondent_id                    \n",
       "0                             0  \n",
       "1                             1  \n",
       "2                             0  "
      ]
     },
     "execution_count": 10,
     "metadata": {},
     "output_type": "execute_result"
    }
   ],
   "source": [
    "joined_df = features_df.join(labels_df)\n",
    "print(joined_df.shape)\n",
    "joined_df.head(3)"
   ]
  },
  {
   "cell_type": "markdown",
   "id": "28a015bc",
   "metadata": {},
   "source": [
    "#### How features are correlated with the target variables"
   ]
  },
  {
   "cell_type": "code",
   "execution_count": 11,
   "id": "998397a1",
   "metadata": {},
   "outputs": [
    {
     "data": {
      "text/html": [
       "<div>\n",
       "<style scoped>\n",
       "    .dataframe tbody tr th:only-of-type {\n",
       "        vertical-align: middle;\n",
       "    }\n",
       "\n",
       "    .dataframe tbody tr th {\n",
       "        vertical-align: top;\n",
       "    }\n",
       "\n",
       "    .dataframe thead th {\n",
       "        text-align: right;\n",
       "    }\n",
       "</style>\n",
       "<table border=\"1\" class=\"dataframe\">\n",
       "  <thead>\n",
       "    <tr style=\"text-align: right;\">\n",
       "      <th>h1n1_vaccine</th>\n",
       "      <th>0</th>\n",
       "      <th>1</th>\n",
       "    </tr>\n",
       "    <tr>\n",
       "      <th>h1n1_concern</th>\n",
       "      <th></th>\n",
       "      <th></th>\n",
       "    </tr>\n",
       "  </thead>\n",
       "  <tbody>\n",
       "    <tr>\n",
       "      <th>0.0</th>\n",
       "      <td>2849</td>\n",
       "      <td>447</td>\n",
       "    </tr>\n",
       "    <tr>\n",
       "      <th>1.0</th>\n",
       "      <td>6756</td>\n",
       "      <td>1397</td>\n",
       "    </tr>\n",
       "    <tr>\n",
       "      <th>2.0</th>\n",
       "      <td>8102</td>\n",
       "      <td>2473</td>\n",
       "    </tr>\n",
       "    <tr>\n",
       "      <th>3.0</th>\n",
       "      <td>3250</td>\n",
       "      <td>1341</td>\n",
       "    </tr>\n",
       "  </tbody>\n",
       "</table>\n",
       "</div>"
      ],
      "text/plain": [
       "h1n1_vaccine     0     1\n",
       "h1n1_concern            \n",
       "0.0           2849   447\n",
       "1.0           6756  1397\n",
       "2.0           8102  2473\n",
       "3.0           3250  1341"
      ]
     },
     "execution_count": 11,
     "metadata": {},
     "output_type": "execute_result"
    }
   ],
   "source": [
    "counts = joined_df[['h1n1_concern','h1n1_vaccine']]\\\n",
    ".groupby(['h1n1_concern','h1n1_vaccine']).size()\\\n",
    ".unstack('h1n1_vaccine')\n",
    "counts"
   ]
  },
  {
   "cell_type": "markdown",
   "id": "12fe87b8",
   "metadata": {},
   "source": [
    "#### Graphical analysis of X and y"
   ]
  },
  {
   "cell_type": "code",
   "execution_count": 12,
   "id": "73537b49",
   "metadata": {},
   "outputs": [
    {
     "data": {
      "image/png": "[encoded data removed]",
      "text/plain": [
       "<Figure size 432x288 with 1 Axes>"
      ]
     },
     "metadata": {
      "needs_background": "light"
     },
     "output_type": "display_data"
    }
   ],
   "source": [
    "ax = counts.plot.barh()\n",
    "ax.invert_yaxis()\n",
    "ax.legend(loc='center right',\n",
    "         bbox_to_anchor=(1.3,0.5),\n",
    "         title='H1N1 Vaccine')\n",
    "ax.grid(False)"
   ]
  },
  {
   "cell_type": "code",
   "execution_count": 13,
   "id": "a984e3f9",
   "metadata": {},
   "outputs": [
    {
     "data": {
      "text/plain": [
       "h1n1_concern\n",
       "0.0     3296\n",
       "1.0     8153\n",
       "2.0    10575\n",
       "3.0     4591\n",
       "dtype: int64"
      ]
     },
     "execution_count": 13,
     "metadata": {},
     "output_type": "execute_result"
    }
   ],
   "source": [
    "h1n1_concern_counts = counts.sum(axis='columns')\n",
    "h1n1_concern_counts"
   ]
  },
  {
   "cell_type": "code",
   "execution_count": 14,
   "id": "f1e8e2af",
   "metadata": {},
   "outputs": [
    {
     "data": {
      "text/html": [
       "<div>\n",
       "<style scoped>\n",
       "    .dataframe tbody tr th:only-of-type {\n",
       "        vertical-align: middle;\n",
       "    }\n",
       "\n",
       "    .dataframe tbody tr th {\n",
       "        vertical-align: top;\n",
       "    }\n",
       "\n",
       "    .dataframe thead th {\n",
       "        text-align: right;\n",
       "    }\n",
       "</style>\n",
       "<table border=\"1\" class=\"dataframe\">\n",
       "  <thead>\n",
       "    <tr style=\"text-align: right;\">\n",
       "      <th>h1n1_vaccine</th>\n",
       "      <th>0</th>\n",
       "      <th>1</th>\n",
       "    </tr>\n",
       "    <tr>\n",
       "      <th>h1n1_concern</th>\n",
       "      <th></th>\n",
       "      <th></th>\n",
       "    </tr>\n",
       "  </thead>\n",
       "  <tbody>\n",
       "    <tr>\n",
       "      <th>0.0</th>\n",
       "      <td>0.864381</td>\n",
       "      <td>0.135619</td>\n",
       "    </tr>\n",
       "    <tr>\n",
       "      <th>1.0</th>\n",
       "      <td>0.828652</td>\n",
       "      <td>0.171348</td>\n",
       "    </tr>\n",
       "    <tr>\n",
       "      <th>2.0</th>\n",
       "      <td>0.766147</td>\n",
       "      <td>0.233853</td>\n",
       "    </tr>\n",
       "    <tr>\n",
       "      <th>3.0</th>\n",
       "      <td>0.707907</td>\n",
       "      <td>0.292093</td>\n",
       "    </tr>\n",
       "  </tbody>\n",
       "</table>\n",
       "</div>"
      ],
      "text/plain": [
       "h1n1_vaccine         0         1\n",
       "h1n1_concern                    \n",
       "0.0           0.864381  0.135619\n",
       "1.0           0.828652  0.171348\n",
       "2.0           0.766147  0.233853\n",
       "3.0           0.707907  0.292093"
      ]
     },
     "execution_count": 14,
     "metadata": {},
     "output_type": "execute_result"
    }
   ],
   "source": [
    "props = counts.div(h1n1_concern_counts,axis='index')\n",
    "props"
   ]
  },
  {
   "cell_type": "code",
   "execution_count": 15,
   "id": "128aaa23",
   "metadata": {},
   "outputs": [
    {
     "data": {
      "text/plain": [
       "<matplotlib.legend.Legend at 0x20224c25a00>"
      ]
     },
     "execution_count": 15,
     "metadata": {},
     "output_type": "execute_result"
    },
    {
     "data": {
      "image/png": "[encoded data removed]",
      "text/plain": [
       "<Figure size 432x288 with 1 Axes>"
      ]
     },
     "metadata": {
      "needs_background": "light"
     },
     "output_type": "display_data"
    }
   ],
   "source": [
    "ax=props.plot.barh()\n",
    "ax.invert_yaxis() \n",
    "ax.legend(loc='center right',\n",
    "         bbox_to_anchor=(1.25,0.5),\n",
    "         title='h1n1 vaccine')"
   ]
  },
  {
   "cell_type": "code",
   "execution_count": 16,
   "id": "204958ba",
   "metadata": {},
   "outputs": [
    {
     "data": {
      "text/plain": [
       "<matplotlib.legend.Legend at 0x2022514dc70>"
      ]
     },
     "execution_count": 16,
     "metadata": {},
     "output_type": "execute_result"
    },
    {
     "data": {
      "image/png": "[encoded data removed]",
      "text/plain": [
       "<Figure size 432x288 with 1 Axes>"
      ]
     },
     "metadata": {
      "needs_background": "light"
     },
     "output_type": "display_data"
    }
   ],
   "source": [
    "ax=props.plot.barh(stacked=True)\n",
    "ax.invert_yaxis() \n",
    "ax.legend(loc='center left',\n",
    "         bbox_to_anchor=(1.05,0.5),\n",
    "         title='h1n1 vaccine')"
   ]
  },
  {
   "cell_type": "code",
   "execution_count": 17,
   "id": "494d791f",
   "metadata": {},
   "outputs": [],
   "source": [
    "def vaccination_rate_plot(col,target,data,ax=None):\n",
    "    # col is X, target is Y\n",
    "    counts= joined_df[[target,col]].groupby([target,col]).size()\\\n",
    "    .unstack(target)\n",
    "    group_counts = counts.sum(axis='columns')\n",
    "    props = counts.div(group_counts,axis='index')\n",
    "    \n",
    "    props.plot(kind='barh',stacked=True,ax=ax)\n",
    "    ax.invert_yaxis()\n",
    "    ax.legend().remove()"
   ]
  },
  {
   "cell_type": "code",
   "execution_count": 18,
   "id": "4585f94e",
   "metadata": {},
   "outputs": [],
   "source": [
    "cols_to_plot = [\n",
    "    'h1n1_concern',\n",
    "    'h1n1_knowledge',\n",
    "    'opinion_h1n1_vacc_effective',\n",
    "    'opinion_h1n1_risk',\n",
    "    'opinion_h1n1_sick_from_vacc',\n",
    "    'opinion_seas_vacc_effective',\n",
    "    'opinion_seas_risk',\n",
    "    'opinion_seas_sick_from_vacc',\n",
    "    'sex',\n",
    "    'age_group',\n",
    "    'race',\n",
    "]"
   ]
  },
  {
   "cell_type": "code",
   "execution_count": 19,
   "id": "3cee20dc",
   "metadata": {},
   "outputs": [
    {
     "data": {
      "image/png": "[encoded data removed]",
      "text/plain": [
       "<Figure size 648x1980 with 22 Axes>"
      ]
     },
     "metadata": {
      "needs_background": "light"
     },
     "output_type": "display_data"
    }
   ],
   "source": [
    "fig,ax = plt.subplots(len(cols_to_plot),2,figsize=(9,len(cols_to_plot)*2.5))\n",
    "\n",
    "for idx,col in enumerate(cols_to_plot):\n",
    "    vaccination_rate_plot(col,'h1n1_vaccine',joined_df,ax=ax[idx,0]) \n",
    "    # ax[idx,0] - row,column\n",
    "    vaccination_rate_plot(col,'seasonal_vaccine',joined_df,ax=ax[idx,1])\n",
    "    \n",
    "ax[0,0].legend(loc='lower center',bbox_to_anchor=(0.5,1.3),title='h1n1_vaccine')\n",
    "ax[0,1].legend(loc='lower center',bbox_to_anchor=(0.5,1.3),title='seasonal_vaccine')   \n",
    "\n",
    "fig.tight_layout()"
   ]
  },
  {
   "cell_type": "markdown",
   "id": "52ee03fd",
   "metadata": {},
   "source": [
    "Building the model"
   ]
  },
  {
   "cell_type": "code",
   "execution_count": 54,
   "id": "fed75cc3",
   "metadata": {},
   "outputs": [],
   "source": [
    "import optuna\n",
    "from sklearn.model_selection import cross_val_score,StratifiedKFold,cross_val_predict\n",
    "from sklearn.metrics import roc_auc_score\n",
    "from sklearn.pipeline import Pipeline\n",
    "from sklearn.compose import ColumnTransformer\n",
    "from sklearn.impute import SimpleImputer\n",
    "from sklearn.preprocessing import MinMaxScaler, OrdinalEncoder, OneHotEncoder\n",
    "from sklearn.multioutput import MultiOutputClassifier\n",
    "from xgboost import XGBClassifier\n",
    "from sklearn.ensemble import GradientBoostingClassifier"
   ]
  },
  {
   "cell_type": "code",
   "execution_count": 43,
   "id": "8eaee1f9",
   "metadata": {},
   "outputs": [],
   "source": [
    "numeric_features = features_df.select_dtypes(include = ['float64']).columns.to_list()"
   ]
  },
  {
   "cell_type": "code",
   "execution_count": 44,
   "id": "7c18a77b",
   "metadata": {},
   "outputs": [],
   "source": [
    "ordinal_features = ['education']\n",
    "ordinal_categories = [['< 12 Years', '12 Years', 'Some College', 'College Graduate']]"
   ]
  },
  {
   "cell_type": "code",
   "execution_count": 45,
   "id": "9be9ede1",
   "metadata": {},
   "outputs": [],
   "source": [
    "categorical_features = features_df.select_dtypes(include = ['object']).columns.to_list()\n",
    "nominal_features = [item for item in categorical_features if item not in ordinal_features]"
   ]
  },
  {
   "cell_type": "markdown",
   "id": "b6d055f5",
   "metadata": {},
   "source": [
    "#### Features Preprocessing"
   ]
  },
  {
   "cell_type": "code",
   "execution_count": 46,
   "id": "949dfb4d",
   "metadata": {},
   "outputs": [],
   "source": [
    "#Pipelines\n",
    "numeric_pipeline = Pipeline([\n",
    "    ('imputer',SimpleImputer(strategy='mean')),\n",
    "    ('scaler',MinMaxScaler())\n",
    "])\n",
    "\n",
    "ordinal_pipeline = Pipeline([\n",
    "    ('imputer',SimpleImputer(strategy='most_frequent')),\n",
    "    ('ordinal',OrdinalEncoder(categories=ordinal_categories))\n",
    "])\n",
    "\n",
    "nominal_pipeline = Pipeline([\n",
    "    ('imputer',SimpleImputer(strategy='most_frequent')),\n",
    "    ('nominal',OneHotEncoder(handle_unknown='ignore'))\n",
    "])\n",
    "\n",
    "#Preprocessor\n",
    "preprocessor = ColumnTransformer([\n",
    "    ('num',numeric_pipeline,numeric_features),\n",
    "    ('ord',ordinal_pipeline,ordinal_features),\n",
    "    ('nom',nominal_pipeline,nominal_features)\n",
    "])"
   ]
  },
  {
   "cell_type": "markdown",
   "id": "734019ba",
   "metadata": {},
   "source": [
    "#### Compare Classifiers without MultiOutputClassifier"
   ]
  },
  {
   "cell_type": "code",
   "execution_count": 47,
   "id": "17454051",
   "metadata": {},
   "outputs": [],
   "source": [
    "xgb_pipeline = Pipeline([\n",
    "    ('preprocessing',preprocessor),\n",
    "    ('classifier',XGBClassifier(use_label_encoder=False,eval_metric='logloss'))\n",
    "])\n",
    "\n",
    "gb_pipeline = Pipeline([\n",
    "    ('preprocessing',preprocessor),\n",
    "    ('classifier',GradientBoostingClassifier())\n",
    "])"
   ]
  },
  {
   "cell_type": "markdown",
   "id": "0af98f9c",
   "metadata": {},
   "source": [
    "#### Evaluating using Cross Validation"
   ]
  },
  {
   "cell_type": "code",
   "execution_count": 48,
   "id": "144fb00a",
   "metadata": {},
   "outputs": [],
   "source": [
    "X = features_df\n",
    "y = labels_df"
   ]
  },
  {
   "cell_type": "code",
   "execution_count": 49,
   "id": "140b3b17",
   "metadata": {},
   "outputs": [],
   "source": [
    "cv = StratifiedKFold(n_splits=5,shuffle=True,random_state=42)"
   ]
  },
  {
   "cell_type": "code",
   "execution_count": 50,
   "id": "6f5f92b3",
   "metadata": {},
   "outputs": [
    {
     "name": "stdout",
     "output_type": "stream",
     "text": [
      "XGBClassifier\n",
      "H1N1 ROC AUC: 0.8572\n",
      "Seasonal ROC AUC: 0.8554\n"
     ]
    }
   ],
   "source": [
    "#XGBClassifier\n",
    "xgb_h1n1 = cross_val_score(xgb_pipeline,X,y['h1n1_vaccine'],cv=cv,scoring='roc_auc').mean()\n",
    "xgb_seasonal = cross_val_score(xgb_pipeline,X,y['seasonal_vaccine'],cv=cv,scoring='roc_auc').mean()\n",
    "\n",
    "print(\"XGBClassifier\")\n",
    "print(f\"H1N1 ROC AUC: {xgb_h1n1:.4f}\")\n",
    "print(f\"Seasonal ROC AUC: {xgb_seasonal:.4f}\")"
   ]
  },
  {
   "cell_type": "code",
   "execution_count": 51,
   "id": "ea25b672",
   "metadata": {},
   "outputs": [
    {
     "name": "stdout",
     "output_type": "stream",
     "text": [
      "GradientBoostClassifier\n",
      "H1N1 ROC AUC: 0.8668\n",
      "Seasonal ROC AUC: 0.8620\n"
     ]
    }
   ],
   "source": [
    "#GradientBoostClassifier\n",
    "gb_h1n1 = cross_val_score(gb_pipeline,X,y['h1n1_vaccine'],cv=cv,scoring='roc_auc').mean()\n",
    "gb_seasonal = cross_val_score(gb_pipeline,X,y['seasonal_vaccine'],cv=cv,scoring='roc_auc').mean()\n",
    "\n",
    "print(\"GradientBoostClassifier\")\n",
    "print(f\"H1N1 ROC AUC: {gb_h1n1:.4f}\")\n",
    "print(f\"Seasonal ROC AUC: {gb_seasonal:.4f}\")"
   ]
  },
  {
   "cell_type": "raw",
   "id": "e1ea4401",
   "metadata": {},
   "source": [
    "Based on the above roc_auc score, we select GradientBoostClassifier"
   ]
  },
  {
   "cell_type": "markdown",
   "id": "3db430c7",
   "metadata": {},
   "source": [
    "#### Using MultiOutputClassifier"
   ]
  },
  {
   "cell_type": "code",
   "execution_count": 53,
   "id": "c661d67b",
   "metadata": {},
   "outputs": [],
   "source": [
    "final_model = Pipeline([\n",
    "    ('preprocessing', preprocessor),\n",
    "    ('classifier', MultiOutputClassifier(GradientBoostingClassifier(random_state=42)))\n",
    "])"
   ]
  },
  {
   "cell_type": "markdown",
   "id": "c765fd82",
   "metadata": {},
   "source": [
    "#### Using optuna"
   ]
  },
  {
   "cell_type": "code",
   "execution_count": 60,
   "id": "cc7aafd7",
   "metadata": {},
   "outputs": [],
   "source": [
    "def objective(trial):\n",
    "    params ={\n",
    "        'n_estimators':trial.suggest_int('n_estimators',50,300),\n",
    "        'max_depth':trial.suggest_int('max_depth',2,10),\n",
    "        'learning_rate':trial.suggest_float('learning_rate',0.01,0.5),\n",
    "        'subsample':trial.suggest_float('subsample',0.6,1.0),\n",
    "        'min_samples_split':trial.suggest_int('min_samples_split',2,10),\n",
    "        'max_features':trial.suggest_categorical('max_features',['sqrt','log2'])        \n",
    "    }\n",
    "    \n",
    "    final_model = Pipeline([\n",
    "    ('preprocessing', preprocessor),\n",
    "    ('classifier', MultiOutputClassifier(GradientBoostingClassifier(**params, random_state=42)))\n",
    "    ])\n",
    "    \n",
    "    y_pred_proba = cross_val_predict(final_model,X,y,cv=5,method='predict_proba')\n",
    "    \n",
    "    h1n1_proba = y_pred_proba[0][:,1]\n",
    "    seasonal_proba = y_pred_proba[1][:,1]\n",
    "    \n",
    "    h1n1_score = roc_auc_score(y['h1n1_vaccine'],h1n1_proba)\n",
    "    seasonal_score = roc_auc_score(y['seasonal_vaccine'],seasonal_proba)\n",
    "    \n",
    "    return (h1n1_score+seasonal_score)/2   "
   ]
  },
  {
   "cell_type": "code",
   "execution_count": 61,
   "id": "0906ab95",
   "metadata": {},
   "outputs": [
    {
     "name": "stderr",
     "output_type": "stream",
     "text": [
      "[I 2025-06-19 17:16:01,933] A new study created in memory with name: no-name-3447b990-34f6-43b0-906e-ff6a46ef6ea5\n",
      "[I 2025-06-19 17:19:03,956] Trial 0 finished with value: 0.8659600446287496 and parameters: {'n_estimators': 298, 'max_depth': 9, 'learning_rate': 0.012870239090075192, 'subsample': 0.7463659224375457, 'min_samples_split': 10, 'max_features': 'sqrt'}. Best is trial 0 with value: 0.8659600446287496.\n",
      "[I 2025-06-19 17:19:31,586] Trial 1 finished with value: 0.8538136522681752 and parameters: {'n_estimators': 135, 'max_depth': 2, 'learning_rate': 0.09384185658361074, 'subsample': 0.8614134007239999, 'min_samples_split': 6, 'max_features': 'log2'}. Best is trial 0 with value: 0.8659600446287496.\n",
      "[I 2025-06-19 17:20:48,580] Trial 2 finished with value: 0.8518845136875537 and parameters: {'n_estimators': 242, 'max_depth': 5, 'learning_rate': 0.22401267261397945, 'subsample': 0.6423423924531622, 'min_samples_split': 9, 'max_features': 'sqrt'}. Best is trial 0 with value: 0.8659600446287496.\n",
      "[I 2025-06-19 17:22:25,322] Trial 3 finished with value: 0.8534114583407305 and parameters: {'n_estimators': 133, 'max_depth': 9, 'learning_rate': 0.14856153886558765, 'subsample': 0.8363522760841, 'min_samples_split': 10, 'max_features': 'sqrt'}. Best is trial 0 with value: 0.8659600446287496.\n",
      "[I 2025-06-19 17:23:39,897] Trial 4 finished with value: 0.8630986194759528 and parameters: {'n_estimators': 215, 'max_depth': 4, 'learning_rate': 0.1716308037258874, 'subsample': 0.8520759927213735, 'min_samples_split': 4, 'max_features': 'sqrt'}. Best is trial 0 with value: 0.8659600446287496.\n",
      "[I 2025-06-19 17:24:39,925] Trial 5 finished with value: 0.8610365170554234 and parameters: {'n_estimators': 260, 'max_depth': 3, 'learning_rate': 0.35904018550764716, 'subsample': 0.9866881020643274, 'min_samples_split': 7, 'max_features': 'log2'}. Best is trial 0 with value: 0.8659600446287496.\n",
      "[I 2025-06-19 17:25:32,516] Trial 6 finished with value: 0.8534427112187289 and parameters: {'n_estimators': 283, 'max_depth': 3, 'learning_rate': 0.023769765360120827, 'subsample': 0.6894530779917694, 'min_samples_split': 5, 'max_features': 'log2'}. Best is trial 0 with value: 0.8659600446287496.\n",
      "[I 2025-06-19 17:26:32,418] Trial 7 finished with value: 0.8654663846817354 and parameters: {'n_estimators': 129, 'max_depth': 7, 'learning_rate': 0.057423800511573336, 'subsample': 0.6795012884755562, 'min_samples_split': 9, 'max_features': 'sqrt'}. Best is trial 0 with value: 0.8659600446287496.\n",
      "[I 2025-06-19 17:29:04,660] Trial 8 finished with value: 0.8339149511410989 and parameters: {'n_estimators': 293, 'max_depth': 8, 'learning_rate': 0.3168475947131672, 'subsample': 0.9737795951227446, 'min_samples_split': 3, 'max_features': 'log2'}. Best is trial 0 with value: 0.8659600446287496.\n",
      "[I 2025-06-19 17:29:27,758] Trial 9 finished with value: 0.8586814764855718 and parameters: {'n_estimators': 110, 'max_depth': 2, 'learning_rate': 0.4858908172735412, 'subsample': 0.6800720866526262, 'min_samples_split': 5, 'max_features': 'log2'}. Best is trial 0 with value: 0.8659600446287496.\n",
      "[I 2025-06-19 17:32:13,368] Trial 10 finished with value: 0.761771300242293 and parameters: {'n_estimators': 189, 'max_depth': 10, 'learning_rate': 0.4534458101937699, 'subsample': 0.7772540806826232, 'min_samples_split': 8, 'max_features': 'sqrt'}. Best is trial 0 with value: 0.8659600446287496.\n",
      "[I 2025-06-19 17:32:52,740] Trial 11 finished with value: 0.8544732241252676 and parameters: {'n_estimators': 71, 'max_depth': 7, 'learning_rate': 0.01083405177423162, 'subsample': 0.745611996325388, 'min_samples_split': 10, 'max_features': 'sqrt'}. Best is trial 0 with value: 0.8659600446287496.\n",
      "[I 2025-06-19 17:34:04,410] Trial 12 finished with value: 0.8641310003048146 and parameters: {'n_estimators': 169, 'max_depth': 6, 'learning_rate': 0.0922902670856803, 'subsample': 0.7246954933158711, 'min_samples_split': 8, 'max_features': 'sqrt'}. Best is trial 0 with value: 0.8659600446287496.\n",
      "[I 2025-06-19 17:34:41,200] Trial 13 finished with value: 0.862280836059196 and parameters: {'n_estimators': 59, 'max_depth': 8, 'learning_rate': 0.08604964269098864, 'subsample': 0.6426351418500872, 'min_samples_split': 10, 'max_features': 'sqrt'}. Best is trial 0 with value: 0.8659600446287496.\n",
      "[I 2025-06-19 17:36:44,705] Trial 14 finished with value: 0.8633740879618552 and parameters: {'n_estimators': 172, 'max_depth': 10, 'learning_rate': 0.013036029589399329, 'subsample': 0.6021741308523068, 'min_samples_split': 8, 'max_features': 'sqrt'}. Best is trial 0 with value: 0.8659600446287496.\n",
      "[I 2025-06-19 17:37:36,325] Trial 15 finished with value: 0.8519877201281038 and parameters: {'n_estimators': 99, 'max_depth': 7, 'learning_rate': 0.24470167656208688, 'subsample': 0.8031960029901392, 'min_samples_split': 9, 'max_features': 'sqrt'}. Best is trial 0 with value: 0.8659600446287496.\n",
      "[I 2025-06-19 17:39:56,946] Trial 16 finished with value: 0.8508681973877356 and parameters: {'n_estimators': 214, 'max_depth': 8, 'learning_rate': 0.15949829297535462, 'subsample': 0.931289816646087, 'min_samples_split': 2, 'max_features': 'sqrt'}. Best is trial 0 with value: 0.8659600446287496.\n",
      "[I 2025-06-19 17:40:57,656] Trial 17 finished with value: 0.8656727272204982 and parameters: {'n_estimators': 149, 'max_depth': 6, 'learning_rate': 0.06860592696667545, 'subsample': 0.7273891842170958, 'min_samples_split': 9, 'max_features': 'sqrt'}. Best is trial 0 with value: 0.8659600446287496.\n",
      "[I 2025-06-19 17:42:10,695] Trial 18 finished with value: 0.8473372421421846 and parameters: {'n_estimators': 215, 'max_depth': 5, 'learning_rate': 0.31155306168629704, 'subsample': 0.7489750026608311, 'min_samples_split': 7, 'max_features': 'sqrt'}. Best is trial 0 with value: 0.8659600446287496.\n",
      "[I 2025-06-19 17:43:36,937] Trial 19 finished with value: 0.8617986959478481 and parameters: {'n_estimators': 160, 'max_depth': 6, 'learning_rate': 0.1401850067415767, 'subsample': 0.8992667025626752, 'min_samples_split': 7, 'max_features': 'sqrt'}. Best is trial 0 with value: 0.8659600446287496.\n",
      "[I 2025-06-19 17:47:06,452] Trial 20 finished with value: 0.8433109548250206 and parameters: {'n_estimators': 235, 'max_depth': 9, 'learning_rate': 0.18773222783822607, 'subsample': 0.8065936222974348, 'min_samples_split': 9, 'max_features': 'sqrt'}. Best is trial 0 with value: 0.8659600446287496.\n",
      "[I 2025-06-19 17:48:17,575] Trial 21 finished with value: 0.8657014618530092 and parameters: {'n_estimators': 140, 'max_depth': 7, 'learning_rate': 0.06212663839911756, 'subsample': 0.7104231264986942, 'min_samples_split': 9, 'max_features': 'sqrt'}. Best is trial 0 with value: 0.8659600446287496.\n",
      "[I 2025-06-19 17:49:13,127] Trial 22 finished with value: 0.8651869955577371 and parameters: {'n_estimators': 150, 'max_depth': 5, 'learning_rate': 0.06043786581817867, 'subsample': 0.7162659346763574, 'min_samples_split': 10, 'max_features': 'sqrt'}. Best is trial 0 with value: 0.8659600446287496.\n",
      "[I 2025-06-19 17:50:22,881] Trial 23 finished with value: 0.8579760289385346 and parameters: {'n_estimators': 100, 'max_depth': 9, 'learning_rate': 0.11223629685765169, 'subsample': 0.7634779013888157, 'min_samples_split': 8, 'max_features': 'sqrt'}. Best is trial 0 with value: 0.8659600446287496.\n",
      "[I 2025-06-19 17:51:48,333] Trial 24 finished with value: 0.8662190935251822 and parameters: {'n_estimators': 192, 'max_depth': 7, 'learning_rate': 0.04914797648422338, 'subsample': 0.71391810633869, 'min_samples_split': 9, 'max_features': 'sqrt'}. Best is trial 24 with value: 0.8662190935251822.\n",
      "[I 2025-06-19 17:53:05,454] Trial 25 finished with value: 0.8659386532079831 and parameters: {'n_estimators': 187, 'max_depth': 7, 'learning_rate': 0.04054460281359755, 'subsample': 0.6517250951180297, 'min_samples_split': 10, 'max_features': 'sqrt'}. Best is trial 24 with value: 0.8662190935251822.\n",
      "[I 2025-06-19 17:54:21,204] Trial 26 finished with value: 0.854381315550828 and parameters: {'n_estimators': 187, 'max_depth': 8, 'learning_rate': 0.12563749628847592, 'subsample': 0.6316596398778896, 'min_samples_split': 10, 'max_features': 'log2'}. Best is trial 24 with value: 0.8662190935251822.\n",
      "[I 2025-06-19 17:57:02,389] Trial 27 finished with value: 0.8376321576978192 and parameters: {'n_estimators': 272, 'max_depth': 9, 'learning_rate': 0.1999211950420329, 'subsample': 0.6084757256112518, 'min_samples_split': 10, 'max_features': 'sqrt'}. Best is trial 24 with value: 0.8662190935251822.\n"
     ]
    },
    {
     "name": "stderr",
     "output_type": "stream",
     "text": [
      "[I 2025-06-19 17:59:31,201] Trial 28 finished with value: 0.8637222238510629 and parameters: {'n_estimators': 190, 'max_depth': 10, 'learning_rate': 0.03927169188411808, 'subsample': 0.6696047784007284, 'min_samples_split': 6, 'max_features': 'sqrt'}. Best is trial 24 with value: 0.8662190935251822.\n",
      "[I 2025-06-19 18:01:06,489] Trial 29 finished with value: 0.8594940542715067 and parameters: {'n_estimators': 247, 'max_depth': 7, 'learning_rate': 0.11191194792056197, 'subsample': 0.7845787921335777, 'min_samples_split': 8, 'max_features': 'log2'}. Best is trial 24 with value: 0.8662190935251822.\n"
     ]
    },
    {
     "name": "stdout",
     "output_type": "stream",
     "text": [
      "Best params: {'n_estimators': 192, 'max_depth': 7, 'learning_rate': 0.04914797648422338, 'subsample': 0.71391810633869, 'min_samples_split': 9, 'max_features': 'sqrt'}\n"
     ]
    }
   ],
   "source": [
    "study = optuna.create_study(direction='maximize')\n",
    "study.optimize(objective,n_trials=30)\n",
    "\n",
    "print(\"Best params:\", study.best_params)"
   ]
  },
  {
   "cell_type": "code",
   "execution_count": 62,
   "id": "c86de85e",
   "metadata": {},
   "outputs": [
    {
     "name": "stdout",
     "output_type": "stream",
     "text": [
      "{'n_estimators': 192, 'max_depth': 7, 'learning_rate': 0.04914797648422338, 'subsample': 0.71391810633869, 'min_samples_split': 9, 'max_features': 'sqrt'}\n"
     ]
    }
   ],
   "source": [
    "print(study.best_params)"
   ]
  },
  {
   "cell_type": "markdown",
   "id": "ab30596d",
   "metadata": {},
   "source": [
    "#### Final Model"
   ]
  },
  {
   "cell_type": "code",
   "execution_count": 63,
   "id": "4f9c75d6",
   "metadata": {},
   "outputs": [
    {
     "data": {
      "text/plain": [
       "Pipeline(steps=[('preprocessing',\n",
       "                 ColumnTransformer(transformers=[('num',\n",
       "                                                  Pipeline(steps=[('imputer',\n",
       "                                                                   SimpleImputer()),\n",
       "                                                                  ('scaler',\n",
       "                                                                   MinMaxScaler())]),\n",
       "                                                  ['h1n1_concern',\n",
       "                                                   'h1n1_knowledge',\n",
       "                                                   'behavioral_antiviral_meds',\n",
       "                                                   'behavioral_avoidance',\n",
       "                                                   'behavioral_face_mask',\n",
       "                                                   'behavioral_wash_hands',\n",
       "                                                   'behavioral_large_gatherings',\n",
       "                                                   'behavioral_outside_home',\n",
       "                                                   'behavioral_touch_f...\n",
       "                                                   'marital_status',\n",
       "                                                   'rent_or_own',\n",
       "                                                   'employment_status',\n",
       "                                                   'hhs_geo_region',\n",
       "                                                   'census_msa',\n",
       "                                                   'employment_industry',\n",
       "                                                   'employment_occupation'])])),\n",
       "                ('classifier',\n",
       "                 MultiOutputClassifier(estimator=GradientBoostingClassifier(learning_rate=0.04914797648422338,\n",
       "                                                                            max_depth=7,\n",
       "                                                                            max_features='sqrt',\n",
       "                                                                            min_samples_split=9,\n",
       "                                                                            n_estimators=192,\n",
       "                                                                            n_iter_no_change=20,\n",
       "                                                                            subsample=0.71391810633869)))])"
      ]
     },
     "execution_count": 63,
     "metadata": {},
     "output_type": "execute_result"
    }
   ],
   "source": [
    "best_params = study.best_params\n",
    "\n",
    "final_model = Pipeline([\n",
    "    ('preprocessing', preprocessor),\n",
    "    ('classifier', MultiOutputClassifier(GradientBoostingClassifier(\n",
    "        **best_params,\n",
    "        validation_fraction=0.1,\n",
    "        n_iter_no_change=20  # optional early stopping\n",
    "    )))\n",
    "])\n",
    "\n",
    "final_model.fit(X,y)"
   ]
  },
  {
   "cell_type": "markdown",
   "id": "57587f39",
   "metadata": {},
   "source": [
    "#### ROC AUC PLOT"
   ]
  },
  {
   "cell_type": "code",
   "execution_count": 64,
   "id": "d759cf92",
   "metadata": {},
   "outputs": [],
   "source": [
    "import matplotlib.pyplot as plt\n",
    "from sklearn.metrics import roc_curve, auc\n",
    "from sklearn.model_selection import train_test_split"
   ]
  },
  {
   "cell_type": "code",
   "execution_count": 69,
   "id": "ba67897a",
   "metadata": {},
   "outputs": [
    {
     "name": "stdout",
     "output_type": "stream",
     "text": [
      "Computed AUC\n",
      "auc_h1n1:  0.8749279834636838\n",
      "auc_seasonal:  0.8625632890713548\n",
      "average auc:  0.8687456362675193\n"
     ]
    },
    {
     "data": {
      "image/png": "[encoded data removed]",
      "text/plain": [
       "<Figure size 576x432 with 1 Axes>"
      ]
     },
     "metadata": {
      "needs_background": "light"
     },
     "output_type": "display_data"
    }
   ],
   "source": [
    "# Split just for evaluation\n",
    "X_train, X_val, y_train, y_val = train_test_split(X, y, test_size=0.2, stratify=y, random_state=42)\n",
    "\n",
    "# Retrain the final model on training split\n",
    "final_model.fit(X_train, y_train)\n",
    "\n",
    "# Predict probabilities on validation set\n",
    "val_preds = final_model.predict_proba(X_val)\n",
    "\n",
    "# Extract probabilities for class 1\n",
    "h1n1_probs = val_preds[0][:, 1]\n",
    "seasonal_probs = val_preds[1][:, 1]\n",
    "\n",
    "# Compute ROC curves\n",
    "fpr_h1n1, tpr_h1n1, threshold_h1n1 = roc_curve(y_val['h1n1_vaccine'], h1n1_probs)\n",
    "fpr_seasonal, tpr_seasonal, threshold_seasonal = roc_curve(y_val['seasonal_vaccine'], seasonal_probs)\n",
    "\n",
    "# Compute AUC\n",
    "auc_h1n1 = auc(fpr_h1n1, tpr_h1n1)\n",
    "auc_seasonal = auc(fpr_seasonal, tpr_seasonal)\n",
    "\n",
    "print('Computed AUC')\n",
    "print('auc_h1n1: ',auc_h1n1)\n",
    "print('auc_seasonal: ',auc_seasonal )\n",
    "print('average auc: ',(auc_h1n1+auc_seasonal)/2)\n",
    "\n",
    "# Plot both curves\n",
    "plt.figure(figsize=(8, 6))\n",
    "plt.plot(fpr_h1n1, tpr_h1n1, label=f\"H1N1 ROC (AUC = {auc_h1n1:.4f})\")\n",
    "plt.plot(fpr_seasonal, tpr_seasonal, label=f\"Seasonal ROC (AUC = {auc_seasonal:.4f})\")\n",
    "plt.plot([0, 1], [0, 1], 'k--')\n",
    "plt.xlim([0.0,1.0])\n",
    "plt.ylim([0.0,1.0])\n",
    "plt.xlabel('False Positive Rate')\n",
    "plt.ylabel('True Positive Rate')\n",
    "plt.title('ROC Curves for H1N1 and Seasonal Vaccine Models')\n",
    "plt.legend(loc='lower right')\n",
    "plt.grid(True)\n",
    "plt.show()"
   ]
  },
  {
   "cell_type": "markdown",
   "id": "7f89e8a3",
   "metadata": {},
   "source": [
    "#### PREDICT ON TEST SET & SAVE SUBMISSION"
   ]
  },
  {
   "cell_type": "code",
   "execution_count": 72,
   "id": "5555ee8a",
   "metadata": {},
   "outputs": [],
   "source": [
    "test_X = pd.read_csv('test_set_features.csv',index_col='respondent_id')"
   ]
  },
  {
   "cell_type": "code",
   "execution_count": 76,
   "id": "501c20c1",
   "metadata": {},
   "outputs": [
    {
     "data": {
      "text/html": [
       "<div>\n",
       "<style scoped>\n",
       "    .dataframe tbody tr th:only-of-type {\n",
       "        vertical-align: middle;\n",
       "    }\n",
       "\n",
       "    .dataframe tbody tr th {\n",
       "        vertical-align: top;\n",
       "    }\n",
       "\n",
       "    .dataframe thead th {\n",
       "        text-align: right;\n",
       "    }\n",
       "</style>\n",
       "<table border=\"1\" class=\"dataframe\">\n",
       "  <thead>\n",
       "    <tr style=\"text-align: right;\">\n",
       "      <th></th>\n",
       "      <th>h1n1_concern</th>\n",
       "      <th>h1n1_knowledge</th>\n",
       "      <th>behavioral_antiviral_meds</th>\n",
       "      <th>behavioral_avoidance</th>\n",
       "      <th>behavioral_face_mask</th>\n",
       "      <th>behavioral_wash_hands</th>\n",
       "      <th>behavioral_large_gatherings</th>\n",
       "      <th>behavioral_outside_home</th>\n",
       "      <th>behavioral_touch_face</th>\n",
       "      <th>doctor_recc_h1n1</th>\n",
       "      <th>doctor_recc_seasonal</th>\n",
       "      <th>chronic_med_condition</th>\n",
       "      <th>child_under_6_months</th>\n",
       "      <th>health_worker</th>\n",
       "      <th>health_insurance</th>\n",
       "      <th>opinion_h1n1_vacc_effective</th>\n",
       "      <th>opinion_h1n1_risk</th>\n",
       "      <th>opinion_h1n1_sick_from_vacc</th>\n",
       "      <th>opinion_seas_vacc_effective</th>\n",
       "      <th>opinion_seas_risk</th>\n",
       "      <th>opinion_seas_sick_from_vacc</th>\n",
       "      <th>age_group</th>\n",
       "      <th>education</th>\n",
       "      <th>race</th>\n",
       "      <th>sex</th>\n",
       "      <th>income_poverty</th>\n",
       "      <th>marital_status</th>\n",
       "      <th>rent_or_own</th>\n",
       "      <th>employment_status</th>\n",
       "      <th>hhs_geo_region</th>\n",
       "      <th>census_msa</th>\n",
       "      <th>household_adults</th>\n",
       "      <th>household_children</th>\n",
       "      <th>employment_industry</th>\n",
       "      <th>employment_occupation</th>\n",
       "    </tr>\n",
       "    <tr>\n",
       "      <th>respondent_id</th>\n",
       "      <th></th>\n",
       "      <th></th>\n",
       "      <th></th>\n",
       "      <th></th>\n",
       "      <th></th>\n",
       "      <th></th>\n",
       "      <th></th>\n",
       "      <th></th>\n",
       "      <th></th>\n",
       "      <th></th>\n",
       "      <th></th>\n",
       "      <th></th>\n",
       "      <th></th>\n",
       "      <th></th>\n",
       "      <th></th>\n",
       "      <th></th>\n",
       "      <th></th>\n",
       "      <th></th>\n",
       "      <th></th>\n",
       "      <th></th>\n",
       "      <th></th>\n",
       "      <th></th>\n",
       "      <th></th>\n",
       "      <th></th>\n",
       "      <th></th>\n",
       "      <th></th>\n",
       "      <th></th>\n",
       "      <th></th>\n",
       "      <th></th>\n",
       "      <th></th>\n",
       "      <th></th>\n",
       "      <th></th>\n",
       "      <th></th>\n",
       "      <th></th>\n",
       "      <th></th>\n",
       "    </tr>\n",
       "  </thead>\n",
       "  <tbody>\n",
       "    <tr>\n",
       "      <th>26707</th>\n",
       "      <td>2.0</td>\n",
       "      <td>2.0</td>\n",
       "      <td>0.0</td>\n",
       "      <td>1.0</td>\n",
       "      <td>0.0</td>\n",
       "      <td>1.0</td>\n",
       "      <td>1.0</td>\n",
       "      <td>0.0</td>\n",
       "      <td>1.0</td>\n",
       "      <td>0.0</td>\n",
       "      <td>0.0</td>\n",
       "      <td>0.0</td>\n",
       "      <td>0.0</td>\n",
       "      <td>0.0</td>\n",
       "      <td>1.0</td>\n",
       "      <td>5.0</td>\n",
       "      <td>1.0</td>\n",
       "      <td>1.0</td>\n",
       "      <td>5.0</td>\n",
       "      <td>1.0</td>\n",
       "      <td>1.0</td>\n",
       "      <td>35 - 44 Years</td>\n",
       "      <td>College Graduate</td>\n",
       "      <td>Hispanic</td>\n",
       "      <td>Female</td>\n",
       "      <td>&gt; $75,000</td>\n",
       "      <td>Not Married</td>\n",
       "      <td>Rent</td>\n",
       "      <td>Employed</td>\n",
       "      <td>mlyzmhmf</td>\n",
       "      <td>MSA, Not Principle  City</td>\n",
       "      <td>1.0</td>\n",
       "      <td>0.0</td>\n",
       "      <td>atmlpfrs</td>\n",
       "      <td>hfxkjkmi</td>\n",
       "    </tr>\n",
       "    <tr>\n",
       "      <th>26708</th>\n",
       "      <td>1.0</td>\n",
       "      <td>1.0</td>\n",
       "      <td>0.0</td>\n",
       "      <td>0.0</td>\n",
       "      <td>0.0</td>\n",
       "      <td>0.0</td>\n",
       "      <td>0.0</td>\n",
       "      <td>0.0</td>\n",
       "      <td>0.0</td>\n",
       "      <td>0.0</td>\n",
       "      <td>0.0</td>\n",
       "      <td>0.0</td>\n",
       "      <td>0.0</td>\n",
       "      <td>0.0</td>\n",
       "      <td>0.0</td>\n",
       "      <td>4.0</td>\n",
       "      <td>1.0</td>\n",
       "      <td>1.0</td>\n",
       "      <td>4.0</td>\n",
       "      <td>1.0</td>\n",
       "      <td>1.0</td>\n",
       "      <td>18 - 34 Years</td>\n",
       "      <td>12 Years</td>\n",
       "      <td>White</td>\n",
       "      <td>Male</td>\n",
       "      <td>Below Poverty</td>\n",
       "      <td>Not Married</td>\n",
       "      <td>Rent</td>\n",
       "      <td>Employed</td>\n",
       "      <td>bhuqouqj</td>\n",
       "      <td>Non-MSA</td>\n",
       "      <td>3.0</td>\n",
       "      <td>0.0</td>\n",
       "      <td>atmlpfrs</td>\n",
       "      <td>xqwwgdyp</td>\n",
       "    </tr>\n",
       "  </tbody>\n",
       "</table>\n",
       "</div>"
      ],
      "text/plain": [
       "               h1n1_concern  h1n1_knowledge  behavioral_antiviral_meds  \\\n",
       "respondent_id                                                            \n",
       "26707                   2.0             2.0                        0.0   \n",
       "26708                   1.0             1.0                        0.0   \n",
       "\n",
       "               behavioral_avoidance  behavioral_face_mask  \\\n",
       "respondent_id                                               \n",
       "26707                           1.0                   0.0   \n",
       "26708                           0.0                   0.0   \n",
       "\n",
       "               behavioral_wash_hands  behavioral_large_gatherings  \\\n",
       "respondent_id                                                       \n",
       "26707                            1.0                          1.0   \n",
       "26708                            0.0                          0.0   \n",
       "\n",
       "               behavioral_outside_home  behavioral_touch_face  \\\n",
       "respondent_id                                                   \n",
       "26707                              0.0                    1.0   \n",
       "26708                              0.0                    0.0   \n",
       "\n",
       "               doctor_recc_h1n1  doctor_recc_seasonal  chronic_med_condition  \\\n",
       "respondent_id                                                                  \n",
       "26707                       0.0                   0.0                    0.0   \n",
       "26708                       0.0                   0.0                    0.0   \n",
       "\n",
       "               child_under_6_months  health_worker  health_insurance  \\\n",
       "respondent_id                                                          \n",
       "26707                           0.0            0.0               1.0   \n",
       "26708                           0.0            0.0               0.0   \n",
       "\n",
       "               opinion_h1n1_vacc_effective  opinion_h1n1_risk  \\\n",
       "respondent_id                                                   \n",
       "26707                                  5.0                1.0   \n",
       "26708                                  4.0                1.0   \n",
       "\n",
       "               opinion_h1n1_sick_from_vacc  opinion_seas_vacc_effective  \\\n",
       "respondent_id                                                             \n",
       "26707                                  1.0                          5.0   \n",
       "26708                                  1.0                          4.0   \n",
       "\n",
       "               opinion_seas_risk  opinion_seas_sick_from_vacc      age_group  \\\n",
       "respondent_id                                                                  \n",
       "26707                        1.0                          1.0  35 - 44 Years   \n",
       "26708                        1.0                          1.0  18 - 34 Years   \n",
       "\n",
       "                      education      race     sex income_poverty  \\\n",
       "respondent_id                                                      \n",
       "26707          College Graduate  Hispanic  Female      > $75,000   \n",
       "26708                  12 Years     White    Male  Below Poverty   \n",
       "\n",
       "              marital_status rent_or_own employment_status hhs_geo_region  \\\n",
       "respondent_id                                                               \n",
       "26707            Not Married        Rent          Employed       mlyzmhmf   \n",
       "26708            Not Married        Rent          Employed       bhuqouqj   \n",
       "\n",
       "                             census_msa  household_adults  household_children  \\\n",
       "respondent_id                                                                   \n",
       "26707          MSA, Not Principle  City               1.0                 0.0   \n",
       "26708                           Non-MSA               3.0                 0.0   \n",
       "\n",
       "              employment_industry employment_occupation  \n",
       "respondent_id                                            \n",
       "26707                    atmlpfrs              hfxkjkmi  \n",
       "26708                    atmlpfrs              xqwwgdyp  "
      ]
     },
     "execution_count": 76,
     "metadata": {},
     "output_type": "execute_result"
    }
   ],
   "source": [
    "test_X[:2]"
   ]
  },
  {
   "cell_type": "code",
   "execution_count": 73,
   "id": "7d1025f3",
   "metadata": {},
   "outputs": [],
   "source": [
    "test_preds = final_model.predict_proba(test_X)\n",
    "\n",
    "h1n1_preds = test_preds[0][:, 1]\n",
    "seasonal_preds = test_preds[1][:, 1]"
   ]
  },
  {
   "cell_type": "code",
   "execution_count": 74,
   "id": "08541aa1",
   "metadata": {},
   "outputs": [],
   "source": [
    "submission_df = pd.read_csv(\"./submission_format.csv\", \n",
    "                            index_col=\"respondent_id\")"
   ]
  },
  {
   "cell_type": "code",
   "execution_count": 77,
   "id": "1f61a71e",
   "metadata": {},
   "outputs": [
    {
     "data": {
      "text/html": [
       "<div>\n",
       "<style scoped>\n",
       "    .dataframe tbody tr th:only-of-type {\n",
       "        vertical-align: middle;\n",
       "    }\n",
       "\n",
       "    .dataframe tbody tr th {\n",
       "        vertical-align: top;\n",
       "    }\n",
       "\n",
       "    .dataframe thead th {\n",
       "        text-align: right;\n",
       "    }\n",
       "</style>\n",
       "<table border=\"1\" class=\"dataframe\">\n",
       "  <thead>\n",
       "    <tr style=\"text-align: right;\">\n",
       "      <th></th>\n",
       "      <th>h1n1_vaccine</th>\n",
       "      <th>seasonal_vaccine</th>\n",
       "    </tr>\n",
       "    <tr>\n",
       "      <th>respondent_id</th>\n",
       "      <th></th>\n",
       "      <th></th>\n",
       "    </tr>\n",
       "  </thead>\n",
       "  <tbody>\n",
       "    <tr>\n",
       "      <th>26707</th>\n",
       "      <td>0.111694</td>\n",
       "      <td>0.281963</td>\n",
       "    </tr>\n",
       "    <tr>\n",
       "      <th>26708</th>\n",
       "      <td>0.025578</td>\n",
       "      <td>0.035299</td>\n",
       "    </tr>\n",
       "    <tr>\n",
       "      <th>26709</th>\n",
       "      <td>0.254745</td>\n",
       "      <td>0.745437</td>\n",
       "    </tr>\n",
       "    <tr>\n",
       "      <th>26710</th>\n",
       "      <td>0.709785</td>\n",
       "      <td>0.880832</td>\n",
       "    </tr>\n",
       "    <tr>\n",
       "      <th>26711</th>\n",
       "      <td>0.265577</td>\n",
       "      <td>0.405771</td>\n",
       "    </tr>\n",
       "  </tbody>\n",
       "</table>\n",
       "</div>"
      ],
      "text/plain": [
       "               h1n1_vaccine  seasonal_vaccine\n",
       "respondent_id                                \n",
       "26707              0.111694          0.281963\n",
       "26708              0.025578          0.035299\n",
       "26709              0.254745          0.745437\n",
       "26710              0.709785          0.880832\n",
       "26711              0.265577          0.405771"
      ]
     },
     "execution_count": 77,
     "metadata": {},
     "output_type": "execute_result"
    }
   ],
   "source": [
    "# Make sure we have the rows in the same order\n",
    "np.testing.assert_array_equal(test_X.index.values, \n",
    "                              submission_df.index.values)\n",
    "\n",
    "# Save predictions to submission data frame\n",
    "submission_df[\"h1n1_vaccine\"] = h1n1_preds\n",
    "submission_df[\"seasonal_vaccine\"] = seasonal_preds\n",
    "\n",
    "submission_df.head()"
   ]
  },
  {
   "cell_type": "code",
   "execution_count": 78,
   "id": "4e368440",
   "metadata": {},
   "outputs": [],
   "source": [
    "submission_df.to_csv('submission_format.csv', index=True)"
   ]
  },
  {
   "cell_type": "code",
   "execution_count": 82,
   "id": "b2679311",
   "metadata": {},
   "outputs": [
    {
     "name": "stdout",
     "output_type": "stream",
     "text": [
      "   respondent_id  h1n1_vaccine  seasonal_vaccine\n",
      "0          26707      0.111694          0.281963\n",
      "1          26708      0.025578          0.035299\n",
      "2          26709      0.254745          0.745437\n",
      "3          26710      0.709785          0.880832\n",
      "4          26711      0.265577          0.405771\n",
      "       respondent_id  h1n1_vaccine  seasonal_vaccine\n",
      "26703          53410      0.164202          0.469479\n",
      "26704          53411      0.183653          0.383022\n",
      "26705          53412      0.172015          0.186268\n",
      "26706          53413      0.033604          0.268050\n",
      "26707          53414      0.616164          0.768034\n"
     ]
    }
   ],
   "source": [
    "df = pd.read_csv('submission_format.csv')\n",
    "print(df.head(5))\n",
    "print(df.tail(5))"
   ]
  },
  {
   "cell_type": "code",
   "execution_count": null,
   "id": "4db0825a",
   "metadata": {},
   "outputs": [],
   "source": []
  }
 ],
 "metadata": {
  "kernelspec": {
   "display_name": "Python 3 (ipykernel)",
   "language": "python",
   "name": "python3"
  },
  "language_info": {
   "codemirror_mode": {
    "name": "ipython",
    "version": 3
   },
   "file_extension": ".py",
   "mimetype": "text/x-python",
   "name": "python",
   "nbconvert_exporter": "python",
   "pygments_lexer": "ipython3",
   "version": "3.8.6"
  },
  "toc": {
   "base_numbering": 1,
   "nav_menu": {},
   "number_sections": false,
   "sideBar": true,
   "skip_h1_title": false,
   "title_cell": "Table of Contents",
   "title_sidebar": "Contents",
   "toc_cell": false,
   "toc_position": {},
   "toc_section_display": true,
   "toc_window_display": false
  }
 },
 "nbformat": 4,
 "nbformat_minor": 5
}
